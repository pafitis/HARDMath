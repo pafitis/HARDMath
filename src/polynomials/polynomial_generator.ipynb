{
 "cells": [
  {
   "cell_type": "code",
   "execution_count": 1,
   "metadata": {},
   "outputs": [],
   "source": [
    "# Imports\n",
    "import signal\n",
    "import numpy as np\n",
    "import pandas as pd\n",
    "from sympy import *\n",
    "from tqdm import tqdm\n",
    "\n",
    "from type1 import *\n",
    "from type2 import *\n",
    "from type4 import * # type4 already imports type3\n",
    "from verify import *\n",
    "from deduplication import *"
   ]
  },
  {
   "cell_type": "markdown",
   "metadata": {},
   "source": [
    "## Generate Polynomial Question and Answer Data Samples"
   ]
  },
  {
   "cell_type": "code",
   "execution_count": 2,
   "metadata": {},
   "outputs": [],
   "source": [
    "# Number of desired problems to generate for each type:\n",
    "n_problems = 200\n",
    "\n",
    "eval_path = '../../data/train/small_batch_examples/' \n",
    "data_path = '../../data/train/final_csvs/' "
   ]
  },
  {
   "cell_type": "markdown",
   "metadata": {},
   "source": [
    "### Type 1: Symbolic Nondimensionalisation\n",
    "\n",
    "Note: deduplication is included in `nondimensionalize_polynomial1` function. These solutions do not require rounding of numerical values. "
   ]
  },
  {
   "cell_type": "code",
   "execution_count": 3,
   "metadata": {},
   "outputs": [],
   "source": [
    "# Eval problems for comparison\n",
    "type_1_eval_path = 'polynomial_type_1_100.xlsx'\n",
    "\n",
    "# Create empty dataframe\n",
    "df = pd.DataFrame(columns=['question', 'solution', \n",
    "                           'question_type', 'answer_type',\n",
    "                           'extracted_answer',\n",
    "                           'small_eval_point', 'small_analytical', 'small_numerical',\n",
    "                           'large_eval_point', 'large_analytical', 'large_numerical'])\n",
    "\n",
    "# Function to generate type 1 problems and add to df\n",
    "def generate_and_add_problem(df):\n",
    "    n1, n2 = generate_n1n2(max_degree=25)\n",
    "    res = nondimensionalize_polynomial1(n1, n2, type_1_eval_path)\n",
    "    if res is not None:\n",
    "        question, answer, question_type, answer_type, extracted_answer = res\n",
    "        row_df = pd.DataFrame({'question': [question],\n",
    "                               'solution': [answer],\n",
    "                               'question_type': [question_type],\n",
    "                               'answer_type': [answer_type],\n",
    "                               'extracted_answer': [extracted_answer],\n",
    "                               'small_eval_point': [None],\n",
    "                               'small_analytical': [None],\n",
    "                               'small_numerical': [None],\n",
    "                               'large_eval_point': [None],\n",
    "                               'large_analytical': [None],\n",
    "                               'large_numerical': [None]})\n",
    "        df = pd.concat([df, row_df], ignore_index=True)\n",
    "    return df\n",
    "\n",
    "\n",
    "# Generate n_problems\n",
    "while len(df) < n_problems:\n",
    "    df = generate_and_add_problem(df)\n",
    "\n",
    "\n",
    "# Save to csv\n",
    "# df.to_csv(data_path + f'polynomial_type_1_{n_problems}.csv', index=False)\n",
    "df.to_csv(f'polynomial_type_1_{n_problems}.csv', index=False)"
   ]
  },
  {
   "cell_type": "markdown",
   "metadata": {},
   "source": [
    "### Type 2: Numeric Nondimensionalisation\n",
    "\n",
    "Note: rounding already implemented in function."
   ]
  },
  {
   "cell_type": "code",
   "execution_count": 5,
   "metadata": {},
   "outputs": [],
   "source": [
    "# Eval problems for comparison\n",
    "type_2_eval_path = 'polynomial_type_2_100.xlsx'\n",
    "type_2_data = pd.read_excel(type_2_eval_path)\n",
    "\n",
    "# Create empty dataframe\n",
    "df = pd.DataFrame(columns=['question', 'solution', \n",
    "                           'question_type', 'answer_type',\n",
    "                           'extracted_answer',\n",
    "                           'small_eval_point', 'small_analytical', 'small_numerical',\n",
    "                           'large_eval_point', 'large_analytical', 'large_numerical'])\n",
    "\n",
    "# Function to generate type 2 questions and add to dataframe\n",
    "def generate_and_add_problem(df):\n",
    "    while True:\n",
    "        coefficients = generate_polynomial(max_degree=10, num_terms=3, coeff_bounds=[-10, 10])\n",
    "        new_poly_latex = latex(sympy_polynomial_from_coefficients(coefficients))\n",
    "\n",
    "        if q_exists(new_poly_latex, type_2_data):\n",
    "            print('Question already exists in eval set. Generating again.')\n",
    "            continue\n",
    "          \n",
    "        question, answer, question_type, answer_type, extracted_answer = nondimensionalize_polynomial2(coefficients)\n",
    "        row_df = pd.DataFrame({'question': [question],\n",
    "                               'solution': [answer],\n",
    "                               'question_type': [question_type],\n",
    "                               'answer_type': [answer_type],\n",
    "                               'extracted_answer': [extracted_answer],\n",
    "                               'small_eval_point': [None],\n",
    "                               'small_analytical': [None],\n",
    "                               'small_numerical': [None],\n",
    "                               'large_eval_point': [None],\n",
    "                               'large_analytical': [None],\n",
    "                               'large_numerical': [None]})\n",
    "        df = pd.concat([df, row_df], ignore_index=True)\n",
    "        break\n",
    "    \n",
    "    return df\n",
    "\n",
    "\n",
    "# Generate n_problems\n",
    "while len(df) < n_problems:\n",
    "    df = generate_and_add_problem(df)\n",
    "\n",
    "\n",
    "# Save to csv\n",
    "# df.to_csv(data_path + f'polynomial_type_2_{n_problems}.csv', index=False)\n",
    "df.to_csv(f'polynomial_type_2_{n_problems}.csv', index=False)"
   ]
  },
  {
   "cell_type": "markdown",
   "metadata": {},
   "source": [
    "### Type 3: Root-finding"
   ]
  },
  {
   "cell_type": "code",
   "execution_count": 7,
   "metadata": {},
   "outputs": [
    {
     "name": "stderr",
     "output_type": "stream",
     "text": [
      "/var/folders/88/dz760h_j197bwmcvghz9mrkh0000gn/T/ipykernel_65634/1740040853.py:44: FutureWarning: The behavior of DataFrame concatenation with empty or all-NA entries is deprecated. In a future version, this will no longer exclude empty or all-NA columns when determining the result dtypes. To retain the old behavior, exclude the relevant entries before the concat operation.\n",
      "  df = pd.concat([df, row_df], ignore_index=True)\n"
     ]
    }
   ],
   "source": [
    "# check against existing set:\n",
    "type_3_eval_path = eval_path + 'polynomial_type_3_100.xlsx'\n",
    "type_3_data = pd.read_excel(type_3_eval_path)\n",
    "\n",
    "# Create empty dataframe\n",
    "df = pd.DataFrame(columns=['question', 'solution', \n",
    "                           'question_type', 'answer_type',\n",
    "                           'extracted_answer',\n",
    "                           'small_eval_point', 'small_analytical', 'small_numerical',\n",
    "                           'large_eval_point', 'large_analytical', 'large_numerical'])\n",
    "\n",
    "\n",
    "# Function to generate type 3 questions and add them to a df\n",
    "def generate_and_add_problem(df):\n",
    "    while True:\n",
    "        polynomial = generate_nondimensionalized(10)  # Example function to generate polynomial\n",
    "        \n",
    "        if q_exists(latex(polynomial), type_3_data):\n",
    "            #print('Question already exists in eval set. Generating again.')\n",
    "            continue\n",
    "        \n",
    "        soln_info, q, a, q_type, a_type, extracted_answer = solve_roots(polynomial)  # Example function to solve roots\n",
    "        \n",
    "        # Check validity of roots\n",
    "        good_roots, comparisons = check_roots(soln_info, polynomial, x_var=x, eps_var=eps, corr=False)  # Example function to check roots\n",
    "        \n",
    "        if good_roots:\n",
    "            # Convert complex numbers in comparisons to np.complex128\n",
    "            small_analytical = [[np.complex128(complex(x, y)) for x, y in comparisons[0][1]]]\n",
    "            large_analytical = [[np.complex128(complex(x, y)) for x, y in comparisons[1][1]]]\n",
    "            \n",
    "            # Add row for the new question and answer to the dataframe\n",
    "            row_df = pd.DataFrame({'question': [q],\n",
    "                                   'solution': [a],\n",
    "                                   'question_type': [q_type],\n",
    "                                   'answer_type': [a_type],\n",
    "                                   'extracted_answer': [extracted_answer],\n",
    "                                   'small_eval_point': [0.01],\n",
    "                                   'small_analytical': [small_analytical],\n",
    "                                   'small_numerical': [comparisons[0][0]],\n",
    "                                   'large_eval_point': [100],\n",
    "                                   'large_analytical': [large_analytical],\n",
    "                                   'large_numerical': [comparisons[1][0]]})\n",
    "            df = pd.concat([df, row_df], ignore_index=True)\n",
    "            break\n",
    "        else:\n",
    "            # print(f\"Approximation for polynomial {polynomial} not good enough. Trying again.\")\n",
    "            pass\n",
    "    \n",
    "    return df\n",
    "\n",
    "# Generate n_problems\n",
    "while len(df) < n_problems:\n",
    "    df = generate_and_add_problem(df)"
   ]
  },
  {
   "cell_type": "code",
   "execution_count": 8,
   "metadata": {},
   "outputs": [
    {
     "name": "stdout",
     "output_type": "stream",
     "text": [
      "150\n"
     ]
    }
   ],
   "source": [
    "print(len(df))"
   ]
  },
  {
   "cell_type": "code",
   "execution_count": 9,
   "metadata": {},
   "outputs": [],
   "source": [
    "for i in range(len(df)): \n",
    "    df.loc[i,'solution']=round_numbers_in_string(df.loc[i, 'solution'])\n",
    "    df.loc[i,'extracted_answer']=round_numbers_in_string(df.loc[i,'extracted_answer'])"
   ]
  },
  {
   "cell_type": "code",
   "execution_count": 11,
   "metadata": {},
   "outputs": [],
   "source": [
    "# Save dataframe to csv\n",
    "df.to_csv(data_path + f'polynomial_type_3_{len(df)}.csv', index=False)"
   ]
  },
  {
   "cell_type": "markdown",
   "metadata": {},
   "source": [
    "### Type 4: Root-finding with Correction Terms\n",
    "\n",
    "Note: there is currently no Type 4 evaluation set to check against, so we don't need to worry about duplicate problems. "
   ]
  },
  {
   "cell_type": "code",
   "execution_count": 10,
   "metadata": {},
   "outputs": [],
   "source": [
    "TIMEOUT = 5 # seconds\n",
    "\n",
    "def timeout(func, args=(), kwargs={}, timeout_duration=TIMEOUT):\n",
    "    def handler(signum, frame):\n",
    "        raise TimeoutError(\"Function timed out\")\n",
    "\n",
    "    # Set up the signal handler for SIGALRM\n",
    "    old_handler = signal.signal(signal.SIGALRM, handler)\n",
    "    try:\n",
    "        # Start the alarm clock\n",
    "        signal.alarm(timeout_duration)\n",
    "        try:\n",
    "            # Execute the function with specified arguments and keyword arguments\n",
    "            result = func(*args, **kwargs)\n",
    "        except Exception as e:\n",
    "            # Catch any exception raised by the function\n",
    "            result = e\n",
    "    finally:\n",
    "        # Restore the original signal handler\n",
    "        signal.signal(signal.SIGALRM, old_handler)\n",
    "        # Cancel the alarm clock\n",
    "        signal.alarm(0)\n",
    "\n",
    "    # Check if a TimeoutError was raised\n",
    "    if isinstance(result, TimeoutError):\n",
    "        raise TimeoutError(f\"Function execution exceeded {timeout_duration} seconds\")\n",
    "    else:\n",
    "        return result"
   ]
  },
  {
   "cell_type": "code",
   "execution_count": 11,
   "metadata": {},
   "outputs": [
    {
     "name": "stderr",
     "output_type": "stream",
     "text": [
      " 18%|█▊        | 27/150 [04:55<22:24, 10.93s/it]\n",
      "/var/folders/88/dz760h_j197bwmcvghz9mrkh0000gn/T/ipykernel_66559/82854495.py:51: FutureWarning: The behavior of DataFrame concatenation with empty or all-NA entries is deprecated. In a future version, this will no longer exclude empty or all-NA columns when determining the result dtypes. To retain the old behavior, exclude the relevant entries before the concat operation.\n",
      "  df = pd.concat([df, row_df], ignore_index=True)\n"
     ]
    },
    {
     "name": "stdout",
     "output_type": "stream",
     "text": [
      "Timeout occurred. Trying again.\n"
     ]
    },
    {
     "name": "stderr",
     "output_type": "stream",
     "text": []
    },
    {
     "name": "stdout",
     "output_type": "stream",
     "text": [
      "Timeout occurred. Trying again.\n",
      "Timeout occurred. Trying again.\n"
     ]
    },
    {
     "name": "stderr",
     "output_type": "stream",
     "text": []
    },
    {
     "name": "stdout",
     "output_type": "stream",
     "text": [
      "Timeout occurred. Trying again.\n"
     ]
    },
    {
     "name": "stderr",
     "output_type": "stream",
     "text": []
    },
    {
     "name": "stdout",
     "output_type": "stream",
     "text": [
      "Timeout occurred. Trying again.\n",
      "Timeout occurred. Trying again.\n"
     ]
    },
    {
     "name": "stderr",
     "output_type": "stream",
     "text": []
    },
    {
     "name": "stdout",
     "output_type": "stream",
     "text": [
      "Timeout occurred. Trying again.\n"
     ]
    },
    {
     "name": "stderr",
     "output_type": "stream",
     "text": []
    },
    {
     "name": "stdout",
     "output_type": "stream",
     "text": [
      "Timeout occurred. Trying again.\n"
     ]
    },
    {
     "name": "stderr",
     "output_type": "stream",
     "text": []
    },
    {
     "name": "stdout",
     "output_type": "stream",
     "text": [
      "Timeout occurred. Trying again.\n"
     ]
    },
    {
     "name": "stderr",
     "output_type": "stream",
     "text": []
    },
    {
     "name": "stdout",
     "output_type": "stream",
     "text": [
      "Timeout occurred. Trying again.\n"
     ]
    },
    {
     "name": "stderr",
     "output_type": "stream",
     "text": []
    },
    {
     "name": "stdout",
     "output_type": "stream",
     "text": [
      "Timeout occurred. Trying again.\n",
      "Timeout occurred. Trying again.\n"
     ]
    },
    {
     "name": "stderr",
     "output_type": "stream",
     "text": []
    },
    {
     "name": "stdout",
     "output_type": "stream",
     "text": [
      "Timeout occurred. Trying again.\n",
      "Timeout occurred. Trying again.\n",
      "Timeout occurred. Trying again.\n"
     ]
    },
    {
     "name": "stderr",
     "output_type": "stream",
     "text": []
    },
    {
     "name": "stdout",
     "output_type": "stream",
     "text": [
      "Timeout occurred. Trying again.\n"
     ]
    },
    {
     "name": "stderr",
     "output_type": "stream",
     "text": []
    },
    {
     "name": "stdout",
     "output_type": "stream",
     "text": [
      "Timeout occurred. Trying again.\n",
      "Timeout occurred. Trying again.\n",
      "Timeout occurred. Trying again.\n"
     ]
    },
    {
     "name": "stderr",
     "output_type": "stream",
     "text": []
    },
    {
     "name": "stdout",
     "output_type": "stream",
     "text": [
      "Timeout occurred. Trying again.\n",
      "Timeout occurred. Trying again.\n"
     ]
    },
    {
     "name": "stderr",
     "output_type": "stream",
     "text": []
    },
    {
     "name": "stdout",
     "output_type": "stream",
     "text": [
      "Timeout occurred. Trying again.\n",
      "Timeout occurred. Trying again.\n",
      "Timeout occurred. Trying again.\n",
      "Timeout occurred. Trying again.\n"
     ]
    },
    {
     "name": "stderr",
     "output_type": "stream",
     "text": []
    },
    {
     "name": "stdout",
     "output_type": "stream",
     "text": [
      "Timeout occurred. Trying again.\n"
     ]
    },
    {
     "name": "stderr",
     "output_type": "stream",
     "text": []
    },
    {
     "name": "stdout",
     "output_type": "stream",
     "text": [
      "Timeout occurred. Trying again.\n"
     ]
    },
    {
     "name": "stderr",
     "output_type": "stream",
     "text": []
    },
    {
     "name": "stdout",
     "output_type": "stream",
     "text": [
      "Timeout occurred. Trying again.\n",
      "Timeout occurred. Trying again.\n",
      "Timeout occurred. Trying again.\n",
      "Timeout occurred. Trying again.\n",
      "Timeout occurred. Trying again.\n",
      "Timeout occurred. Trying again.\n",
      "Timeout occurred. Trying again.\n",
      "Timeout occurred. Trying again.\n",
      "Timeout occurred. Trying again.\n",
      "Timeout occurred. Trying again.\n",
      "Timeout occurred. Trying again.\n"
     ]
    },
    {
     "name": "stderr",
     "output_type": "stream",
     "text": []
    },
    {
     "name": "stdout",
     "output_type": "stream",
     "text": [
      "Timeout occurred. Trying again.\n",
      "Timeout occurred. Trying again.\n",
      "Timeout occurred. Trying again.\n",
      "Timeout occurred. Trying again.\n"
     ]
    },
    {
     "name": "stderr",
     "output_type": "stream",
     "text": []
    },
    {
     "name": "stdout",
     "output_type": "stream",
     "text": [
      "Timeout occurred. Trying again.\n",
      "Timeout occurred. Trying again.\n"
     ]
    },
    {
     "name": "stderr",
     "output_type": "stream",
     "text": []
    },
    {
     "name": "stdout",
     "output_type": "stream",
     "text": [
      "Timeout occurred. Trying again.\n"
     ]
    },
    {
     "name": "stderr",
     "output_type": "stream",
     "text": []
    },
    {
     "name": "stdout",
     "output_type": "stream",
     "text": [
      "Timeout occurred. Trying again.\n"
     ]
    },
    {
     "name": "stderr",
     "output_type": "stream",
     "text": []
    },
    {
     "name": "stdout",
     "output_type": "stream",
     "text": [
      "Timeout occurred. Trying again.\n"
     ]
    },
    {
     "name": "stderr",
     "output_type": "stream",
     "text": []
    },
    {
     "name": "stdout",
     "output_type": "stream",
     "text": [
      "Timeout occurred. Trying again.\n"
     ]
    },
    {
     "name": "stderr",
     "output_type": "stream",
     "text": []
    },
    {
     "name": "stdout",
     "output_type": "stream",
     "text": [
      "Timeout occurred. Trying again.\n"
     ]
    },
    {
     "name": "stderr",
     "output_type": "stream",
     "text": []
    },
    {
     "name": "stdout",
     "output_type": "stream",
     "text": [
      "Timeout occurred. Trying again.\n",
      "Timeout occurred. Trying again.\n"
     ]
    },
    {
     "name": "stderr",
     "output_type": "stream",
     "text": []
    },
    {
     "name": "stdout",
     "output_type": "stream",
     "text": [
      "Timeout occurred. Trying again.\n",
      "Timeout occurred. Trying again.\n",
      "Timeout occurred. Trying again.\n",
      "Timeout occurred. Trying again.\n",
      "Timeout occurred. Trying again.\n"
     ]
    },
    {
     "name": "stderr",
     "output_type": "stream",
     "text": []
    },
    {
     "name": "stdout",
     "output_type": "stream",
     "text": [
      "Timeout occurred. Trying again.\n",
      "Timeout occurred. Trying again.\n",
      "Timeout occurred. Trying again.\n"
     ]
    },
    {
     "name": "stderr",
     "output_type": "stream",
     "text": []
    },
    {
     "name": "stdout",
     "output_type": "stream",
     "text": [
      "Timeout occurred. Trying again.\n",
      "Timeout occurred. Trying again.\n",
      "Timeout occurred. Trying again.\n",
      "Timeout occurred. Trying again.\n",
      "Timeout occurred. Trying again.\n"
     ]
    },
    {
     "name": "stderr",
     "output_type": "stream",
     "text": []
    },
    {
     "name": "stdout",
     "output_type": "stream",
     "text": [
      "Timeout occurred. Trying again.\n",
      "Timeout occurred. Trying again.\n",
      "Timeout occurred. Trying again.\n"
     ]
    },
    {
     "name": "stderr",
     "output_type": "stream",
     "text": []
    },
    {
     "name": "stdout",
     "output_type": "stream",
     "text": [
      "Timeout occurred. Trying again.\n",
      "Timeout occurred. Trying again.\n",
      "Timeout occurred. Trying again.\n"
     ]
    },
    {
     "name": "stderr",
     "output_type": "stream",
     "text": []
    },
    {
     "name": "stdout",
     "output_type": "stream",
     "text": [
      "Timeout occurred. Trying again.\n"
     ]
    },
    {
     "name": "stderr",
     "output_type": "stream",
     "text": []
    },
    {
     "name": "stdout",
     "output_type": "stream",
     "text": [
      "Timeout occurred. Trying again.\n",
      "Timeout occurred. Trying again.\n",
      "Approximation for polynomial epsilon*x**6 + x - 1 not good enough. Trying again.\n",
      "Timeout occurred. Trying again.\n"
     ]
    },
    {
     "name": "stderr",
     "output_type": "stream",
     "text": []
    },
    {
     "name": "stdout",
     "output_type": "stream",
     "text": [
      "Timeout occurred. Trying again.\n"
     ]
    },
    {
     "name": "stderr",
     "output_type": "stream",
     "text": []
    },
    {
     "name": "stdout",
     "output_type": "stream",
     "text": [
      "Timeout occurred. Trying again.\n",
      "Timeout occurred. Trying again.\n"
     ]
    },
    {
     "name": "stderr",
     "output_type": "stream",
     "text": []
    },
    {
     "name": "stdout",
     "output_type": "stream",
     "text": [
      "Timeout occurred. Trying again.\n",
      "Timeout occurred. Trying again.\n",
      "Timeout occurred. Trying again.\n"
     ]
    },
    {
     "name": "stderr",
     "output_type": "stream",
     "text": []
    },
    {
     "name": "stdout",
     "output_type": "stream",
     "text": [
      "Timeout occurred. Trying again.\n",
      "Timeout occurred. Trying again.\n"
     ]
    },
    {
     "name": "stderr",
     "output_type": "stream",
     "text": []
    },
    {
     "name": "stdout",
     "output_type": "stream",
     "text": [
      "Timeout occurred. Trying again.\n"
     ]
    },
    {
     "name": "stderr",
     "output_type": "stream",
     "text": []
    },
    {
     "name": "stdout",
     "output_type": "stream",
     "text": [
      "Timeout occurred. Trying again.\n",
      "Timeout occurred. Trying again.\n"
     ]
    },
    {
     "name": "stderr",
     "output_type": "stream",
     "text": []
    },
    {
     "name": "stdout",
     "output_type": "stream",
     "text": [
      "Timeout occurred. Trying again.\n",
      "Timeout occurred. Trying again.\n",
      "Timeout occurred. Trying again.\n",
      "Timeout occurred. Trying again.\n",
      "Timeout occurred. Trying again.\n"
     ]
    },
    {
     "name": "stderr",
     "output_type": "stream",
     "text": []
    },
    {
     "name": "stdout",
     "output_type": "stream",
     "text": [
      "Timeout occurred. Trying again.\n",
      "Timeout occurred. Trying again.\n",
      "Timeout occurred. Trying again.\n",
      "Timeout occurred. Trying again.\n"
     ]
    },
    {
     "name": "stderr",
     "output_type": "stream",
     "text": []
    },
    {
     "name": "stdout",
     "output_type": "stream",
     "text": [
      "Timeout occurred. Trying again.\n",
      "Timeout occurred. Trying again.\n",
      "Timeout occurred. Trying again.\n",
      "Timeout occurred. Trying again.\n"
     ]
    },
    {
     "name": "stderr",
     "output_type": "stream",
     "text": []
    },
    {
     "name": "stdout",
     "output_type": "stream",
     "text": [
      "Timeout occurred. Trying again.\n"
     ]
    },
    {
     "name": "stderr",
     "output_type": "stream",
     "text": []
    },
    {
     "name": "stdout",
     "output_type": "stream",
     "text": [
      "Timeout occurred. Trying again.\n"
     ]
    },
    {
     "name": "stderr",
     "output_type": "stream",
     "text": []
    },
    {
     "name": "stdout",
     "output_type": "stream",
     "text": [
      "Timeout occurred. Trying again.\n",
      "Timeout occurred. Trying again.\n"
     ]
    },
    {
     "name": "stderr",
     "output_type": "stream",
     "text": []
    },
    {
     "name": "stdout",
     "output_type": "stream",
     "text": [
      "Timeout occurred. Trying again.\n"
     ]
    },
    {
     "name": "stderr",
     "output_type": "stream",
     "text": [
      "Exception ignored in: <bound method IPythonKernel._clean_thread_parent_frames of <ipykernel.ipkernel.IPythonKernel object at 0x1029d1400>>\n",
      "Traceback (most recent call last):\n",
      "  File \"/Users/smart/Library/Python/3.9/lib/python/site-packages/ipykernel/ipkernel.py\", line 775, in _clean_thread_parent_frames\n",
      "    def _clean_thread_parent_frames(\n",
      "  File \"/var/folders/88/dz760h_j197bwmcvghz9mrkh0000gn/T/ipykernel_66559/1606000727.py\", line 5, in handler\n",
      "TimeoutError: Function timed out\n"
     ]
    },
    {
     "ename": "KeyboardInterrupt",
     "evalue": "",
     "output_type": "error",
     "traceback": [
      "\u001b[0;31m---------------------------------------------------------------------------\u001b[0m",
      "\u001b[0;31mKeyboardInterrupt\u001b[0m                         Traceback (most recent call last)",
      "Cell \u001b[0;32mIn[11], line 15\u001b[0m\n\u001b[1;32m     12\u001b[0m \u001b[38;5;28;01mtry\u001b[39;00m:\n\u001b[1;32m     13\u001b[0m     \u001b[38;5;66;03m# Problem type 3\u001b[39;00m\n\u001b[1;32m     14\u001b[0m     polynomial \u001b[38;5;241m=\u001b[39m generate_nondimensionalized(\u001b[38;5;241m10\u001b[39m)\n\u001b[0;32m---> 15\u001b[0m     soln_info, q, a, q_type, a_type, extracted_answer3 \u001b[38;5;241m=\u001b[39m \u001b[43msolve_roots\u001b[49m\u001b[43m(\u001b[49m\u001b[43mpolynomial\u001b[49m\u001b[43m)\u001b[49m\n\u001b[1;32m     17\u001b[0m     \u001b[38;5;66;03m# Problem type 4\u001b[39;00m\n\u001b[1;32m     18\u001b[0m     x, eps \u001b[38;5;241m=\u001b[39m symbols(\u001b[38;5;124m'\u001b[39m\u001b[38;5;124mx epsilon\u001b[39m\u001b[38;5;124m'\u001b[39m)\n",
      "File \u001b[0;32m~/Documents/Projects/GenAI/AM201-Dataset/Code/Polynomials/type3.py:56\u001b[0m, in \u001b[0;36msolve_roots\u001b[0;34m(polynomial)\u001b[0m\n\u001b[1;32m     54\u001b[0m sol_ab \u001b[38;5;241m=\u001b[39m [simplify(sol) \u001b[38;5;28;01mfor\u001b[39;00m sol \u001b[38;5;129;01min\u001b[39;00m solve(A \u001b[38;5;241m+\u001b[39m B, x)]\n\u001b[1;32m     55\u001b[0m sol_bc \u001b[38;5;241m=\u001b[39m [simplify(sol) \u001b[38;5;28;01mfor\u001b[39;00m sol \u001b[38;5;129;01min\u001b[39;00m solve(B \u001b[38;5;241m+\u001b[39m C, x)]\n\u001b[0;32m---> 56\u001b[0m sol_ac \u001b[38;5;241m=\u001b[39m [simplify(sol) \u001b[38;5;28;01mfor\u001b[39;00m sol \u001b[38;5;129;01min\u001b[39;00m solve(A \u001b[38;5;241m+\u001b[39m C, x)]\n\u001b[1;32m     58\u001b[0m \u001b[38;5;66;03m# Remove extraneous root 0 that shows up - bc it never occurs in this problem formulation\u001b[39;00m\n\u001b[1;32m     59\u001b[0m \u001b[38;5;28;01mdef\u001b[39;00m \u001b[38;5;21mremove_zeros\u001b[39m(sol_list):\n\u001b[1;32m     60\u001b[0m     \u001b[38;5;66;03m# Helper function to remove zeros\u001b[39;00m\n",
      "File \u001b[0;32m~/Documents/Projects/GenAI/AM201-Dataset/Code/Polynomials/type3.py:56\u001b[0m, in \u001b[0;36m<listcomp>\u001b[0;34m(.0)\u001b[0m\n\u001b[1;32m     54\u001b[0m sol_ab \u001b[38;5;241m=\u001b[39m [simplify(sol) \u001b[38;5;28;01mfor\u001b[39;00m sol \u001b[38;5;129;01min\u001b[39;00m solve(A \u001b[38;5;241m+\u001b[39m B, x)]\n\u001b[1;32m     55\u001b[0m sol_bc \u001b[38;5;241m=\u001b[39m [simplify(sol) \u001b[38;5;28;01mfor\u001b[39;00m sol \u001b[38;5;129;01min\u001b[39;00m solve(B \u001b[38;5;241m+\u001b[39m C, x)]\n\u001b[0;32m---> 56\u001b[0m sol_ac \u001b[38;5;241m=\u001b[39m [\u001b[43msimplify\u001b[49m\u001b[43m(\u001b[49m\u001b[43msol\u001b[49m\u001b[43m)\u001b[49m \u001b[38;5;28;01mfor\u001b[39;00m sol \u001b[38;5;129;01min\u001b[39;00m solve(A \u001b[38;5;241m+\u001b[39m C, x)]\n\u001b[1;32m     58\u001b[0m \u001b[38;5;66;03m# Remove extraneous root 0 that shows up - bc it never occurs in this problem formulation\u001b[39;00m\n\u001b[1;32m     59\u001b[0m \u001b[38;5;28;01mdef\u001b[39;00m \u001b[38;5;21mremove_zeros\u001b[39m(sol_list):\n\u001b[1;32m     60\u001b[0m     \u001b[38;5;66;03m# Helper function to remove zeros\u001b[39;00m\n",
      "File \u001b[0;32m~/Library/Python/3.9/lib/python/site-packages/sympy/simplify/simplify.py:699\u001b[0m, in \u001b[0;36msimplify\u001b[0;34m(expr, ratio, measure, rational, inverse, doit, **kwargs)\u001b[0m\n\u001b[1;32m    696\u001b[0m     expr \u001b[38;5;241m=\u001b[39m besselsimp(expr)\n\u001b[1;32m    698\u001b[0m \u001b[38;5;28;01mif\u001b[39;00m expr\u001b[38;5;241m.\u001b[39mhas(TrigonometricFunction, HyperbolicFunction):\n\u001b[0;32m--> 699\u001b[0m     expr \u001b[38;5;241m=\u001b[39m \u001b[43mtrigsimp\u001b[49m\u001b[43m(\u001b[49m\u001b[43mexpr\u001b[49m\u001b[43m,\u001b[49m\u001b[43m \u001b[49m\u001b[43mdeep\u001b[49m\u001b[38;5;241;43m=\u001b[39;49m\u001b[38;5;28;43;01mTrue\u001b[39;49;00m\u001b[43m)\u001b[49m\n\u001b[1;32m    701\u001b[0m \u001b[38;5;28;01mif\u001b[39;00m expr\u001b[38;5;241m.\u001b[39mhas(log):\n\u001b[1;32m    702\u001b[0m     expr \u001b[38;5;241m=\u001b[39m shorter(expand_log(expr, deep\u001b[38;5;241m=\u001b[39m\u001b[38;5;28;01mTrue\u001b[39;00m), logcombine(expr))\n",
      "File \u001b[0;32m~/Library/Python/3.9/lib/python/site-packages/sympy/simplify/trigsimp.py:564\u001b[0m, in \u001b[0;36mtrigsimp\u001b[0;34m(expr, inverse, **opts)\u001b[0m\n\u001b[1;32m    553\u001b[0m     \u001b[38;5;28;01mreturn\u001b[39;00m trigsimp_groebner(new, \u001b[38;5;241m*\u001b[39m\u001b[38;5;241m*\u001b[39mopts)\n\u001b[1;32m    555\u001b[0m trigsimpfunc \u001b[38;5;241m=\u001b[39m {\n\u001b[1;32m    556\u001b[0m     \u001b[38;5;124m'\u001b[39m\u001b[38;5;124mfu\u001b[39m\u001b[38;5;124m'\u001b[39m: (\u001b[38;5;28;01mlambda\u001b[39;00m x: fu(x, \u001b[38;5;241m*\u001b[39m\u001b[38;5;241m*\u001b[39mopts)),\n\u001b[1;32m    557\u001b[0m     \u001b[38;5;124m'\u001b[39m\u001b[38;5;124mmatching\u001b[39m\u001b[38;5;124m'\u001b[39m: (\u001b[38;5;28;01mlambda\u001b[39;00m x: futrig(x)),\n\u001b[0;32m   (...)\u001b[0m\n\u001b[1;32m    561\u001b[0m     \u001b[38;5;124m'\u001b[39m\u001b[38;5;124mold\u001b[39m\u001b[38;5;124m'\u001b[39m: \u001b[38;5;28;01mlambda\u001b[39;00m x: trigsimp_old(x, \u001b[38;5;241m*\u001b[39m\u001b[38;5;241m*\u001b[39mopts),\n\u001b[1;32m    562\u001b[0m                }[method]\n\u001b[0;32m--> 564\u001b[0m expr_simplified \u001b[38;5;241m=\u001b[39m \u001b[43mtrigsimpfunc\u001b[49m\u001b[43m(\u001b[49m\u001b[43mexpr\u001b[49m\u001b[43m)\u001b[49m\n\u001b[1;32m    565\u001b[0m \u001b[38;5;28;01mif\u001b[39;00m inverse:\n\u001b[1;32m    566\u001b[0m     expr_simplified \u001b[38;5;241m=\u001b[39m _trigsimp_inverse(expr_simplified)\n",
      "File \u001b[0;32m~/Library/Python/3.9/lib/python/site-packages/sympy/simplify/trigsimp.py:557\u001b[0m, in \u001b[0;36mtrigsimp.<locals>.<lambda>\u001b[0;34m(x)\u001b[0m\n\u001b[1;32m    552\u001b[0m         \u001b[38;5;28;01mreturn\u001b[39;00m new\n\u001b[1;32m    553\u001b[0m     \u001b[38;5;28;01mreturn\u001b[39;00m trigsimp_groebner(new, \u001b[38;5;241m*\u001b[39m\u001b[38;5;241m*\u001b[39mopts)\n\u001b[1;32m    555\u001b[0m trigsimpfunc \u001b[38;5;241m=\u001b[39m {\n\u001b[1;32m    556\u001b[0m     \u001b[38;5;124m'\u001b[39m\u001b[38;5;124mfu\u001b[39m\u001b[38;5;124m'\u001b[39m: (\u001b[38;5;28;01mlambda\u001b[39;00m x: fu(x, \u001b[38;5;241m*\u001b[39m\u001b[38;5;241m*\u001b[39mopts)),\n\u001b[0;32m--> 557\u001b[0m     \u001b[38;5;124m'\u001b[39m\u001b[38;5;124mmatching\u001b[39m\u001b[38;5;124m'\u001b[39m: (\u001b[38;5;28;01mlambda\u001b[39;00m x: \u001b[43mfutrig\u001b[49m\u001b[43m(\u001b[49m\u001b[43mx\u001b[49m\u001b[43m)\u001b[49m),\n\u001b[1;32m    558\u001b[0m     \u001b[38;5;124m'\u001b[39m\u001b[38;5;124mgroebner\u001b[39m\u001b[38;5;124m'\u001b[39m: (\u001b[38;5;28;01mlambda\u001b[39;00m x: groebnersimp(x, \u001b[38;5;241m*\u001b[39m\u001b[38;5;241m*\u001b[39mopts)),\n\u001b[1;32m    559\u001b[0m     \u001b[38;5;124m'\u001b[39m\u001b[38;5;124mcombined\u001b[39m\u001b[38;5;124m'\u001b[39m: (\u001b[38;5;28;01mlambda\u001b[39;00m x: futrig(groebnersimp(x,\n\u001b[1;32m    560\u001b[0m                            polynomial\u001b[38;5;241m=\u001b[39m\u001b[38;5;28;01mTrue\u001b[39;00m, hints\u001b[38;5;241m=\u001b[39m[\u001b[38;5;241m2\u001b[39m, tan]))),\n\u001b[1;32m    561\u001b[0m     \u001b[38;5;124m'\u001b[39m\u001b[38;5;124mold\u001b[39m\u001b[38;5;124m'\u001b[39m: \u001b[38;5;28;01mlambda\u001b[39;00m x: trigsimp_old(x, \u001b[38;5;241m*\u001b[39m\u001b[38;5;241m*\u001b[39mopts),\n\u001b[1;32m    562\u001b[0m                }[method]\n\u001b[1;32m    564\u001b[0m expr_simplified \u001b[38;5;241m=\u001b[39m trigsimpfunc(expr)\n\u001b[1;32m    565\u001b[0m \u001b[38;5;28;01mif\u001b[39;00m inverse:\n",
      "File \u001b[0;32m~/Library/Python/3.9/lib/python/site-packages/sympy/simplify/trigsimp.py:1158\u001b[0m, in \u001b[0;36mfutrig\u001b[0;34m(e, hyper, **kwargs)\u001b[0m\n\u001b[1;32m   1155\u001b[0m     \u001b[38;5;28;01mreturn\u001b[39;00m e\n\u001b[1;32m   1157\u001b[0m old \u001b[38;5;241m=\u001b[39m e\n\u001b[0;32m-> 1158\u001b[0m e \u001b[38;5;241m=\u001b[39m \u001b[43mbottom_up\u001b[49m\u001b[43m(\u001b[49m\u001b[43me\u001b[49m\u001b[43m,\u001b[49m\u001b[43m \u001b[49m\u001b[43m_futrig\u001b[49m\u001b[43m)\u001b[49m\n\u001b[1;32m   1160\u001b[0m \u001b[38;5;28;01mif\u001b[39;00m hyper \u001b[38;5;129;01mand\u001b[39;00m e\u001b[38;5;241m.\u001b[39mhas(HyperbolicFunction):\n\u001b[1;32m   1161\u001b[0m     e, f \u001b[38;5;241m=\u001b[39m hyper_as_trig(e)\n",
      "File \u001b[0;32m~/Library/Python/3.9/lib/python/site-packages/sympy/core/traversal.py:239\u001b[0m, in \u001b[0;36mbottom_up\u001b[0;34m(rv, F, atoms, nonbasic)\u001b[0m\n\u001b[1;32m    237\u001b[0m     \u001b[38;5;28;01mif\u001b[39;00m args \u001b[38;5;241m!=\u001b[39m rv\u001b[38;5;241m.\u001b[39margs:\n\u001b[1;32m    238\u001b[0m         rv \u001b[38;5;241m=\u001b[39m rv\u001b[38;5;241m.\u001b[39mfunc(\u001b[38;5;241m*\u001b[39margs)\n\u001b[0;32m--> 239\u001b[0m     rv \u001b[38;5;241m=\u001b[39m \u001b[43mF\u001b[49m\u001b[43m(\u001b[49m\u001b[43mrv\u001b[49m\u001b[43m)\u001b[49m\n\u001b[1;32m    240\u001b[0m \u001b[38;5;28;01melif\u001b[39;00m atoms:\n\u001b[1;32m    241\u001b[0m     rv \u001b[38;5;241m=\u001b[39m F(rv)\n",
      "File \u001b[0;32m~/Library/Python/3.9/lib/python/site-packages/sympy/simplify/trigsimp.py:1225\u001b[0m, in \u001b[0;36m_futrig\u001b[0;34m(e)\u001b[0m\n\u001b[1;32m   1186\u001b[0m trigs \u001b[38;5;241m=\u001b[39m \u001b[38;5;28;01mlambda\u001b[39;00m x: x\u001b[38;5;241m.\u001b[39mhas(TrigonometricFunction)\n\u001b[1;32m   1188\u001b[0m tree \u001b[38;5;241m=\u001b[39m [identity,\n\u001b[1;32m   1189\u001b[0m     (\n\u001b[1;32m   1190\u001b[0m     TR3,  \u001b[38;5;66;03m# canonical angles\u001b[39;00m\n\u001b[0;32m   (...)\u001b[0m\n\u001b[1;32m   1223\u001b[0m         factor_terms, TR12(x), trigs)],  \u001b[38;5;66;03m# expand tan of sum\u001b[39;00m\n\u001b[1;32m   1224\u001b[0m     )]\n\u001b[0;32m-> 1225\u001b[0m e \u001b[38;5;241m=\u001b[39m \u001b[43mgreedy\u001b[49m\u001b[43m(\u001b[49m\u001b[43mtree\u001b[49m\u001b[43m,\u001b[49m\u001b[43m \u001b[49m\u001b[43mobjective\u001b[49m\u001b[38;5;241;43m=\u001b[39;49m\u001b[43mLops\u001b[49m\u001b[43m)\u001b[49m\u001b[43m(\u001b[49m\u001b[43me\u001b[49m\u001b[43m)\u001b[49m\n\u001b[1;32m   1227\u001b[0m \u001b[38;5;28;01mif\u001b[39;00m coeff \u001b[38;5;129;01mis\u001b[39;00m \u001b[38;5;129;01mnot\u001b[39;00m \u001b[38;5;28;01mNone\u001b[39;00m:\n\u001b[1;32m   1228\u001b[0m     e \u001b[38;5;241m=\u001b[39m coeff \u001b[38;5;241m*\u001b[39m e\n",
      "File \u001b[0;32m~/Library/Python/3.9/lib/python/site-packages/sympy/strategies/core.py:150\u001b[0m, in \u001b[0;36mminimize.<locals>.minrule\u001b[0;34m(expr)\u001b[0m\n\u001b[1;32m    149\u001b[0m \u001b[38;5;28;01mdef\u001b[39;00m \u001b[38;5;21mminrule\u001b[39m(expr: _S) \u001b[38;5;241m-\u001b[39m\u001b[38;5;241m>\u001b[39m _T:\n\u001b[0;32m--> 150\u001b[0m     \u001b[38;5;28;01mreturn\u001b[39;00m \u001b[38;5;28mmin\u001b[39m([rule(expr) \u001b[38;5;28;01mfor\u001b[39;00m rule \u001b[38;5;129;01min\u001b[39;00m rules], key\u001b[38;5;241m=\u001b[39mobjective)\n",
      "File \u001b[0;32m~/Library/Python/3.9/lib/python/site-packages/sympy/strategies/core.py:150\u001b[0m, in \u001b[0;36m<listcomp>\u001b[0;34m(.0)\u001b[0m\n\u001b[1;32m    149\u001b[0m \u001b[38;5;28;01mdef\u001b[39;00m \u001b[38;5;21mminrule\u001b[39m(expr: _S) \u001b[38;5;241m-\u001b[39m\u001b[38;5;241m>\u001b[39m _T:\n\u001b[0;32m--> 150\u001b[0m     \u001b[38;5;28;01mreturn\u001b[39;00m \u001b[38;5;28mmin\u001b[39m([\u001b[43mrule\u001b[49m\u001b[43m(\u001b[49m\u001b[43mexpr\u001b[49m\u001b[43m)\u001b[49m \u001b[38;5;28;01mfor\u001b[39;00m rule \u001b[38;5;129;01min\u001b[39;00m rules], key\u001b[38;5;241m=\u001b[39mobjective)\n",
      "File \u001b[0;32m~/Library/Python/3.9/lib/python/site-packages/sympy/strategies/core.py:64\u001b[0m, in \u001b[0;36mchain.<locals>.chain_rl\u001b[0;34m(expr)\u001b[0m\n\u001b[1;32m     62\u001b[0m \u001b[38;5;28;01mdef\u001b[39;00m \u001b[38;5;21mchain_rl\u001b[39m(expr: _T) \u001b[38;5;241m-\u001b[39m\u001b[38;5;241m>\u001b[39m _T:\n\u001b[1;32m     63\u001b[0m     \u001b[38;5;28;01mfor\u001b[39;00m rule \u001b[38;5;129;01min\u001b[39;00m rules:\n\u001b[0;32m---> 64\u001b[0m         expr \u001b[38;5;241m=\u001b[39m \u001b[43mrule\u001b[49m\u001b[43m(\u001b[49m\u001b[43mexpr\u001b[49m\u001b[43m)\u001b[49m\n\u001b[1;32m     65\u001b[0m     \u001b[38;5;28;01mreturn\u001b[39;00m expr\n",
      "File \u001b[0;32m~/Library/Python/3.9/lib/python/site-packages/sympy/simplify/trigsimp.py:1202\u001b[0m, in \u001b[0;36m_futrig.<locals>.<lambda>\u001b[0;34m(x)\u001b[0m\n\u001b[1;32m   1185\u001b[0m Lops \u001b[38;5;241m=\u001b[39m \u001b[38;5;28;01mlambda\u001b[39;00m x: (L(x), x\u001b[38;5;241m.\u001b[39mcount_ops(), _nodes(x), \u001b[38;5;28mlen\u001b[39m(x\u001b[38;5;241m.\u001b[39margs), x\u001b[38;5;241m.\u001b[39mis_Add)\n\u001b[1;32m   1186\u001b[0m trigs \u001b[38;5;241m=\u001b[39m \u001b[38;5;28;01mlambda\u001b[39;00m x: x\u001b[38;5;241m.\u001b[39mhas(TrigonometricFunction)\n\u001b[1;32m   1188\u001b[0m tree \u001b[38;5;241m=\u001b[39m [identity,\n\u001b[1;32m   1189\u001b[0m     (\n\u001b[1;32m   1190\u001b[0m     TR3,  \u001b[38;5;66;03m# canonical angles\u001b[39;00m\n\u001b[1;32m   1191\u001b[0m     TR1,  \u001b[38;5;66;03m# sec-csc -> cos-sin\u001b[39;00m\n\u001b[1;32m   1192\u001b[0m     TR12,  \u001b[38;5;66;03m# expand tan of sum\u001b[39;00m\n\u001b[1;32m   1193\u001b[0m     \u001b[38;5;28;01mlambda\u001b[39;00m x: _eapply(factor, x, trigs),\n\u001b[1;32m   1194\u001b[0m     TR2,  \u001b[38;5;66;03m# tan-cot -> sin-cos\u001b[39;00m\n\u001b[1;32m   1195\u001b[0m     [identity, \u001b[38;5;28;01mlambda\u001b[39;00m x: _eapply(_mexpand, x, trigs)],\n\u001b[1;32m   1196\u001b[0m     TR2i,  \u001b[38;5;66;03m# sin-cos ratio -> tan\u001b[39;00m\n\u001b[1;32m   1197\u001b[0m     \u001b[38;5;28;01mlambda\u001b[39;00m x: _eapply(\u001b[38;5;28;01mlambda\u001b[39;00m i: factor(i\u001b[38;5;241m.\u001b[39mnormal()), x, trigs),\n\u001b[1;32m   1198\u001b[0m     TR14,  \u001b[38;5;66;03m# factored identities\u001b[39;00m\n\u001b[1;32m   1199\u001b[0m     TR5,  \u001b[38;5;66;03m# sin-pow -> cos_pow\u001b[39;00m\n\u001b[1;32m   1200\u001b[0m     TR10,  \u001b[38;5;66;03m# sin-cos of sums -> sin-cos prod\u001b[39;00m\n\u001b[1;32m   1201\u001b[0m     TR11, _TR11, TR6, \u001b[38;5;66;03m# reduce double angles and rewrite cos pows\u001b[39;00m\n\u001b[0;32m-> 1202\u001b[0m     \u001b[38;5;28;01mlambda\u001b[39;00m x: \u001b[43m_eapply\u001b[49m\u001b[43m(\u001b[49m\u001b[43mfactor\u001b[49m\u001b[43m,\u001b[49m\u001b[43m \u001b[49m\u001b[43mx\u001b[49m\u001b[43m,\u001b[49m\u001b[43m \u001b[49m\u001b[43mtrigs\u001b[49m\u001b[43m)\u001b[49m,\n\u001b[1;32m   1203\u001b[0m     TR14,  \u001b[38;5;66;03m# factored powers of identities\u001b[39;00m\n\u001b[1;32m   1204\u001b[0m     [identity, \u001b[38;5;28;01mlambda\u001b[39;00m x: _eapply(_mexpand, x, trigs)],\n\u001b[1;32m   1205\u001b[0m     TR10i,  \u001b[38;5;66;03m# sin-cos products > sin-cos of sums\u001b[39;00m\n\u001b[1;32m   1206\u001b[0m     TRmorrie,\n\u001b[1;32m   1207\u001b[0m     [identity, TR8],  \u001b[38;5;66;03m# sin-cos products -> sin-cos of sums\u001b[39;00m\n\u001b[1;32m   1208\u001b[0m     [identity, \u001b[38;5;28;01mlambda\u001b[39;00m x: TR2i(TR2(x))],  \u001b[38;5;66;03m# tan -> sin-cos -> tan\u001b[39;00m\n\u001b[1;32m   1209\u001b[0m     [\n\u001b[1;32m   1210\u001b[0m         \u001b[38;5;28;01mlambda\u001b[39;00m x: _eapply(expand_mul, TR5(x), trigs),\n\u001b[1;32m   1211\u001b[0m         \u001b[38;5;28;01mlambda\u001b[39;00m x: _eapply(\n\u001b[1;32m   1212\u001b[0m             expand_mul, TR15(x), trigs)], \u001b[38;5;66;03m# pos/neg powers of sin\u001b[39;00m\n\u001b[1;32m   1213\u001b[0m     [\n\u001b[1;32m   1214\u001b[0m         \u001b[38;5;28;01mlambda\u001b[39;00m x:  _eapply(expand_mul, TR6(x), trigs),\n\u001b[1;32m   1215\u001b[0m         \u001b[38;5;28;01mlambda\u001b[39;00m x:  _eapply(\n\u001b[1;32m   1216\u001b[0m             expand_mul, TR16(x), trigs)], \u001b[38;5;66;03m# pos/neg powers of cos\u001b[39;00m\n\u001b[1;32m   1217\u001b[0m     TR111,  \u001b[38;5;66;03m# tan, sin, cos to neg power -> cot, csc, sec\u001b[39;00m\n\u001b[1;32m   1218\u001b[0m     [identity, TR2i],  \u001b[38;5;66;03m# sin-cos ratio to tan\u001b[39;00m\n\u001b[1;32m   1219\u001b[0m     [identity, \u001b[38;5;28;01mlambda\u001b[39;00m x: _eapply(\n\u001b[1;32m   1220\u001b[0m         expand_mul, TR22(x), trigs)],  \u001b[38;5;66;03m# tan-cot to sec-csc\u001b[39;00m\n\u001b[1;32m   1221\u001b[0m     TR1, TR2, TR2i,\n\u001b[1;32m   1222\u001b[0m     [identity, \u001b[38;5;28;01mlambda\u001b[39;00m x: _eapply(\n\u001b[1;32m   1223\u001b[0m         factor_terms, TR12(x), trigs)],  \u001b[38;5;66;03m# expand tan of sum\u001b[39;00m\n\u001b[1;32m   1224\u001b[0m     )]\n\u001b[1;32m   1225\u001b[0m e \u001b[38;5;241m=\u001b[39m greedy(tree, objective\u001b[38;5;241m=\u001b[39mLops)(e)\n\u001b[1;32m   1227\u001b[0m \u001b[38;5;28;01mif\u001b[39;00m coeff \u001b[38;5;129;01mis\u001b[39;00m \u001b[38;5;129;01mnot\u001b[39;00m \u001b[38;5;28;01mNone\u001b[39;00m:\n",
      "File \u001b[0;32m~/Library/Python/3.9/lib/python/site-packages/sympy/simplify/trigsimp.py:1249\u001b[0m, in \u001b[0;36m_eapply\u001b[0;34m(func, e, cond)\u001b[0m\n\u001b[1;32m   1247\u001b[0m     \u001b[38;5;28;01mreturn\u001b[39;00m e\n\u001b[1;32m   1248\u001b[0m \u001b[38;5;28;01mif\u001b[39;00m _is_Expr(e) \u001b[38;5;129;01mor\u001b[39;00m \u001b[38;5;129;01mnot\u001b[39;00m e\u001b[38;5;241m.\u001b[39margs:\n\u001b[0;32m-> 1249\u001b[0m     \u001b[38;5;28;01mreturn\u001b[39;00m \u001b[43mfunc\u001b[49m\u001b[43m(\u001b[49m\u001b[43me\u001b[49m\u001b[43m)\u001b[49m\n\u001b[1;32m   1250\u001b[0m \u001b[38;5;28;01mreturn\u001b[39;00m e\u001b[38;5;241m.\u001b[39mfunc(\u001b[38;5;241m*\u001b[39m[\n\u001b[1;32m   1251\u001b[0m     _eapply(func, ei) \u001b[38;5;28;01mif\u001b[39;00m (cond \u001b[38;5;129;01mis\u001b[39;00m \u001b[38;5;28;01mNone\u001b[39;00m \u001b[38;5;129;01mor\u001b[39;00m cond(ei)) \u001b[38;5;28;01melse\u001b[39;00m ei\n\u001b[1;32m   1252\u001b[0m     \u001b[38;5;28;01mfor\u001b[39;00m ei \u001b[38;5;129;01min\u001b[39;00m e\u001b[38;5;241m.\u001b[39margs])\n",
      "File \u001b[0;32m~/Library/Python/3.9/lib/python/site-packages/sympy/polys/polytools.py:6542\u001b[0m, in \u001b[0;36mfactor\u001b[0;34m(f, deep, *gens, **args)\u001b[0m\n\u001b[1;32m   6539\u001b[0m     \u001b[38;5;28;01mreturn\u001b[39;00m f\u001b[38;5;241m.\u001b[39mxreplace(partials)\n\u001b[1;32m   6541\u001b[0m \u001b[38;5;28;01mtry\u001b[39;00m:\n\u001b[0;32m-> 6542\u001b[0m     \u001b[38;5;28;01mreturn\u001b[39;00m \u001b[43m_generic_factor\u001b[49m\u001b[43m(\u001b[49m\u001b[43mf\u001b[49m\u001b[43m,\u001b[49m\u001b[43m \u001b[49m\u001b[43mgens\u001b[49m\u001b[43m,\u001b[49m\u001b[43m \u001b[49m\u001b[43margs\u001b[49m\u001b[43m,\u001b[49m\u001b[43m \u001b[49m\u001b[43mmethod\u001b[49m\u001b[38;5;241;43m=\u001b[39;49m\u001b[38;5;124;43m'\u001b[39;49m\u001b[38;5;124;43mfactor\u001b[39;49m\u001b[38;5;124;43m'\u001b[39;49m\u001b[43m)\u001b[49m\n\u001b[1;32m   6543\u001b[0m \u001b[38;5;28;01mexcept\u001b[39;00m PolynomialError \u001b[38;5;28;01mas\u001b[39;00m msg:\n\u001b[1;32m   6544\u001b[0m     \u001b[38;5;28;01mif\u001b[39;00m \u001b[38;5;129;01mnot\u001b[39;00m f\u001b[38;5;241m.\u001b[39mis_commutative:\n",
      "File \u001b[0;32m~/Library/Python/3.9/lib/python/site-packages/sympy/polys/polytools.py:6223\u001b[0m, in \u001b[0;36m_generic_factor\u001b[0;34m(expr, gens, args, method)\u001b[0m\n\u001b[1;32m   6221\u001b[0m opt \u001b[38;5;241m=\u001b[39m options\u001b[38;5;241m.\u001b[39mbuild_options(gens, args)\n\u001b[1;32m   6222\u001b[0m opt[\u001b[38;5;124m'\u001b[39m\u001b[38;5;124mfraction\u001b[39m\u001b[38;5;124m'\u001b[39m] \u001b[38;5;241m=\u001b[39m fraction\n\u001b[0;32m-> 6223\u001b[0m \u001b[38;5;28;01mreturn\u001b[39;00m \u001b[43m_symbolic_factor\u001b[49m\u001b[43m(\u001b[49m\u001b[43msympify\u001b[49m\u001b[43m(\u001b[49m\u001b[43mexpr\u001b[49m\u001b[43m)\u001b[49m\u001b[43m,\u001b[49m\u001b[43m \u001b[49m\u001b[43mopt\u001b[49m\u001b[43m,\u001b[49m\u001b[43m \u001b[49m\u001b[43mmethod\u001b[49m\u001b[43m)\u001b[49m\n",
      "File \u001b[0;32m~/Library/Python/3.9/lib/python/site-packages/sympy/polys/polytools.py:6163\u001b[0m, in \u001b[0;36m_symbolic_factor\u001b[0;34m(expr, opt, method)\u001b[0m\n\u001b[1;32m   6161\u001b[0m     \u001b[38;5;28;01mif\u001b[39;00m \u001b[38;5;28mhasattr\u001b[39m(expr,\u001b[38;5;124m'\u001b[39m\u001b[38;5;124m_eval_factor\u001b[39m\u001b[38;5;124m'\u001b[39m):\n\u001b[1;32m   6162\u001b[0m         \u001b[38;5;28;01mreturn\u001b[39;00m expr\u001b[38;5;241m.\u001b[39m_eval_factor()\n\u001b[0;32m-> 6163\u001b[0m     coeff, factors \u001b[38;5;241m=\u001b[39m \u001b[43m_symbolic_factor_list\u001b[49m\u001b[43m(\u001b[49m\u001b[43mtogether\u001b[49m\u001b[43m(\u001b[49m\u001b[43mexpr\u001b[49m\u001b[43m,\u001b[49m\u001b[43m \u001b[49m\u001b[43mfraction\u001b[49m\u001b[38;5;241;43m=\u001b[39;49m\u001b[43mopt\u001b[49m\u001b[43m[\u001b[49m\u001b[38;5;124;43m'\u001b[39;49m\u001b[38;5;124;43mfraction\u001b[39;49m\u001b[38;5;124;43m'\u001b[39;49m\u001b[43m]\u001b[49m\u001b[43m)\u001b[49m\u001b[43m,\u001b[49m\u001b[43m \u001b[49m\u001b[43mopt\u001b[49m\u001b[43m,\u001b[49m\u001b[43m \u001b[49m\u001b[43mmethod\u001b[49m\u001b[43m)\u001b[49m\n\u001b[1;32m   6164\u001b[0m     \u001b[38;5;28;01mreturn\u001b[39;00m _keep_coeff(coeff, _factors_product(factors))\n\u001b[1;32m   6165\u001b[0m \u001b[38;5;28;01melif\u001b[39;00m \u001b[38;5;28mhasattr\u001b[39m(expr, \u001b[38;5;124m'\u001b[39m\u001b[38;5;124margs\u001b[39m\u001b[38;5;124m'\u001b[39m):\n",
      "File \u001b[0;32m~/Library/Python/3.9/lib/python/site-packages/sympy/polys/polytools.py:6128\u001b[0m, in \u001b[0;36m_symbolic_factor_list\u001b[0;34m(expr, opt, method)\u001b[0m\n\u001b[1;32m   6125\u001b[0m \u001b[38;5;28;01melse\u001b[39;00m:\n\u001b[1;32m   6126\u001b[0m     func \u001b[38;5;241m=\u001b[39m \u001b[38;5;28mgetattr\u001b[39m(poly, method \u001b[38;5;241m+\u001b[39m \u001b[38;5;124m'\u001b[39m\u001b[38;5;124m_list\u001b[39m\u001b[38;5;124m'\u001b[39m)\n\u001b[0;32m-> 6128\u001b[0m     _coeff, _factors \u001b[38;5;241m=\u001b[39m \u001b[43mfunc\u001b[49m\u001b[43m(\u001b[49m\u001b[43m)\u001b[49m\n\u001b[1;32m   6129\u001b[0m     \u001b[38;5;28;01mif\u001b[39;00m _coeff \u001b[38;5;129;01mis\u001b[39;00m \u001b[38;5;129;01mnot\u001b[39;00m S\u001b[38;5;241m.\u001b[39mOne:\n\u001b[1;32m   6130\u001b[0m         \u001b[38;5;28;01mif\u001b[39;00m exp\u001b[38;5;241m.\u001b[39mis_Integer:\n",
      "File \u001b[0;32m~/Library/Python/3.9/lib/python/site-packages/sympy/polys/polytools.py:3350\u001b[0m, in \u001b[0;36mPoly.factor_list\u001b[0;34m(f)\u001b[0m\n\u001b[1;32m   3348\u001b[0m \u001b[38;5;28;01mif\u001b[39;00m \u001b[38;5;28mhasattr\u001b[39m(f\u001b[38;5;241m.\u001b[39mrep, \u001b[38;5;124m'\u001b[39m\u001b[38;5;124mfactor_list\u001b[39m\u001b[38;5;124m'\u001b[39m):\n\u001b[1;32m   3349\u001b[0m     \u001b[38;5;28;01mtry\u001b[39;00m:\n\u001b[0;32m-> 3350\u001b[0m         coeff, factors \u001b[38;5;241m=\u001b[39m \u001b[43mf\u001b[49m\u001b[38;5;241;43m.\u001b[39;49m\u001b[43mrep\u001b[49m\u001b[38;5;241;43m.\u001b[39;49m\u001b[43mfactor_list\u001b[49m\u001b[43m(\u001b[49m\u001b[43m)\u001b[49m\n\u001b[1;32m   3351\u001b[0m     \u001b[38;5;28;01mexcept\u001b[39;00m DomainError:\n\u001b[1;32m   3352\u001b[0m         \u001b[38;5;28;01mreturn\u001b[39;00m S\u001b[38;5;241m.\u001b[39mOne, [(f, \u001b[38;5;241m1\u001b[39m)]\n",
      "File \u001b[0;32m~/Library/Python/3.9/lib/python/site-packages/sympy/polys/polyclasses.py:823\u001b[0m, in \u001b[0;36mDMP.factor_list\u001b[0;34m(f)\u001b[0m\n\u001b[1;32m    821\u001b[0m \u001b[38;5;28;01mdef\u001b[39;00m \u001b[38;5;21mfactor_list\u001b[39m(f):\n\u001b[1;32m    822\u001b[0m \u001b[38;5;250m    \u001b[39m\u001b[38;5;124;03m\"\"\"Returns a list of irreducible factors of ``f``. \"\"\"\u001b[39;00m\n\u001b[0;32m--> 823\u001b[0m     coeff, factors \u001b[38;5;241m=\u001b[39m \u001b[43mdmp_factor_list\u001b[49m\u001b[43m(\u001b[49m\u001b[43mf\u001b[49m\u001b[38;5;241;43m.\u001b[39;49m\u001b[43mrep\u001b[49m\u001b[43m,\u001b[49m\u001b[43m \u001b[49m\u001b[43mf\u001b[49m\u001b[38;5;241;43m.\u001b[39;49m\u001b[43mlev\u001b[49m\u001b[43m,\u001b[49m\u001b[43m \u001b[49m\u001b[43mf\u001b[49m\u001b[38;5;241;43m.\u001b[39;49m\u001b[43mdom\u001b[49m\u001b[43m)\u001b[49m\n\u001b[1;32m    824\u001b[0m     \u001b[38;5;28;01mreturn\u001b[39;00m coeff, [ (f\u001b[38;5;241m.\u001b[39mper(g), k) \u001b[38;5;28;01mfor\u001b[39;00m g, k \u001b[38;5;129;01min\u001b[39;00m factors ]\n",
      "File \u001b[0;32m~/Library/Python/3.9/lib/python/site-packages/sympy/polys/factortools.py:1403\u001b[0m, in \u001b[0;36mdmp_factor_list\u001b[0;34m(f, u, K0)\u001b[0m\n\u001b[1;32m   1401\u001b[0m     coeff, factors \u001b[38;5;241m=\u001b[39m dmp_ext_factor(f, u, K0)\n\u001b[1;32m   1402\u001b[0m \u001b[38;5;28;01melif\u001b[39;00m K0\u001b[38;5;241m.\u001b[39mis_GaussianRing:\n\u001b[0;32m-> 1403\u001b[0m     coeff, factors \u001b[38;5;241m=\u001b[39m \u001b[43mdmp_zz_i_factor\u001b[49m\u001b[43m(\u001b[49m\u001b[43mf\u001b[49m\u001b[43m,\u001b[49m\u001b[43m \u001b[49m\u001b[43mu\u001b[49m\u001b[43m,\u001b[49m\u001b[43m \u001b[49m\u001b[43mK0\u001b[49m\u001b[43m)\u001b[49m\n\u001b[1;32m   1404\u001b[0m \u001b[38;5;28;01melif\u001b[39;00m K0\u001b[38;5;241m.\u001b[39mis_GaussianField:\n\u001b[1;32m   1405\u001b[0m     coeff, factors \u001b[38;5;241m=\u001b[39m dmp_qq_i_factor(f, u, K0)\n",
      "File \u001b[0;32m~/Library/Python/3.9/lib/python/site-packages/sympy/polys/factortools.py:1218\u001b[0m, in \u001b[0;36mdmp_zz_i_factor\u001b[0;34m(f, u, K0)\u001b[0m\n\u001b[1;32m   1216\u001b[0m K1 \u001b[38;5;241m=\u001b[39m K0\u001b[38;5;241m.\u001b[39mget_field()\n\u001b[1;32m   1217\u001b[0m f \u001b[38;5;241m=\u001b[39m dmp_convert(f, u, K0, K1)\n\u001b[0;32m-> 1218\u001b[0m coeff, factors \u001b[38;5;241m=\u001b[39m \u001b[43mdmp_qq_i_factor\u001b[49m\u001b[43m(\u001b[49m\u001b[43mf\u001b[49m\u001b[43m,\u001b[49m\u001b[43m \u001b[49m\u001b[43mu\u001b[49m\u001b[43m,\u001b[49m\u001b[43m \u001b[49m\u001b[43mK1\u001b[49m\u001b[43m)\u001b[49m\n\u001b[1;32m   1220\u001b[0m new_factors \u001b[38;5;241m=\u001b[39m []\n\u001b[1;32m   1221\u001b[0m \u001b[38;5;28;01mfor\u001b[39;00m fac, i \u001b[38;5;129;01min\u001b[39;00m factors:\n\u001b[1;32m   1222\u001b[0m     \u001b[38;5;66;03m# Extract content\u001b[39;00m\n",
      "File \u001b[0;32m~/Library/Python/3.9/lib/python/site-packages/sympy/polys/factortools.py:1207\u001b[0m, in \u001b[0;36mdmp_qq_i_factor\u001b[0;34m(f, u, K0)\u001b[0m\n\u001b[1;32m   1205\u001b[0m K1 \u001b[38;5;241m=\u001b[39m K0\u001b[38;5;241m.\u001b[39mas_AlgebraicField()\n\u001b[1;32m   1206\u001b[0m f \u001b[38;5;241m=\u001b[39m dmp_convert(f, u, K0, K1)\n\u001b[0;32m-> 1207\u001b[0m coeff, factors \u001b[38;5;241m=\u001b[39m \u001b[43mdmp_factor_list\u001b[49m\u001b[43m(\u001b[49m\u001b[43mf\u001b[49m\u001b[43m,\u001b[49m\u001b[43m \u001b[49m\u001b[43mu\u001b[49m\u001b[43m,\u001b[49m\u001b[43m \u001b[49m\u001b[43mK1\u001b[49m\u001b[43m)\u001b[49m\n\u001b[1;32m   1208\u001b[0m factors \u001b[38;5;241m=\u001b[39m [(dmp_convert(fac, u, K1, K0), i) \u001b[38;5;28;01mfor\u001b[39;00m fac, i \u001b[38;5;129;01min\u001b[39;00m factors]\n\u001b[1;32m   1209\u001b[0m coeff \u001b[38;5;241m=\u001b[39m K0\u001b[38;5;241m.\u001b[39mconvert(coeff, K1)\n",
      "File \u001b[0;32m~/Library/Python/3.9/lib/python/site-packages/sympy/polys/factortools.py:1401\u001b[0m, in \u001b[0;36mdmp_factor_list\u001b[0;34m(f, u, K0)\u001b[0m\n\u001b[1;32m   1399\u001b[0m     coeff, factors \u001b[38;5;241m=\u001b[39m dmp_gf_factor(f, u, K0)\n\u001b[1;32m   1400\u001b[0m \u001b[38;5;28;01melif\u001b[39;00m K0\u001b[38;5;241m.\u001b[39mis_Algebraic:\n\u001b[0;32m-> 1401\u001b[0m     coeff, factors \u001b[38;5;241m=\u001b[39m \u001b[43mdmp_ext_factor\u001b[49m\u001b[43m(\u001b[49m\u001b[43mf\u001b[49m\u001b[43m,\u001b[49m\u001b[43m \u001b[49m\u001b[43mu\u001b[49m\u001b[43m,\u001b[49m\u001b[43m \u001b[49m\u001b[43mK0\u001b[49m\u001b[43m)\u001b[49m\n\u001b[1;32m   1402\u001b[0m \u001b[38;5;28;01melif\u001b[39;00m K0\u001b[38;5;241m.\u001b[39mis_GaussianRing:\n\u001b[1;32m   1403\u001b[0m     coeff, factors \u001b[38;5;241m=\u001b[39m dmp_zz_i_factor(f, u, K0)\n",
      "File \u001b[0;32m~/Library/Python/3.9/lib/python/site-packages/sympy/polys/factortools.py:1277\u001b[0m, in \u001b[0;36mdmp_ext_factor\u001b[0;34m(f, u, K)\u001b[0m\n\u001b[1;32m   1274\u001b[0m \u001b[38;5;28;01mif\u001b[39;00m \u001b[38;5;28mall\u001b[39m(d \u001b[38;5;241m<\u001b[39m\u001b[38;5;241m=\u001b[39m \u001b[38;5;241m0\u001b[39m \u001b[38;5;28;01mfor\u001b[39;00m d \u001b[38;5;129;01min\u001b[39;00m dmp_degree_list(f, u)):\n\u001b[1;32m   1275\u001b[0m     \u001b[38;5;28;01mreturn\u001b[39;00m lc, []\n\u001b[0;32m-> 1277\u001b[0m f, F \u001b[38;5;241m=\u001b[39m \u001b[43mdmp_sqf_part\u001b[49m\u001b[43m(\u001b[49m\u001b[43mf\u001b[49m\u001b[43m,\u001b[49m\u001b[43m \u001b[49m\u001b[43mu\u001b[49m\u001b[43m,\u001b[49m\u001b[43m \u001b[49m\u001b[43mK\u001b[49m\u001b[43m)\u001b[49m, f\n\u001b[1;32m   1278\u001b[0m s, g, r \u001b[38;5;241m=\u001b[39m dmp_sqf_norm(f, u, K)\n\u001b[1;32m   1280\u001b[0m factors \u001b[38;5;241m=\u001b[39m dmp_factor_list_include(r, u, K\u001b[38;5;241m.\u001b[39mdom)\n",
      "File \u001b[0;32m~/Library/Python/3.9/lib/python/site-packages/sympy/polys/sqfreetools.py:256\u001b[0m, in \u001b[0;36mdmp_sqf_part\u001b[0;34m(f, u, K)\u001b[0m\n\u001b[1;32m    254\u001b[0m gcd \u001b[38;5;241m=\u001b[39m f\n\u001b[1;32m    255\u001b[0m \u001b[38;5;28;01mfor\u001b[39;00m i \u001b[38;5;129;01min\u001b[39;00m \u001b[38;5;28mrange\u001b[39m(u\u001b[38;5;241m+\u001b[39m\u001b[38;5;241m1\u001b[39m):\n\u001b[0;32m--> 256\u001b[0m     gcd \u001b[38;5;241m=\u001b[39m \u001b[43mdmp_gcd\u001b[49m\u001b[43m(\u001b[49m\u001b[43mgcd\u001b[49m\u001b[43m,\u001b[49m\u001b[43m \u001b[49m\u001b[43mdmp_diff_in\u001b[49m\u001b[43m(\u001b[49m\u001b[43mf\u001b[49m\u001b[43m,\u001b[49m\u001b[43m \u001b[49m\u001b[38;5;241;43m1\u001b[39;49m\u001b[43m,\u001b[49m\u001b[43m \u001b[49m\u001b[43mi\u001b[49m\u001b[43m,\u001b[49m\u001b[43m \u001b[49m\u001b[43mu\u001b[49m\u001b[43m,\u001b[49m\u001b[43m \u001b[49m\u001b[43mK\u001b[49m\u001b[43m)\u001b[49m\u001b[43m,\u001b[49m\u001b[43m \u001b[49m\u001b[43mu\u001b[49m\u001b[43m,\u001b[49m\u001b[43m \u001b[49m\u001b[43mK\u001b[49m\u001b[43m)\u001b[49m\n\u001b[1;32m    257\u001b[0m sqf \u001b[38;5;241m=\u001b[39m dmp_quo(f, gcd, u, K)\n\u001b[1;32m    259\u001b[0m \u001b[38;5;28;01mif\u001b[39;00m K\u001b[38;5;241m.\u001b[39mis_Field:\n",
      "File \u001b[0;32m~/Library/Python/3.9/lib/python/site-packages/sympy/polys/euclidtools.py:1625\u001b[0m, in \u001b[0;36mdmp_gcd\u001b[0;34m(f, g, u, K)\u001b[0m\n\u001b[1;32m   1608\u001b[0m \u001b[38;5;28;01mdef\u001b[39;00m \u001b[38;5;21mdmp_gcd\u001b[39m(f, g, u, K):\n\u001b[1;32m   1609\u001b[0m \u001b[38;5;250m    \u001b[39m\u001b[38;5;124;03m\"\"\"\u001b[39;00m\n\u001b[1;32m   1610\u001b[0m \u001b[38;5;124;03m    Computes polynomial GCD of `f` and `g` in `K[X]`.\u001b[39;00m\n\u001b[1;32m   1611\u001b[0m \n\u001b[0;32m   (...)\u001b[0m\n\u001b[1;32m   1623\u001b[0m \n\u001b[1;32m   1624\u001b[0m \u001b[38;5;124;03m    \"\"\"\u001b[39;00m\n\u001b[0;32m-> 1625\u001b[0m     \u001b[38;5;28;01mreturn\u001b[39;00m \u001b[43mdmp_inner_gcd\u001b[49m\u001b[43m(\u001b[49m\u001b[43mf\u001b[49m\u001b[43m,\u001b[49m\u001b[43m \u001b[49m\u001b[43mg\u001b[49m\u001b[43m,\u001b[49m\u001b[43m \u001b[49m\u001b[43mu\u001b[49m\u001b[43m,\u001b[49m\u001b[43m \u001b[49m\u001b[43mK\u001b[49m\u001b[43m)\u001b[49m[\u001b[38;5;241m0\u001b[39m]\n",
      "File \u001b[0;32m~/Library/Python/3.9/lib/python/site-packages/sympy/polys/euclidtools.py:1584\u001b[0m, in \u001b[0;36mdmp_inner_gcd\u001b[0;34m(f, g, u, K)\u001b[0m\n\u001b[1;32m   1581\u001b[0m     \u001b[38;5;28;01mreturn\u001b[39;00m dup_inner_gcd(f, g, K)\n\u001b[1;32m   1583\u001b[0m J, (f, g) \u001b[38;5;241m=\u001b[39m dmp_multi_deflate((f, g), u, K)\n\u001b[0;32m-> 1584\u001b[0m h, cff, cfg \u001b[38;5;241m=\u001b[39m \u001b[43m_dmp_inner_gcd\u001b[49m\u001b[43m(\u001b[49m\u001b[43mf\u001b[49m\u001b[43m,\u001b[49m\u001b[43m \u001b[49m\u001b[43mg\u001b[49m\u001b[43m,\u001b[49m\u001b[43m \u001b[49m\u001b[43mu\u001b[49m\u001b[43m,\u001b[49m\u001b[43m \u001b[49m\u001b[43mK\u001b[49m\u001b[43m)\u001b[49m\n\u001b[1;32m   1586\u001b[0m \u001b[38;5;28;01mreturn\u001b[39;00m (dmp_inflate(h, J, u, K),\n\u001b[1;32m   1587\u001b[0m         dmp_inflate(cff, J, u, K),\n\u001b[1;32m   1588\u001b[0m         dmp_inflate(cfg, J, u, K))\n",
      "File \u001b[0;32m~/Library/Python/3.9/lib/python/site-packages/sympy/polys/euclidtools.py:1549\u001b[0m, in \u001b[0;36m_dmp_inner_gcd\u001b[0;34m(f, g, u, K)\u001b[0m\n\u001b[1;32m   1546\u001b[0m         \u001b[38;5;28;01mexcept\u001b[39;00m HeuristicGCDFailed:\n\u001b[1;32m   1547\u001b[0m             \u001b[38;5;28;01mpass\u001b[39;00m\n\u001b[0;32m-> 1549\u001b[0m     \u001b[38;5;28;01mreturn\u001b[39;00m \u001b[43mdmp_ff_prs_gcd\u001b[49m\u001b[43m(\u001b[49m\u001b[43mf\u001b[49m\u001b[43m,\u001b[49m\u001b[43m \u001b[49m\u001b[43mg\u001b[49m\u001b[43m,\u001b[49m\u001b[43m \u001b[49m\u001b[43mu\u001b[49m\u001b[43m,\u001b[49m\u001b[43m \u001b[49m\u001b[43mK\u001b[49m\u001b[43m)\u001b[49m\n\u001b[1;32m   1550\u001b[0m \u001b[38;5;28;01melse\u001b[39;00m:\n\u001b[1;32m   1551\u001b[0m     \u001b[38;5;28;01mif\u001b[39;00m K\u001b[38;5;241m.\u001b[39mis_ZZ \u001b[38;5;129;01mand\u001b[39;00m query(\u001b[38;5;124m'\u001b[39m\u001b[38;5;124mUSE_HEU_GCD\u001b[39m\u001b[38;5;124m'\u001b[39m):\n",
      "File \u001b[0;32m~/Library/Python/3.9/lib/python/site-packages/sympy/polys/euclidtools.py:1106\u001b[0m, in \u001b[0;36mdmp_ff_prs_gcd\u001b[0;34m(f, g, u, K)\u001b[0m\n\u001b[1;32m   1103\u001b[0m \u001b[38;5;28;01mif\u001b[39;00m \u001b[38;5;129;01mnot\u001b[39;00m u:\n\u001b[1;32m   1104\u001b[0m     \u001b[38;5;28;01mreturn\u001b[39;00m dup_ff_prs_gcd(f, g, K)\n\u001b[0;32m-> 1106\u001b[0m result \u001b[38;5;241m=\u001b[39m \u001b[43m_dmp_ff_trivial_gcd\u001b[49m\u001b[43m(\u001b[49m\u001b[43mf\u001b[49m\u001b[43m,\u001b[49m\u001b[43m \u001b[49m\u001b[43mg\u001b[49m\u001b[43m,\u001b[49m\u001b[43m \u001b[49m\u001b[43mu\u001b[49m\u001b[43m,\u001b[49m\u001b[43m \u001b[49m\u001b[43mK\u001b[49m\u001b[43m)\u001b[49m\n\u001b[1;32m   1108\u001b[0m \u001b[38;5;28;01mif\u001b[39;00m result \u001b[38;5;129;01mis\u001b[39;00m \u001b[38;5;129;01mnot\u001b[39;00m \u001b[38;5;28;01mNone\u001b[39;00m:\n\u001b[1;32m   1109\u001b[0m     \u001b[38;5;28;01mreturn\u001b[39;00m result\n",
      "File \u001b[0;32m~/Library/Python/3.9/lib/python/site-packages/sympy/polys/euclidtools.py:933\u001b[0m, in \u001b[0;36m_dmp_ff_trivial_gcd\u001b[0;34m(f, g, u, K)\u001b[0m\n\u001b[1;32m    929\u001b[0m     \u001b[38;5;28;01mreturn\u001b[39;00m (dmp_ground_monic(f, u, K),\n\u001b[1;32m    930\u001b[0m             dmp_ground(dmp_ground_LC(f, u, K), u),\n\u001b[1;32m    931\u001b[0m             dmp_zero(u))\n\u001b[1;32m    932\u001b[0m \u001b[38;5;28;01melif\u001b[39;00m query(\u001b[38;5;124m'\u001b[39m\u001b[38;5;124mUSE_SIMPLIFY_GCD\u001b[39m\u001b[38;5;124m'\u001b[39m):\n\u001b[0;32m--> 933\u001b[0m     \u001b[38;5;28;01mreturn\u001b[39;00m \u001b[43m_dmp_simplify_gcd\u001b[49m\u001b[43m(\u001b[49m\u001b[43mf\u001b[49m\u001b[43m,\u001b[49m\u001b[43m \u001b[49m\u001b[43mg\u001b[49m\u001b[43m,\u001b[49m\u001b[43m \u001b[49m\u001b[43mu\u001b[49m\u001b[43m,\u001b[49m\u001b[43m \u001b[49m\u001b[43mK\u001b[49m\u001b[43m)\u001b[49m\n\u001b[1;32m    934\u001b[0m \u001b[38;5;28;01melse\u001b[39;00m:\n\u001b[1;32m    935\u001b[0m     \u001b[38;5;28;01mreturn\u001b[39;00m \u001b[38;5;28;01mNone\u001b[39;00m\n",
      "File \u001b[0;32m~/Library/Python/3.9/lib/python/site-packages/sympy/polys/euclidtools.py:954\u001b[0m, in \u001b[0;36m_dmp_simplify_gcd\u001b[0;34m(f, g, u, K)\u001b[0m\n\u001b[1;32m    952\u001b[0m         G \u001b[38;5;241m=\u001b[39m dmp_content(g, u, K)\n\u001b[1;32m    953\u001b[0m     \u001b[38;5;28;01melse\u001b[39;00m:\n\u001b[0;32m--> 954\u001b[0m         F \u001b[38;5;241m=\u001b[39m \u001b[43mdmp_content\u001b[49m\u001b[43m(\u001b[49m\u001b[43mf\u001b[49m\u001b[43m,\u001b[49m\u001b[43m \u001b[49m\u001b[43mu\u001b[49m\u001b[43m,\u001b[49m\u001b[43m \u001b[49m\u001b[43mK\u001b[49m\u001b[43m)\u001b[49m\n\u001b[1;32m    955\u001b[0m         G \u001b[38;5;241m=\u001b[39m dmp_LC(g, K)\n\u001b[1;32m    957\u001b[0m v \u001b[38;5;241m=\u001b[39m u \u001b[38;5;241m-\u001b[39m \u001b[38;5;241m1\u001b[39m\n",
      "File \u001b[0;32m~/Library/Python/3.9/lib/python/site-packages/sympy/polys/euclidtools.py:1793\u001b[0m, in \u001b[0;36mdmp_content\u001b[0;34m(f, u, K)\u001b[0m\n\u001b[1;32m   1790\u001b[0m     \u001b[38;5;28;01mreturn\u001b[39;00m cont\n\u001b[1;32m   1792\u001b[0m \u001b[38;5;28;01mfor\u001b[39;00m c \u001b[38;5;129;01min\u001b[39;00m f[\u001b[38;5;241m1\u001b[39m:]:\n\u001b[0;32m-> 1793\u001b[0m     cont \u001b[38;5;241m=\u001b[39m \u001b[43mdmp_gcd\u001b[49m\u001b[43m(\u001b[49m\u001b[43mcont\u001b[49m\u001b[43m,\u001b[49m\u001b[43m \u001b[49m\u001b[43mc\u001b[49m\u001b[43m,\u001b[49m\u001b[43m \u001b[49m\u001b[43mv\u001b[49m\u001b[43m,\u001b[49m\u001b[43m \u001b[49m\u001b[43mK\u001b[49m\u001b[43m)\u001b[49m\n\u001b[1;32m   1795\u001b[0m     \u001b[38;5;28;01mif\u001b[39;00m dmp_one_p(cont, v, K):\n\u001b[1;32m   1796\u001b[0m         \u001b[38;5;28;01mbreak\u001b[39;00m\n",
      "File \u001b[0;32m~/Library/Python/3.9/lib/python/site-packages/sympy/polys/euclidtools.py:1625\u001b[0m, in \u001b[0;36mdmp_gcd\u001b[0;34m(f, g, u, K)\u001b[0m\n\u001b[1;32m   1608\u001b[0m \u001b[38;5;28;01mdef\u001b[39;00m \u001b[38;5;21mdmp_gcd\u001b[39m(f, g, u, K):\n\u001b[1;32m   1609\u001b[0m \u001b[38;5;250m    \u001b[39m\u001b[38;5;124;03m\"\"\"\u001b[39;00m\n\u001b[1;32m   1610\u001b[0m \u001b[38;5;124;03m    Computes polynomial GCD of `f` and `g` in `K[X]`.\u001b[39;00m\n\u001b[1;32m   1611\u001b[0m \n\u001b[0;32m   (...)\u001b[0m\n\u001b[1;32m   1623\u001b[0m \n\u001b[1;32m   1624\u001b[0m \u001b[38;5;124;03m    \"\"\"\u001b[39;00m\n\u001b[0;32m-> 1625\u001b[0m     \u001b[38;5;28;01mreturn\u001b[39;00m \u001b[43mdmp_inner_gcd\u001b[49m\u001b[43m(\u001b[49m\u001b[43mf\u001b[49m\u001b[43m,\u001b[49m\u001b[43m \u001b[49m\u001b[43mg\u001b[49m\u001b[43m,\u001b[49m\u001b[43m \u001b[49m\u001b[43mu\u001b[49m\u001b[43m,\u001b[49m\u001b[43m \u001b[49m\u001b[43mK\u001b[49m\u001b[43m)\u001b[49m[\u001b[38;5;241m0\u001b[39m]\n",
      "File \u001b[0;32m~/Library/Python/3.9/lib/python/site-packages/sympy/polys/euclidtools.py:1581\u001b[0m, in \u001b[0;36mdmp_inner_gcd\u001b[0;34m(f, g, u, K)\u001b[0m\n\u001b[1;32m   1561\u001b[0m \u001b[38;5;250m\u001b[39m\u001b[38;5;124;03m\"\"\"\u001b[39;00m\n\u001b[1;32m   1562\u001b[0m \u001b[38;5;124;03mComputes polynomial GCD and cofactors of `f` and `g` in `K[X]`.\u001b[39;00m\n\u001b[1;32m   1563\u001b[0m \n\u001b[0;32m   (...)\u001b[0m\n\u001b[1;32m   1578\u001b[0m \n\u001b[1;32m   1579\u001b[0m \u001b[38;5;124;03m\"\"\"\u001b[39;00m\n\u001b[1;32m   1580\u001b[0m \u001b[38;5;28;01mif\u001b[39;00m \u001b[38;5;129;01mnot\u001b[39;00m u:\n\u001b[0;32m-> 1581\u001b[0m     \u001b[38;5;28;01mreturn\u001b[39;00m \u001b[43mdup_inner_gcd\u001b[49m\u001b[43m(\u001b[49m\u001b[43mf\u001b[49m\u001b[43m,\u001b[49m\u001b[43m \u001b[49m\u001b[43mg\u001b[49m\u001b[43m,\u001b[49m\u001b[43m \u001b[49m\u001b[43mK\u001b[49m\u001b[43m)\u001b[49m\n\u001b[1;32m   1583\u001b[0m J, (f, g) \u001b[38;5;241m=\u001b[39m dmp_multi_deflate((f, g), u, K)\n\u001b[1;32m   1584\u001b[0m h, cff, cfg \u001b[38;5;241m=\u001b[39m _dmp_inner_gcd(f, g, u, K)\n",
      "File \u001b[0;32m~/Library/Python/3.9/lib/python/site-packages/sympy/polys/euclidtools.py:1513\u001b[0m, in \u001b[0;36mdup_inner_gcd\u001b[0;34m(f, g, K)\u001b[0m\n\u001b[1;32m   1510\u001b[0m         \u001b[38;5;28;01mexcept\u001b[39;00m HeuristicGCDFailed:\n\u001b[1;32m   1511\u001b[0m             \u001b[38;5;28;01mpass\u001b[39;00m\n\u001b[0;32m-> 1513\u001b[0m     \u001b[38;5;28;01mreturn\u001b[39;00m \u001b[43mdup_ff_prs_gcd\u001b[49m\u001b[43m(\u001b[49m\u001b[43mf\u001b[49m\u001b[43m,\u001b[49m\u001b[43m \u001b[49m\u001b[43mg\u001b[49m\u001b[43m,\u001b[49m\u001b[43m \u001b[49m\u001b[43mK\u001b[49m\u001b[43m)\u001b[49m\n\u001b[1;32m   1514\u001b[0m \u001b[38;5;28;01melse\u001b[39;00m:\n\u001b[1;32m   1515\u001b[0m     \u001b[38;5;28;01mif\u001b[39;00m K\u001b[38;5;241m.\u001b[39mis_ZZ \u001b[38;5;129;01mand\u001b[39;00m query(\u001b[38;5;124m'\u001b[39m\u001b[38;5;124mUSE_HEU_GCD\u001b[39m\u001b[38;5;124m'\u001b[39m):\n",
      "File \u001b[0;32m~/Library/Python/3.9/lib/python/site-packages/sympy/polys/euclidtools.py:1031\u001b[0m, in \u001b[0;36mdup_ff_prs_gcd\u001b[0;34m(f, g, K)\u001b[0m\n\u001b[1;32m   1028\u001b[0m h \u001b[38;5;241m=\u001b[39m dup_subresultants(f, g, K)[\u001b[38;5;241m-\u001b[39m\u001b[38;5;241m1\u001b[39m]\n\u001b[1;32m   1029\u001b[0m h \u001b[38;5;241m=\u001b[39m dup_monic(h, K)\n\u001b[0;32m-> 1031\u001b[0m cff \u001b[38;5;241m=\u001b[39m \u001b[43mdup_quo\u001b[49m\u001b[43m(\u001b[49m\u001b[43mf\u001b[49m\u001b[43m,\u001b[49m\u001b[43m \u001b[49m\u001b[43mh\u001b[49m\u001b[43m,\u001b[49m\u001b[43m \u001b[49m\u001b[43mK\u001b[49m\u001b[43m)\u001b[49m\n\u001b[1;32m   1032\u001b[0m cfg \u001b[38;5;241m=\u001b[39m dup_quo(g, h, K)\n\u001b[1;32m   1034\u001b[0m \u001b[38;5;28;01mreturn\u001b[39;00m h, cff, cfg\n",
      "File \u001b[0;32m~/Library/Python/3.9/lib/python/site-packages/sympy/polys/densearith.py:1578\u001b[0m, in \u001b[0;36mdup_quo\u001b[0;34m(f, g, K)\u001b[0m\n\u001b[1;32m   1560\u001b[0m \u001b[38;5;28;01mdef\u001b[39;00m \u001b[38;5;21mdup_quo\u001b[39m(f, g, K):\n\u001b[1;32m   1561\u001b[0m \u001b[38;5;250m    \u001b[39m\u001b[38;5;124;03m\"\"\"\u001b[39;00m\n\u001b[1;32m   1562\u001b[0m \u001b[38;5;124;03m    Returns exact polynomial quotient in ``K[x]``.\u001b[39;00m\n\u001b[1;32m   1563\u001b[0m \n\u001b[0;32m   (...)\u001b[0m\n\u001b[1;32m   1576\u001b[0m \n\u001b[1;32m   1577\u001b[0m \u001b[38;5;124;03m    \"\"\"\u001b[39;00m\n\u001b[0;32m-> 1578\u001b[0m     \u001b[38;5;28;01mreturn\u001b[39;00m \u001b[43mdup_div\u001b[49m\u001b[43m(\u001b[49m\u001b[43mf\u001b[49m\u001b[43m,\u001b[49m\u001b[43m \u001b[49m\u001b[43mg\u001b[49m\u001b[43m,\u001b[49m\u001b[43m \u001b[49m\u001b[43mK\u001b[49m\u001b[43m)\u001b[49m[\u001b[38;5;241m0\u001b[39m]\n",
      "File \u001b[0;32m~/Library/Python/3.9/lib/python/site-packages/sympy/polys/densearith.py:1534\u001b[0m, in \u001b[0;36mdup_div\u001b[0;34m(f, g, K)\u001b[0m\n\u001b[1;32m   1516\u001b[0m \u001b[38;5;250m\u001b[39m\u001b[38;5;124;03m\"\"\"\u001b[39;00m\n\u001b[1;32m   1517\u001b[0m \u001b[38;5;124;03mPolynomial division with remainder in ``K[x]``.\u001b[39;00m\n\u001b[1;32m   1518\u001b[0m \n\u001b[0;32m   (...)\u001b[0m\n\u001b[1;32m   1531\u001b[0m \n\u001b[1;32m   1532\u001b[0m \u001b[38;5;124;03m\"\"\"\u001b[39;00m\n\u001b[1;32m   1533\u001b[0m \u001b[38;5;28;01mif\u001b[39;00m K\u001b[38;5;241m.\u001b[39mis_Field:\n\u001b[0;32m-> 1534\u001b[0m     \u001b[38;5;28;01mreturn\u001b[39;00m \u001b[43mdup_ff_div\u001b[49m\u001b[43m(\u001b[49m\u001b[43mf\u001b[49m\u001b[43m,\u001b[49m\u001b[43m \u001b[49m\u001b[43mg\u001b[49m\u001b[43m,\u001b[49m\u001b[43m \u001b[49m\u001b[43mK\u001b[49m\u001b[43m)\u001b[49m\n\u001b[1;32m   1535\u001b[0m \u001b[38;5;28;01melse\u001b[39;00m:\n\u001b[1;32m   1536\u001b[0m     \u001b[38;5;28;01mreturn\u001b[39;00m dup_rr_div(f, g, K)\n",
      "File \u001b[0;32m~/Library/Python/3.9/lib/python/site-packages/sympy/polys/densearith.py:1448\u001b[0m, in \u001b[0;36mdup_ff_div\u001b[0;34m(f, g, K)\u001b[0m\n\u001b[1;32m   1444\u001b[0m r \u001b[38;5;241m=\u001b[39m dup_sub(r, h, K)\n\u001b[1;32m   1446\u001b[0m _dr, dr \u001b[38;5;241m=\u001b[39m dr, dup_degree(r)\n\u001b[0;32m-> 1448\u001b[0m \u001b[38;5;28;01mif\u001b[39;00m \u001b[43mdr\u001b[49m\u001b[43m \u001b[49m\u001b[38;5;241;43m<\u001b[39;49m\u001b[43m \u001b[49m\u001b[43mdg\u001b[49m:\n\u001b[1;32m   1449\u001b[0m     \u001b[38;5;28;01mbreak\u001b[39;00m\n\u001b[1;32m   1450\u001b[0m \u001b[38;5;28;01melif\u001b[39;00m dr \u001b[38;5;241m==\u001b[39m _dr \u001b[38;5;129;01mand\u001b[39;00m \u001b[38;5;129;01mnot\u001b[39;00m K\u001b[38;5;241m.\u001b[39mis_Exact:\n\u001b[1;32m   1451\u001b[0m     \u001b[38;5;66;03m# remove leading term created by rounding error\u001b[39;00m\n",
      "File \u001b[0;32m~/Library/Python/3.9/lib/python/site-packages/sympy/core/decorators.py:236\u001b[0m, in \u001b[0;36m_SympifyWrapper.make_wrapped.<locals>._func\u001b[0;34m(self, other)\u001b[0m\n\u001b[1;32m    234\u001b[0m \u001b[38;5;28;01mif\u001b[39;00m \u001b[38;5;129;01mnot\u001b[39;00m \u001b[38;5;28misinstance\u001b[39m(other, expectedcls):\n\u001b[1;32m    235\u001b[0m     \u001b[38;5;28;01mreturn\u001b[39;00m retval\n\u001b[0;32m--> 236\u001b[0m \u001b[38;5;28;01mreturn\u001b[39;00m \u001b[43mfunc\u001b[49m\u001b[43m(\u001b[49m\u001b[38;5;28;43mself\u001b[39;49m\u001b[43m,\u001b[49m\u001b[43m \u001b[49m\u001b[43mother\u001b[49m\u001b[43m)\u001b[49m\n",
      "File \u001b[0;32m~/Library/Python/3.9/lib/python/site-packages/sympy/core/expr.py:376\u001b[0m, in \u001b[0;36mExpr.__lt__\u001b[0;34m(self, other)\u001b[0m\n\u001b[1;32m    373\u001b[0m \u001b[38;5;129m@sympify_return\u001b[39m([(\u001b[38;5;124m'\u001b[39m\u001b[38;5;124mother\u001b[39m\u001b[38;5;124m'\u001b[39m, \u001b[38;5;124m'\u001b[39m\u001b[38;5;124mExpr\u001b[39m\u001b[38;5;124m'\u001b[39m)], \u001b[38;5;28mNotImplemented\u001b[39m)\n\u001b[1;32m    374\u001b[0m \u001b[38;5;28;01mdef\u001b[39;00m \u001b[38;5;21m__lt__\u001b[39m(\u001b[38;5;28mself\u001b[39m, other):\n\u001b[1;32m    375\u001b[0m     \u001b[38;5;28;01mfrom\u001b[39;00m \u001b[38;5;21;01m.\u001b[39;00m\u001b[38;5;21;01mrelational\u001b[39;00m \u001b[38;5;28;01mimport\u001b[39;00m StrictLessThan\n\u001b[0;32m--> 376\u001b[0m     \u001b[38;5;28;01mreturn\u001b[39;00m \u001b[43mStrictLessThan\u001b[49m\u001b[43m(\u001b[49m\u001b[38;5;28;43mself\u001b[39;49m\u001b[43m,\u001b[49m\u001b[43m \u001b[49m\u001b[43mother\u001b[49m\u001b[43m)\u001b[49m\n",
      "File \u001b[0;32m~/Library/Python/3.9/lib/python/site-packages/sympy/core/relational.py:833\u001b[0m, in \u001b[0;36m_Inequality.__new__\u001b[0;34m(cls, lhs, rhs, **options)\u001b[0m\n\u001b[1;32m    824\u001b[0m             \u001b[38;5;28;01mraise\u001b[39;00m \u001b[38;5;167;01mTypeError\u001b[39;00m(\u001b[38;5;124m\"\u001b[39m\u001b[38;5;124mInvalid NaN comparison\u001b[39m\u001b[38;5;124m\"\u001b[39m)\n\u001b[1;32m    825\u001b[0m     \u001b[38;5;66;03m# First we invoke the appropriate inequality method of `lhs`\u001b[39;00m\n\u001b[1;32m    826\u001b[0m     \u001b[38;5;66;03m# (e.g., `lhs.__lt__`).  That method will try to reduce to\u001b[39;00m\n\u001b[1;32m    827\u001b[0m     \u001b[38;5;66;03m# boolean or raise an exception.  It may keep calling\u001b[39;00m\n\u001b[0;32m   (...)\u001b[0m\n\u001b[1;32m    831\u001b[0m     \u001b[38;5;66;03m# exception).  In that case, it must call us with\u001b[39;00m\n\u001b[1;32m    832\u001b[0m     \u001b[38;5;66;03m# `evaluate=False` to prevent infinite recursion.\u001b[39;00m\n\u001b[0;32m--> 833\u001b[0m     \u001b[38;5;28;01mreturn\u001b[39;00m \u001b[38;5;28;43mcls\u001b[39;49m\u001b[38;5;241;43m.\u001b[39;49m\u001b[43m_eval_relation\u001b[49m\u001b[43m(\u001b[49m\u001b[43mlhs\u001b[49m\u001b[43m,\u001b[49m\u001b[43m \u001b[49m\u001b[43mrhs\u001b[49m\u001b[43m,\u001b[49m\u001b[43m \u001b[49m\u001b[38;5;241;43m*\u001b[39;49m\u001b[38;5;241;43m*\u001b[39;49m\u001b[43moptions\u001b[49m\u001b[43m)\u001b[49m\n\u001b[1;32m    835\u001b[0m \u001b[38;5;66;03m# make a \"non-evaluated\" Expr for the inequality\u001b[39;00m\n\u001b[1;32m    836\u001b[0m \u001b[38;5;28;01mreturn\u001b[39;00m Relational\u001b[38;5;241m.\u001b[39m\u001b[38;5;21m__new__\u001b[39m(\u001b[38;5;28mcls\u001b[39m, lhs, rhs, \u001b[38;5;241m*\u001b[39m\u001b[38;5;241m*\u001b[39moptions)\n",
      "File \u001b[0;32m~/Library/Python/3.9/lib/python/site-packages/sympy/core/relational.py:840\u001b[0m, in \u001b[0;36m_Inequality._eval_relation\u001b[0;34m(cls, lhs, rhs, **options)\u001b[0m\n\u001b[1;32m    838\u001b[0m \u001b[38;5;129m@classmethod\u001b[39m\n\u001b[1;32m    839\u001b[0m \u001b[38;5;28;01mdef\u001b[39;00m \u001b[38;5;21m_eval_relation\u001b[39m(\u001b[38;5;28mcls\u001b[39m, lhs, rhs, \u001b[38;5;241m*\u001b[39m\u001b[38;5;241m*\u001b[39moptions):\n\u001b[0;32m--> 840\u001b[0m     val \u001b[38;5;241m=\u001b[39m \u001b[38;5;28;43mcls\u001b[39;49m\u001b[38;5;241;43m.\u001b[39;49m\u001b[43m_eval_fuzzy_relation\u001b[49m\u001b[43m(\u001b[49m\u001b[43mlhs\u001b[49m\u001b[43m,\u001b[49m\u001b[43m \u001b[49m\u001b[43mrhs\u001b[49m\u001b[43m)\u001b[49m\n\u001b[1;32m    841\u001b[0m     \u001b[38;5;28;01mif\u001b[39;00m val \u001b[38;5;129;01mis\u001b[39;00m \u001b[38;5;28;01mNone\u001b[39;00m:\n\u001b[1;32m    842\u001b[0m         \u001b[38;5;28;01mreturn\u001b[39;00m \u001b[38;5;28mcls\u001b[39m(lhs, rhs, evaluate\u001b[38;5;241m=\u001b[39m\u001b[38;5;28;01mFalse\u001b[39;00m)\n",
      "File \u001b[0;32m~/Library/Python/3.9/lib/python/site-packages/sympy/core/relational.py:1167\u001b[0m, in \u001b[0;36mStrictLessThan._eval_fuzzy_relation\u001b[0;34m(cls, lhs, rhs)\u001b[0m\n\u001b[1;32m   1165\u001b[0m \u001b[38;5;129m@classmethod\u001b[39m\n\u001b[1;32m   1166\u001b[0m \u001b[38;5;28;01mdef\u001b[39;00m \u001b[38;5;21m_eval_fuzzy_relation\u001b[39m(\u001b[38;5;28mcls\u001b[39m, lhs, rhs):\n\u001b[0;32m-> 1167\u001b[0m     \u001b[38;5;28;01mreturn\u001b[39;00m \u001b[43mis_lt\u001b[49m\u001b[43m(\u001b[49m\u001b[43mlhs\u001b[49m\u001b[43m,\u001b[49m\u001b[43m \u001b[49m\u001b[43mrhs\u001b[49m\u001b[43m)\u001b[49m\n",
      "File \u001b[0;32m~/Library/Python/3.9/lib/python/site-packages/sympy/core/relational.py:1246\u001b[0m, in \u001b[0;36mis_lt\u001b[0;34m(lhs, rhs, assumptions)\u001b[0m\n\u001b[1;32m   1241\u001b[0m \u001b[38;5;28;01mdef\u001b[39;00m \u001b[38;5;21mis_lt\u001b[39m(lhs, rhs, assumptions\u001b[38;5;241m=\u001b[39m\u001b[38;5;28;01mNone\u001b[39;00m):\n\u001b[1;32m   1242\u001b[0m \u001b[38;5;250m    \u001b[39m\u001b[38;5;124;03m\"\"\"Fuzzy bool for lhs is strictly less than rhs.\u001b[39;00m\n\u001b[1;32m   1243\u001b[0m \n\u001b[1;32m   1244\u001b[0m \u001b[38;5;124;03m    See the docstring for :func:`~.is_ge` for more.\u001b[39;00m\n\u001b[1;32m   1245\u001b[0m \u001b[38;5;124;03m    \"\"\"\u001b[39;00m\n\u001b[0;32m-> 1246\u001b[0m     \u001b[38;5;28;01mreturn\u001b[39;00m fuzzy_not(\u001b[43mis_ge\u001b[49m\u001b[43m(\u001b[49m\u001b[43mlhs\u001b[49m\u001b[43m,\u001b[49m\u001b[43m \u001b[49m\u001b[43mrhs\u001b[49m\u001b[43m,\u001b[49m\u001b[43m \u001b[49m\u001b[43massumptions\u001b[49m\u001b[43m)\u001b[49m)\n",
      "File \u001b[0;32m~/Library/Python/3.9/lib/python/site-packages/sympy/core/relational.py:1368\u001b[0m, in \u001b[0;36mis_ge\u001b[0;34m(lhs, rhs, assumptions)\u001b[0m\n\u001b[1;32m   1366\u001b[0m     \u001b[38;5;28;01mreturn\u001b[39;00m retval\n\u001b[1;32m   1367\u001b[0m \u001b[38;5;28;01melse\u001b[39;00m:\n\u001b[0;32m-> 1368\u001b[0m     n2 \u001b[38;5;241m=\u001b[39m \u001b[43m_n2\u001b[49m\u001b[43m(\u001b[49m\u001b[43mlhs\u001b[49m\u001b[43m,\u001b[49m\u001b[43m \u001b[49m\u001b[43mrhs\u001b[49m\u001b[43m)\u001b[49m\n\u001b[1;32m   1369\u001b[0m     \u001b[38;5;28;01mif\u001b[39;00m n2 \u001b[38;5;129;01mis\u001b[39;00m \u001b[38;5;129;01mnot\u001b[39;00m \u001b[38;5;28;01mNone\u001b[39;00m:\n\u001b[1;32m   1370\u001b[0m         \u001b[38;5;66;03m# use float comparison for infinity.\u001b[39;00m\n\u001b[1;32m   1371\u001b[0m         \u001b[38;5;66;03m# otherwise get stuck in infinite recursion\u001b[39;00m\n\u001b[1;32m   1372\u001b[0m         \u001b[38;5;28;01mif\u001b[39;00m n2 \u001b[38;5;129;01min\u001b[39;00m (S\u001b[38;5;241m.\u001b[39mInfinity, S\u001b[38;5;241m.\u001b[39mNegativeInfinity):\n",
      "File \u001b[0;32m~/Library/Python/3.9/lib/python/site-packages/sympy/core/relational.py:1203\u001b[0m, in \u001b[0;36m_n2\u001b[0;34m(a, b)\u001b[0m\n\u001b[1;32m   1200\u001b[0m \u001b[38;5;66;03m# /!\\ it is very important (see issue 8245) not to\u001b[39;00m\n\u001b[1;32m   1201\u001b[0m \u001b[38;5;66;03m# use a re-evaluated number in the calculation of dif\u001b[39;00m\n\u001b[1;32m   1202\u001b[0m \u001b[38;5;28;01mif\u001b[39;00m a\u001b[38;5;241m.\u001b[39mis_comparable \u001b[38;5;129;01mand\u001b[39;00m b\u001b[38;5;241m.\u001b[39mis_comparable:\n\u001b[0;32m-> 1203\u001b[0m     dif \u001b[38;5;241m=\u001b[39m (\u001b[43ma\u001b[49m\u001b[43m \u001b[49m\u001b[38;5;241;43m-\u001b[39;49m\u001b[43m \u001b[49m\u001b[43mb\u001b[49m)\u001b[38;5;241m.\u001b[39mevalf(\u001b[38;5;241m2\u001b[39m)\n\u001b[1;32m   1204\u001b[0m     \u001b[38;5;28;01mif\u001b[39;00m dif\u001b[38;5;241m.\u001b[39mis_comparable:\n\u001b[1;32m   1205\u001b[0m         \u001b[38;5;28;01mreturn\u001b[39;00m dif\n",
      "File \u001b[0;32m~/Library/Python/3.9/lib/python/site-packages/sympy/core/decorators.py:65\u001b[0m, in \u001b[0;36m__sympifyit.<locals>.__sympifyit_wrapper\u001b[0;34m(a, b)\u001b[0m\n\u001b[1;32m     63\u001b[0m     \u001b[38;5;28;01mif\u001b[39;00m \u001b[38;5;129;01mnot\u001b[39;00m \u001b[38;5;28mhasattr\u001b[39m(b, \u001b[38;5;124m'\u001b[39m\u001b[38;5;124m_op_priority\u001b[39m\u001b[38;5;124m'\u001b[39m):\n\u001b[1;32m     64\u001b[0m         b \u001b[38;5;241m=\u001b[39m sympify(b, strict\u001b[38;5;241m=\u001b[39m\u001b[38;5;28;01mTrue\u001b[39;00m)\n\u001b[0;32m---> 65\u001b[0m     \u001b[38;5;28;01mreturn\u001b[39;00m \u001b[43mfunc\u001b[49m\u001b[43m(\u001b[49m\u001b[43ma\u001b[49m\u001b[43m,\u001b[49m\u001b[43m \u001b[49m\u001b[43mb\u001b[49m\u001b[43m)\u001b[49m\n\u001b[1;32m     66\u001b[0m \u001b[38;5;28;01mexcept\u001b[39;00m SympifyError:\n\u001b[1;32m     67\u001b[0m     \u001b[38;5;28;01mreturn\u001b[39;00m retval\n",
      "\u001b[0;31mKeyboardInterrupt\u001b[0m: "
     ]
    }
   ],
   "source": [
    "# Create empty dataframe\n",
    "df = pd.DataFrame(columns=['question', 'solution', \n",
    "                            'question_type', 'answer_type',\n",
    "                            'extracted_answer',\n",
    "                            'small_eval_point', 'small_analytical', 'small_numerical',\n",
    "                            'large_eval_point', 'large_analytical', 'large_numerical'])\n",
    "\n",
    "# Initialize tqdm progress bar\n",
    "pbar = tqdm(total=n_problems)\n",
    "\n",
    "while len(df) < n_problems:\n",
    "    try:\n",
    "        # Problem type 3\n",
    "        polynomial = generate_nondimensionalized(10)\n",
    "        soln_info, q, a, q_type, a_type, extracted_answer3 = solve_roots(polynomial)\n",
    "\n",
    "        # Problem type 4\n",
    "        x, eps = symbols('x epsilon')\n",
    "        order = random.choice([1, 2])\n",
    "        soln_info, newq, newa, new_q_type, new_a_type, extracted_answer4 = timeout(\n",
    "            get_delta_corrections,\n",
    "            args=(soln_info, polynomial, a, x),\n",
    "            kwargs={'eps_var': eps, 'term_trunc': order + 1}\n",
    "        )\n",
    "\n",
    "        # Check validity of roots and corrections (3 and 4)\n",
    "        good_roots, good_corr, comparisons = check_roots(\n",
    "            soln_info,\n",
    "            polynomial,\n",
    "            x_var=x, eps_var=eps\n",
    "        )\n",
    "\n",
    "        if good_roots and good_corr:\n",
    "            # Add row for the new question and answer to the dataframe\n",
    "            row_df = pd.DataFrame({\n",
    "                'question': [newq],\n",
    "                'solution': [newa],\n",
    "                'question_type': [new_q_type],\n",
    "                'answer_type': [new_a_type],\n",
    "                'extracted_answer': [extracted_answer4],\n",
    "                'small_eval_point': [0.01],\n",
    "                'small_analytical': [[np.complex128(complex(x, y)) for x, y in comparisons[0][1]]],\n",
    "                'small_numerical': [comparisons[0][0]],\n",
    "                'large_eval_point': [100],\n",
    "                'large_analytical': [[np.complex128(complex(x, y)) for x, y in comparisons[1][1]]],\n",
    "                'large_numerical': [comparisons[1][0]]\n",
    "            })\n",
    "\n",
    "            # Ensure the row is not empty before concatenating\n",
    "            if not row_df.isnull().all().all():\n",
    "                df = pd.concat([df, row_df], ignore_index=True)\n",
    "                pbar.update(1)  # Update progress bar\n",
    "        else:\n",
    "            print(f\"Approximation for polynomial {polynomial} not good enough. Trying again.\")\n",
    "\n",
    "    except TimeoutError:\n",
    "        print(\"Timeout occurred. Trying again.\")\n",
    "        continue  \n",
    "    except Exception as e:\n",
    "        print(f\"An error occurred: {e}. Trying again.\")\n",
    "        continue  \n",
    "\n",
    "pbar.close() "
   ]
  },
  {
   "cell_type": "code",
   "execution_count": 12,
   "metadata": {},
   "outputs": [
    {
     "name": "stdout",
     "output_type": "stream",
     "text": [
      "77\n"
     ]
    }
   ],
   "source": [
    "print(len(df))"
   ]
  },
  {
   "cell_type": "code",
   "execution_count": 13,
   "metadata": {},
   "outputs": [],
   "source": [
    "for i in range(len(df)): \n",
    "    df.loc[i,'solution']=round_numbers_in_string(df.loc[i, 'solution'])\n",
    "    df.loc[i,'extracted_answer']=round_numbers_in_string(df.loc[i,'extracted_answer'])"
   ]
  },
  {
   "cell_type": "code",
   "execution_count": 15,
   "metadata": {},
   "outputs": [],
   "source": [
    "for i in range(len(df)): \n",
    "    df.loc[i,'solution']=round_numbers_in_string(df.loc[i, 'solution'])\n",
    "    df.loc[i,'extracted_answer']=round_numbers_in_string(df.loc[i,'extracted_answer'])"
   ]
  },
  {
   "cell_type": "code",
   "execution_count": 17,
   "metadata": {},
   "outputs": [],
   "source": [
    "# Save dataframe to csv file\n",
    "df.to_csv(data_path + f'polynomial_type_4_{len(df)}.csv', index=False)"
   ]
  }
 ],
 "metadata": {
  "kernelspec": {
   "display_name": "Python 3",
   "language": "python",
   "name": "python3"
  },
  "language_info": {
   "codemirror_mode": {
    "name": "ipython",
    "version": 3
   },
   "file_extension": ".py",
   "mimetype": "text/x-python",
   "name": "python",
   "nbconvert_exporter": "python",
   "pygments_lexer": "ipython3",
   "version": "3.9.6"
  }
 },
 "nbformat": 4,
 "nbformat_minor": 2
}
