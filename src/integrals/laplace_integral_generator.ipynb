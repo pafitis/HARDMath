{
 "cells": [
  {
   "cell_type": "markdown",
   "metadata": {
    "id": "MR78W33XK6_9"
   },
   "source": [
    "The goal of this notebook is to automatically generate and solve Laplace integral problems to create a training set for a LLM."
   ]
  },
  {
   "cell_type": "markdown",
   "metadata": {
    "id": "W6SwUsIwbPIo"
   },
   "source": [
    "# Imports"
   ]
  },
  {
   "cell_type": "code",
   "execution_count": 654,
   "metadata": {
    "colab": {
     "base_uri": "https://localhost:8080/"
    },
    "executionInfo": {
     "elapsed": 24139,
     "status": "ok",
     "timestamp": 1706814551955,
     "user": {
      "displayName": "Kaylie Hausknecht",
      "userId": "04194977309324938073"
     },
     "user_tz": 300
    },
    "id": "zcVuk209kcjt",
    "outputId": "33e50e16-e16c-4d39-dc9a-3971bd3ddef9"
   },
   "outputs": [],
   "source": [
    "import sympy as sp\n",
    "from sympy import diff, solve, N, limit, latex\n",
    "import numpy as np\n",
    "import random\n",
    "from IPython.display import display, Math\n",
    "from scipy.optimize import dual_annealing\n",
    "from scipy.integrate import quad\n",
    "import matplotlib.pyplot as plt\n",
    "import pandas as pd\n",
    "import os\n",
    "\n",
    "# from google.colab import drive\n",
    "\n",
    "# drive.mount(\"/content/gdrive\", force_remount=True)"
   ]
  },
  {
   "cell_type": "markdown",
   "metadata": {
    "id": "VkhDzEcYiQsL"
   },
   "source": [
    "# Functions to generate laplace integrals"
   ]
  },
  {
   "cell_type": "markdown",
   "metadata": {
    "id": "xewu6xjRoCpA"
   },
   "source": [
    "Here are the functions that we use to generate random Laplace integrals. The rest of the methods are fairly robust, so if we would like to train the LLM on a more general class of Laplace integrals later, we can simply alter these functions. The only constraint is that we cannot generate f(t) or g(t) that diverge within the bounds of the integral."
   ]
  },
  {
   "cell_type": "code",
   "execution_count": 655,
   "metadata": {
    "executionInfo": {
     "elapsed": 4,
     "status": "ok",
     "timestamp": 1706814551955,
     "user": {
      "displayName": "Kaylie Hausknecht",
      "userId": "04194977309324938073"
     },
     "user_tz": 300
    },
    "id": "I6KUfCiSK4u1"
   },
   "outputs": [],
   "source": [
    "### Generate random functions ###\n",
    "\n",
    "def generate_linear_combination(max_num_terms):\n",
    "\n",
    "  \"\"\"\n",
    "  This function generates a random linear combination of the sympy functions\n",
    "  specified in the dictionary.\n",
    "  \"\"\"\n",
    "\n",
    "  # Define the variable\n",
    "  t = sp.symbols('t')\n",
    "\n",
    "  # Define list of functions\n",
    "  functions = np.array([\n",
    "      1,\n",
    "      sp.sin(t),\n",
    "      sp.cos(t),\n",
    "      sp.atan(t),\n",
    "      #sp.sinc(t),\n",
    "      t,\n",
    "      t**2,\n",
    "      t**3,\n",
    "      t**4,\n",
    "      t**5\n",
    "      ])\n",
    "\n",
    "  # Generate a random number of terms\n",
    "  num_terms = random.randint(1, max_num_terms)\n",
    "\n",
    "  # Generate random coefficients\n",
    "  possible_coeffs = np.arange(-3, 3, 0.1)\n",
    "  coefficients = np.round(np.random.choice(possible_coeffs, num_terms), 1)\n",
    "\n",
    "  # Draw random indices\n",
    "  indices = random.choices(range(len(functions)), k=num_terms)\n",
    "\n",
    "  # If our function will just be a constant, redraw the index\n",
    "  if len(indices) == 1 and indices[0] == 0:\n",
    "    indices = random.choices(range(1, len(functions)), k=1)\n",
    "\n",
    "  # Get linear conbinations of these functions\n",
    "  f = sum(coefficients * functions[indices])\n",
    "\n",
    "  return f"
   ]
  },
  {
   "cell_type": "code",
   "execution_count": 656,
   "metadata": {
    "executionInfo": {
     "elapsed": 2,
     "status": "ok",
     "timestamp": 1706814551955,
     "user": {
      "displayName": "Kaylie Hausknecht",
      "userId": "04194977309324938073"
     },
     "user_tz": 300
    },
    "id": "M2Rp5264poUn"
   },
   "outputs": [],
   "source": [
    "### Define a function to generate the bounds of the integral ###\n",
    "def generate_bounds(range):\n",
    "\n",
    "  \"\"\"\n",
    "  This function generates bounds within a given range.\n",
    "\n",
    "  range: [lower, upper]\n",
    "  \"\"\"\n",
    "\n",
    "  # Get possible bounds on range\n",
    "  possible_bounds = np.arange(range[0], range[1], 0.1)\n",
    "\n",
    "  # Draw bounds\n",
    "  bounds = np.random.choice(possible_bounds, 2, replace=False)\n",
    "\n",
    "  # Get lower, upper bound\n",
    "  lower = np.min(bounds)\n",
    "  upper = np.max(bounds)\n",
    "\n",
    "  return np.round(lower, 1), np.round(upper, 1)"
   ]
  },
  {
   "cell_type": "code",
   "execution_count": 657,
   "metadata": {
    "executionInfo": {
     "elapsed": 3,
     "status": "ok",
     "timestamp": 1706814552434,
     "user": {
      "displayName": "Kaylie Hausknecht",
      "userId": "04194977309324938073"
     },
     "user_tz": 300
    },
    "id": "qUavc1XXoqUo"
   },
   "outputs": [],
   "source": [
    "### Generate Laplace integral ###\n",
    "\n",
    "def generate_integral(function_generator, bounds_generator, max_num_terms, range):\n",
    "\n",
    "  \"\"\"\n",
    "  This function generates all the components of a Laplace integral given\n",
    "  the various generator functions.\n",
    "\n",
    "  It returns ((lower, upper), g(t), f(t), sign) where the integral\n",
    "  is given by \\int_{lower}^{upper} g(t) e^{sign * x * f(t)} dt\n",
    "\n",
    "  function_generator: function that generates f, g\n",
    "  bounds_generator: function that generates bounds\n",
    "  max_num_terms: most terms the function could have\n",
    "  range: range within which bounds fall\n",
    "  \"\"\"\n",
    "\n",
    "  # Generate f(t), g(t)\n",
    "  f = function_generator(max_num_terms)\n",
    "  g = function_generator(max_num_terms)\n",
    "\n",
    "  # Generate bounds\n",
    "  bounds = bounds_generator(range)\n",
    "\n",
    "  # Generate sign\n",
    "  sign = -1 if random.random() < 0.5 else 1\n",
    "\n",
    "  return bounds, g, f, sign"
   ]
  },
  {
   "cell_type": "markdown",
   "metadata": {
    "id": "129KnpFdulQJ"
   },
   "source": [
    "# Functions to find the minimum of f(t)"
   ]
  },
  {
   "cell_type": "markdown",
   "metadata": {
    "id": "l_1fZitgE-xs"
   },
   "source": [
    "Here, we define functions to find the minimum of f(t) within specified bounds.We first attempt to find it analytically using SymPy. If this fails, we use 5 iterations of dual annealing to find it numerically. This should be fairly robust, even in the face of rapidly oscillating functions with multiple minima. However, if there are functions that have >5 minima within the bounds, this will of course not find them all. So, if we make the integral generation significantly more complex in the future, we may have to edit this slightly."
   ]
  },
  {
   "cell_type": "code",
   "execution_count": 658,
   "metadata": {
    "executionInfo": {
     "elapsed": 245,
     "status": "ok",
     "timestamp": 1706814552677,
     "user": {
      "displayName": "Kaylie Hausknecht",
      "userId": "04194977309324938073"
     },
     "user_tz": 300
    },
    "id": "eGwXL-eJ3yDo"
   },
   "outputs": [],
   "source": [
    "### Define a function to determine whether we can find the global minima of f analytically ###\n",
    "\n",
    "def analytical_critical_pts(f, lower, upper):\n",
    "\n",
    "  \"\"\"\n",
    "  This function determines whether we can find the global minima of f within\n",
    "  the specified bounds analytically using sympy.\n",
    "\n",
    "  If solveset returns an empty set or only a finite set, then sympy was able\n",
    "  to solve for the critical points analytically. If it returns anything else,\n",
    "  sympy was not able to find all critical points analytically.\n",
    "\n",
    "  This returns a list of all the critical points the critical points if sympy\n",
    "  could all of them analytically. To distinguish between an empty list that\n",
    "  implies no critical points and one that implies no analytical solution, we also\n",
    "  return a 0 if sympy could not find analytical solutions and a 1 if it could.\n",
    "  \"\"\"\n",
    "\n",
    "  # Define symbol for t\n",
    "  t = sp.symbols('t')\n",
    "\n",
    "  # Define bounds in sympy\n",
    "  domain = sp.Interval(lower, upper)\n",
    "\n",
    "  # Get local minima\n",
    "  solutions = sp.solveset(diff(f, t), t, domain=domain)\n",
    "\n",
    "  # Check if the solutions are the empty set\n",
    "  if solutions == sp.EmptySet:\n",
    "   return [], 1\n",
    "\n",
    "  # Check if the solutions a finite set\n",
    "  elif isinstance(solutions, sp.FiniteSet):\n",
    "    return list(solutions), 1\n",
    "\n",
    "  # If it's anything else, solveset got no analytical insights\n",
    "  else:\n",
    "    return [], 0"
   ]
  },
  {
   "cell_type": "code",
   "execution_count": 659,
   "metadata": {
    "executionInfo": {
     "elapsed": 5,
     "status": "ok",
     "timestamp": 1706814552677,
     "user": {
      "displayName": "Kaylie Hausknecht",
      "userId": "04194977309324938073"
     },
     "user_tz": 300
    },
    "id": "EfgOhFBfzT2r"
   },
   "outputs": [],
   "source": [
    "## Define function to find minima numerically using many iterations of dual annealing\n",
    "def find_minima_numerically(f, lower, upper, num_start_pts=5):\n",
    "\n",
    "  \"\"\"\n",
    "  This function uses the dual annealing algorithm to find the minima of f on\n",
    "  the specified bounds.\n",
    "\n",
    "  f: sympy expression for the function to minimize\n",
    "  lower: lower bound, float\n",
    "  upper: upper bound, float\n",
    "  num_start_pts: the number of times to run the dual annealing algorithm. default=5\n",
    "  \"\"\"\n",
    "\n",
    "  # Format bounds for dual annealing\n",
    "  bounds = [(lower, upper)]\n",
    "\n",
    "  # Define list of starting points to increase the chance of finding all global minima\n",
    "  start_pts = np.linspace(lower, upper, num_start_pts)\n",
    "\n",
    "  # Define list to store global minima\n",
    "  min_points = []\n",
    "\n",
    "  # Run dual annealing from each starting point to increase chance of finding all global minima\n",
    "  for start in start_pts:\n",
    "      result = dual_annealing(lambda x: float(N(f.subs('t', x[0]))), bounds, x0=[start])\n",
    "      min_points.append(round(result.x[0],4))  # round to 4 decimal pts bc algorithm results vary slightly\n",
    "\n",
    "  # Take only unique minima\n",
    "  min_points = list(set(min_points))\n",
    "\n",
    "  return min_points"
   ]
  },
  {
   "cell_type": "code",
   "execution_count": 660,
   "metadata": {
    "executionInfo": {
     "elapsed": 3,
     "status": "ok",
     "timestamp": 1706814552677,
     "user": {
      "displayName": "Kaylie Hausknecht",
      "userId": "04194977309324938073"
     },
     "user_tz": 300
    },
    "id": "xBwSTB-MyX-Q"
   },
   "outputs": [],
   "source": [
    "### Define function to find the global minima of f within the bounds, analytically or numerically ###\n",
    "def find_global_min(f, bounds):\n",
    "\n",
    "  \"\"\"\n",
    "  This function finds the global minima of f within the bounds. It also records\n",
    "  whether or not the global minima were found analytically for future response\n",
    "  generation purposes. It also returns the critical points, if we could find\n",
    "  them analytically, for the same purpose.\n",
    "  \"\"\"\n",
    "\n",
    "  # Define symbol\n",
    "  t = sp.symbols('t')\n",
    "\n",
    "  # Extract bounds\n",
    "  lower, upper = bounds\n",
    "\n",
    "  ## Attempt to find critical points analytically\n",
    "  critical_points, complete = analytical_critical_pts(f, lower, upper)\n",
    "\n",
    "\n",
    "  ## If this is a complete list of critical points, find the global minimum\n",
    "  if complete:\n",
    "\n",
    "    # Record that we could find minimum analytically\n",
    "    analytic_min = True\n",
    "\n",
    "    # Evaluate the function at the critical points and the endpoints\n",
    "    critical_values = [(N(f.subs(t, point)), point) for point in critical_points if lower <= point <= upper]\n",
    "    endpoint_values = [(N(f.subs(t, lower)), lower), (N(f.subs(t, upper)), upper)]\n",
    "\n",
    "    # Combine the lists and find the minimum value(s)\n",
    "    values = critical_values + endpoint_values\n",
    "    min_value = min(v[0] for v in values)\n",
    "    min_points = [v[1] for v in values if v[0] == min_value]\n",
    "\n",
    "    return min_points, analytic_min, critical_points\n",
    "\n",
    "\n",
    "  ## If it is not a complete list, look for the global minimum numerically\n",
    "  else:\n",
    "\n",
    "    # Record that we could not find minimum analytically\n",
    "    analytic_min = False\n",
    "\n",
    "    # Get minima numerically with dual annealing\n",
    "    min_points = find_minima_numerically(f, lower, upper, num_start_pts=5)\n",
    "\n",
    "    return min_points, analytic_min, None"
   ]
  },
  {
   "cell_type": "markdown",
   "metadata": {
    "id": "twpudsSLk2LD"
   },
   "source": [
    "# Functions to analytically approximate laplace integrals"
   ]
  },
  {
   "cell_type": "markdown",
   "metadata": {
    "id": "_zQyDwK4apg0"
   },
   "source": [
    "Here we define functions to return the approximation for the laplace integral by using the formulae derived in class. They also return any imformation needed for prompt generation."
   ]
  },
  {
   "cell_type": "code",
   "execution_count": 661,
   "metadata": {
    "executionInfo": {
     "elapsed": 3,
     "status": "ok",
     "timestamp": 1706814552677,
     "user": {
      "displayName": "Kaylie Hausknecht",
      "userId": "04194977309324938073"
     },
     "user_tz": 300
    },
    "id": "82m_cIXmypMK"
   },
   "outputs": [],
   "source": [
    "### Define function to approximate laplace integral if f(t) has a single minimum ###\n",
    "def single_min_laplace_integral(bounds, g, f, sign, minimum):\n",
    "\n",
    "  \"\"\"\n",
    "  This function returns the analytical formula for the approximation of a laplace\n",
    "  integral given the single minimum of f(t). This will be used in the final\n",
    "  laplace integral function in the case that f(t) has one minimum within the\n",
    "  bounds. It also returns whether or not the minimum/maximum\n",
    "  of f(t) was on the bounds of the integral, and if it is, which bound,\n",
    "  as we will use this in our response generation.\n",
    "  \"\"\"\n",
    "\n",
    "  # Define symbols\n",
    "  t, x = sp.symbols(\"t x\")\n",
    "\n",
    "  # Deal with sympy zero class, which is not compatible with numpy\n",
    "  if minimum == sp.S.Zero:\n",
    "    minimum = 0.0\n",
    "\n",
    "  # Get f(min), g(min). Use limits to avoid division by 0 issues\n",
    "  f_t0 = limit(f, t, minimum)\n",
    "  g_t0 = limit(g, t, minimum)\n",
    "\n",
    "  # If the minimum is on a bound\n",
    "  if minimum in np.round(bounds, 4):  # must round bounds to 4 decimal places bc minimum is rounded too\n",
    "\n",
    "    # Get f'(min)\n",
    "    fp_t0 = limit(diff(f,t), t, minimum)\n",
    "\n",
    "    # Record the min/max is on bounds\n",
    "    minmax_on_bounds = True\n",
    "\n",
    "    # Record which bound it is\n",
    "    if minimum == np.round(bounds, 5)[0]:\n",
    "      which_bound = \"a\"\n",
    "    else:\n",
    "      which_bound = \"b\"\n",
    "\n",
    "    # Approximation when minimum is on the bound\n",
    "    return g_t0 * sp.exp(sign * x * f_t0) / (sp.Abs(fp_t0) * x), minmax_on_bounds, which_bound\n",
    "\n",
    "  # Minimum is within bounds\n",
    "  else:\n",
    "\n",
    "    # Record the min/max is not on bounds\n",
    "    minmax_on_bounds = False\n",
    "\n",
    "    # Get f''(min)\n",
    "    fpp_t0 = limit(diff(f,t,2), t, minimum)  # take the limit in case L'Hopital needed\n",
    "\n",
    "    # Approximation when minimum is within interval\n",
    "    return sp.sqrt(sp.pi) * g_t0 * sp.exp(sign * x * f_t0) * sp.sqrt(2 / (sp.Abs(fpp_t0) * x)), minmax_on_bounds, None"
   ]
  },
  {
   "cell_type": "code",
   "execution_count": 662,
   "metadata": {
    "executionInfo": {
     "elapsed": 192,
     "status": "ok",
     "timestamp": 1706814552867,
     "user": {
      "displayName": "Kaylie Hausknecht",
      "userId": "04194977309324938073"
     },
     "user_tz": 300
    },
    "id": "ZcStIVPyk_cX"
   },
   "outputs": [],
   "source": [
    "### Define function to analytically approximate laplace integrals ###\n",
    "\n",
    "def approximate_laplace_integral(bounds, g, f, sign):\n",
    "\n",
    "  \"\"\"\n",
    "  This function returns an analytical approximation for the Laplace\n",
    "  integral defined by \\int_{lower}^{upper} g(t) e^{sign * x * f(t)} dt\n",
    "  in the limit of large x. It also returns whether or not the minimum/maximum\n",
    "  of f(t) was on the bounds of the integral, and how many minima/maxima there\n",
    "  were, and whether or not they were found analytically, the global min/maxima,\n",
    "  and the critical points (if it was found analytically), and which bound the\n",
    "  min/max is on, if it is on a bound. We will use this in our response generation\n",
    "  later.\n",
    "  \"\"\"\n",
    "\n",
    "  # Define symbols\n",
    "  t, x = sp.symbols(\"t x\")\n",
    "\n",
    "  # If the sign is positive, multiple f by -1 so minimization maximizes f\n",
    "  if sign == 1:\n",
    "    f = -1 * f\n",
    "\n",
    "  # Find the global minimum of f within the bounds\n",
    "  minima, analytic_min, critical_points = find_global_min(f, bounds)\n",
    "\n",
    "  # If sign is positive, multiply f by -1 to return it to normal\n",
    "  if sign == 1:\n",
    "    f = -1 * f\n",
    "\n",
    "  # Check for edge case where find_global_min function does not return any values\n",
    "  if len(minima) == 0:\n",
    "    return ValueError(\"Minima function returned no values\")\n",
    "\n",
    "  # If there is only one minimum\n",
    "  elif len(minima) == 1:\n",
    "\n",
    "    # Get analytical approximation using the single min laplace integral approximation\n",
    "    approximation, minmax_on_bounds, which_bound = single_min_laplace_integral(bounds, g, f, sign, minima[0])\n",
    "\n",
    "    # Record number of min/max\n",
    "    num_minmax = 1\n",
    "\n",
    "    return approximation, minmax_on_bounds, num_minmax, analytic_min, minima, critical_points, which_bound\n",
    "\n",
    "  # If there is more than minimum, imagine breaking the integration interval in pieces. Apply single minimum approximation to each\n",
    "  else:\n",
    "\n",
    "    # Record number of min/max\n",
    "    num_minmax = len(minima)\n",
    "\n",
    "    # Initialize variable to hold final approximation\n",
    "    approximation = 0\n",
    "\n",
    "    # Loop through each set of bounds, adding contribution to integral from single minimum formula\n",
    "    for i in range(num_minmax):\n",
    "\n",
    "      # Add approx from single minimum approximation formula\n",
    "      approximation += single_min_laplace_integral(bounds, g, f, sign, minima[i])[0]\n",
    "\n",
    "    # Record that min/max likely not on bounds (true except in very extreme case)\n",
    "    minmax_on_bounds = False\n",
    "\n",
    "  return approximation, minmax_on_bounds, num_minmax, analytic_min, minima, critical_points, None"
   ]
  },
  {
   "cell_type": "markdown",
   "metadata": {
    "id": "irKWcU1y-atO"
   },
   "source": [
    "# Functions to compare approximation to numerical solution"
   ]
  },
  {
   "cell_type": "markdown",
   "metadata": {
    "id": "swyn5wmdckbP"
   },
   "source": [
    "Here we define function to compare the analytical approximation to the numerical solution."
   ]
  },
  {
   "cell_type": "code",
   "execution_count": 663,
   "metadata": {},
   "outputs": [],
   "source": [
    "## Define function to evaluate the analytical approximation at given x values\n",
    "def evaluate_analytical(analytical_approximation, xs, max_val=np.inf):\n",
    "\n",
    "  \"\"\"\n",
    "  This function evaluates the analytical approximation for each x\n",
    "  value in the array xs. It returns an array containing the results.\n",
    "\n",
    "  Specify a maximum value allowed in the array to avoid the matplotlib\n",
    "  plotting issues that arise for values above 10^100.\n",
    "\n",
    "  analytical_approximation: sympy expression for your approximation\n",
    "  xs: array of x values at which we evaluate the approximation\n",
    "  max_val: maximum value allowed in the return array\n",
    "  \"\"\"\n",
    "\n",
    "  approx_vals = np.array([analytical_approximation.subs(x, x_val).evalf() \\\n",
    "                for x_val in xs \\\n",
    "                if np.abs(analytical_approximation.subs(x, x_val).evalf()) < max_val])\n",
    "\n",
    "  return approx_vals"
   ]
  },
  {
   "cell_type": "code",
   "execution_count": 664,
   "metadata": {},
   "outputs": [],
   "source": [
    "## Perform numerical integration of laplace integral for set of x values\n",
    "def integrate_numerically(bounds, g, f, sign, xs, max_error):\n",
    "\n",
    "  \"\"\"\n",
    "  This function finds the solution to the Laplace integral defined by f, g, sign,\n",
    "  and bounds for each x in the array xs. It truncates any computation if the\n",
    "  integration error exceeds max_error. It returns an array of the numerical results.\n",
    "\n",
    "  bounds: tuple (a, b), bounds of the laplace integral\n",
    "  g: sympy expression for g(t)\n",
    "  f: sympy expression for f(t)\n",
    "  xs: array of x values at which we evaluate the integral\n",
    "  max_error: the maximum integration error allowed before we stop computation\n",
    "  \"\"\"\n",
    "\n",
    "  # Define the function you want to integrate\n",
    "  integrand = g * sp.exp(sign*x*f)\n",
    "\n",
    "  # Define the function you want to integrate\n",
    "  def evaluate_integrand(x_val, t_val):\n",
    "      return integrand.subs(x,x_val).subs(t,t_val).evalf()\n",
    "\n",
    "  # Define bounds over which we want to integrate\n",
    "  lower, upper = bounds\n",
    "\n",
    "  # Initialize array to store integration data\n",
    "  # numerical_vals = np.zeros(len(xs))\n",
    "  # numerical_vals[:] = np.nan\n",
    "\n",
    "  numerical_vals = []\n",
    "\n",
    "  # Calculate integral for each lambda\n",
    "  for idx, x_val in enumerate(xs):\n",
    "\n",
    "    # Perform integration\n",
    "    integral, error = quad(lambda t: evaluate_integrand(x_val, t), lower, upper)\n",
    "\n",
    "    # Save data\n",
    "    numerical_vals.append(integral)\n",
    "\n",
    "    # Stop if quad breaks\n",
    "    if error > max_error:\n",
    "      break\n",
    "\n",
    "  return numerical_vals, len(numerical_vals)"
   ]
  },
  {
   "cell_type": "code",
   "execution_count": 665,
   "metadata": {
    "executionInfo": {
     "elapsed": 176,
     "status": "ok",
     "timestamp": 1706814553722,
     "user": {
      "displayName": "Kaylie Hausknecht",
      "userId": "04194977309324938073"
     },
     "user_tz": 300
    },
    "id": "voV4JpEQTdPw"
   },
   "outputs": [],
   "source": [
    "# Plot results\n",
    "def plot_results(approx_vals, numerical_vals, xs):\n",
    "\n",
    "  \"\"\"\n",
    "  This function plots the numerical solution and the analytical approximation\n",
    "  given an array of values for each.\n",
    "\n",
    "  approx_vals: array of values given by the analytical approximation\n",
    "  numerical_vals: array of values given by the numerical integration\n",
    "  xs: array of x values at which we computed the integral\n",
    "  \"\"\"\n",
    "\n",
    "  # Get length of numerical_vals array\n",
    "  len_num_vals = len(numerical_vals)\n",
    "  len_approx_vals = len(approx_vals)\n",
    "\n",
    "  # Set up plotting\n",
    "  plt.figure(figsize=(10,6))\n",
    "  plt.rcParams.update({'font.size': 22})\n",
    "\n",
    "  # Plot approximation and numerical solution\n",
    "  plt.loglog(xs[:len_approx_vals], np.abs(approx_vals), \\\n",
    "             linewidth=4, label=\"approximation\")\n",
    "  plt.loglog(xs[:len_num_vals], np.abs(numerical_vals), \\\n",
    "             'o', mfc='none', markersize=8, label='numerical')\n",
    "\n",
    "  # Set up legend, title, x label\n",
    "  plt.legend(bbox_to_anchor=(1.05, 1), loc=2, borderaxespad=0.)\n",
    "  plt.title(\"Testing result\")\n",
    "  plt.xlabel(\"x\")"
   ]
  },
  {
   "cell_type": "markdown",
   "metadata": {
    "id": "cnxkYqjF_cAX"
   },
   "source": [
    "# Testing Results"
   ]
  },
  {
   "cell_type": "markdown",
   "metadata": {
    "id": "i8RS8TCnizCy"
   },
   "source": [
    "This section of the notebook allows us to quickly test our results. We quantitatively test our approximation accuracy in the next section."
   ]
  },
  {
   "cell_type": "code",
   "execution_count": 670,
   "metadata": {
    "colab": {
     "base_uri": "https://localhost:8080/",
     "height": 203
    },
    "executionInfo": {
     "elapsed": 311,
     "status": "ok",
     "timestamp": 1706814556946,
     "user": {
      "displayName": "Kaylie Hausknecht",
      "userId": "04194977309324938073"
     },
     "user_tz": 300
    },
    "id": "dhODLBpUJBjX",
    "outputId": "eea3ec71-9ce9-4263-a9ec-993350791825"
   },
   "outputs": [
    {
     "name": "stdout",
     "output_type": "stream",
     "text": [
      "Generated Integral \n",
      "\n"
     ]
    },
    {
     "data": {
      "text/latex": [
       "$\\displaystyle \\int\\limits_{-0.8}^{-0.1} \\left(0.4 t - 3.0 \\cos{\\left(t \\right)}\\right) e^{x \\left(- 0.3 t^{3} + 1.2 \\operatorname{atan}{\\left(t \\right)}\\right)}\\, dt$"
      ],
      "text/plain": [
       "<IPython.core.display.Math object>"
      ]
     },
     "metadata": {},
     "output_type": "display_data"
    },
    {
     "name": "stdout",
     "output_type": "stream",
     "text": [
      "\n",
      " Approximation \n",
      "\n"
     ]
    },
    {
     "data": {
      "text/latex": [
       "$\\displaystyle - \\frac{2.56548573846253 e^{- 0.119302382989394 x}}{x}$"
      ],
      "text/plain": [
       "-2.56548573846253*exp(-0.119302382989394*x)/x"
      ]
     },
     "execution_count": 670,
     "metadata": {},
     "output_type": "execute_result"
    }
   ],
   "source": [
    "# Define symbols\n",
    "x, t = sp.symbols('x t')\n",
    "\n",
    "# Generate integral\n",
    "bounds, g, f, sign = generate_integral(generate_linear_combination, generate_bounds, max_num_terms=5, range=[-1,1])\n",
    "\n",
    "# Print integral\n",
    "print(\"Generated Integral \\n\")\n",
    "integral = sp.Integral(g * sp.exp(sign*x*f), (t, bounds[0], bounds[1]))\n",
    "latex_integral = sp.latex(integral)\n",
    "display(Math(latex_integral))\n",
    "\n",
    "# Generate approximation\n",
    "approximation = approximate_laplace_integral(bounds, g, f, sign)[0]\n",
    "\n",
    "# Print approximation\n",
    "print(\"\\n Approximation \\n\")\n",
    "approximation"
   ]
  },
  {
   "cell_type": "code",
   "execution_count": 671,
   "metadata": {
    "executionInfo": {
     "elapsed": 6685,
     "status": "ok",
     "timestamp": 1706814565516,
     "user": {
      "displayName": "Kaylie Hausknecht",
      "userId": "04194977309324938073"
     },
     "user_tz": 300
    },
    "id": "A49G04h8WWVE"
   },
   "outputs": [],
   "source": [
    "## Compare analytical approximation and numerical solution\n",
    "\n",
    "# Define array of xs to test on\n",
    "xs = np.logspace(-1, 3, 300)\n",
    "\n",
    "# Get numerical solution\n",
    "numerical_vals, num_vals = integrate_numerically(bounds, g, f, sign, xs, max_error=1000)\n",
    "\n",
    "# Get analytical approximation\n",
    "approx_vals = evaluate_analytical(approximation, xs, max_val=10**100)[:num_vals]\n",
    "\n"
   ]
  },
  {
   "cell_type": "code",
   "execution_count": 672,
   "metadata": {
    "colab": {
     "base_uri": "https://localhost:8080/",
     "height": 607
    },
    "executionInfo": {
     "elapsed": 1980,
     "status": "ok",
     "timestamp": 1706814568375,
     "user": {
      "displayName": "Kaylie Hausknecht",
      "userId": "04194977309324938073"
     },
     "user_tz": 300
    },
    "id": "2uM68Oj7TYyN",
    "outputId": "17695d96-a283-4fc0-edb9-b26254d29f1e"
   },
   "outputs": [
    {
     "data": {
      "image/png": "[encoded data removed]",
      "text/plain": [
       "<Figure size 1000x600 with 1 Axes>"
      ]
     },
     "metadata": {},
     "output_type": "display_data"
    }
   ],
   "source": [
    "# Plot results\n",
    "plot_results(approx_vals, numerical_vals, xs)"
   ]
  },
  {
   "cell_type": "markdown",
   "metadata": {
    "id": "x5jjgwX2AKdI"
   },
   "source": [
    "# Generating prompts & solutions"
   ]
  },
  {
   "cell_type": "markdown",
   "metadata": {
    "id": "FDE4sIXRhSeT"
   },
   "source": [
    "In this section, we provide functions that generate prompts and solutions, and finally, an entire dataset."
   ]
  },
  {
   "cell_type": "markdown",
   "metadata": {
    "id": "yBe2mfyMc6hj"
   },
   "source": [
    "## Functions"
   ]
  },
  {
   "cell_type": "markdown",
   "metadata": {
    "id": "D4xg8OnKdAnY"
   },
   "source": [
    "Here we define the functions that we will use to generate the Latex prompts and solutions. Note that to load these prompts and responses in latex, the packages\n",
    "\n",
    "```\n",
    "\\usepackage{minted}\n",
    "\\usepackage{amsmath}\n",
    "```\n",
    "\n",
    "\n",
    "are required."
   ]
  },
  {
   "cell_type": "code",
   "execution_count": 673,
   "metadata": {
    "executionInfo": {
     "elapsed": 143,
     "status": "ok",
     "timestamp": 1706814579110,
     "user": {
      "displayName": "Kaylie Hausknecht",
      "userId": "04194977309324938073"
     },
     "user_tz": 300
    },
    "id": "gPRNPtRbPVFz"
   },
   "outputs": [],
   "source": [
    "import inspect\n",
    "\n",
    "## Define function to return latex code of a python function\n",
    "def function_to_latex(func):\n",
    "\n",
    "    # Get the source code\n",
    "    source_code = inspect.getsource(func)\n",
    "\n",
    "    # Escape special characters\n",
    "    source_code = source_code.replace(\"\\\\\", \"\\\\\\\\\")\n",
    "    source_code = source_code.replace(\"{\", \"\\\\{\")\n",
    "    source_code = source_code.replace(\"}\", \"\\\\}\")\n",
    "\n",
    "    # Wrap the source code in a minted environment\n",
    "    latex_code = \"\\\\begin{minted}{python}\\n\" + source_code + \"\\\\end{minted}\\n\"\n",
    "\n",
    "    return latex_code"
   ]
  },
  {
   "cell_type": "markdown",
   "metadata": {},
   "source": [
    "### Generating the problem statement (without \"compare to numerical solution\")"
   ]
  },
  {
   "cell_type": "code",
   "execution_count": 674,
   "metadata": {
    "executionInfo": {
     "elapsed": 3,
     "status": "ok",
     "timestamp": 1706814579717,
     "user": {
      "displayName": "Kaylie Hausknecht",
      "userId": "04194977309324938073"
     },
     "user_tz": 300
    },
    "id": "WmqelK2NQN2T"
   },
   "outputs": [],
   "source": [
    "## Define function to generate prompt and integral\n",
    "def generate_problem():\n",
    "\n",
    "  \"\"\"\n",
    "  This function generates a problem statement and returns the statement as well\n",
    "  as the parameters of the integral used in the approximation function.\n",
    "  \"\"\"\n",
    "\n",
    "  # Generate integral\n",
    "  bounds, g, f, sign = generate_integral(generate_linear_combination, generate_bounds, max_num_terms=5, range=[-1,1])\n",
    "\n",
    "  # Formatting problem statement\n",
    "  if sign == 1:\n",
    "    show_sign = \"+\"\n",
    "  else:\n",
    "    show_sign = \"-\"\n",
    "\n",
    "  # Get problem statement\n",
    "  statement = f\"Consider the integral \\\\par \"\\\n",
    "              f\"\\\\begin{{equation}} I(x) = \\\\int_{{{bounds[0]}}}^{{{bounds[1]}}} ({latex(g)}) e^{{{show_sign} x ({latex(f)})}} \\\\, dt \\\\end{{equation}} \\\\par\"\\\n",
    "              f\" Develop an analytical formula for $I(x)$ that is accurate as $x \\\\to \\\\infty$.\"\n",
    "\n",
    "  return bounds, g, f, sign, statement"
   ]
  },
  {
   "cell_type": "markdown",
   "metadata": {},
   "source": [
    "### Percent error function"
   ]
  },
  {
   "cell_type": "code",
   "execution_count": 675,
   "metadata": {},
   "outputs": [],
   "source": [
    "## Define function to roughly quantify quality of approximation\n",
    "\n",
    "def get_last_pct_error(approx_vals, numerical_vals):\n",
    "\n",
    "  \"\"\"\n",
    "  This function gets the absolute percent error between the numerical values\n",
    "  and the analytical approximation at the last point (ie the largest x value)\n",
    "  for which numerical integration worked and was nonzero.\n",
    "  \"\"\"\n",
    "\n",
    "  # Get index of last nonzero input to numerical vals\n",
    "  non_zero_indices = np.nonzero(numerical_vals)\n",
    "  last_non_zero_index = non_zero_indices[0][-1]\n",
    "\n",
    "  # Get last numerical value\n",
    "  last_num_val = numerical_vals[last_non_zero_index]\n",
    "\n",
    "  # Get analytical value for this same x\n",
    "  corresponding_approx = approx_vals[last_non_zero_index]\n",
    "\n",
    "\n",
    "  # epsilon = 1e-5  # A small number to prevent division by zero\n",
    "  # Return absolute pct error between them. Add a small number in the denominator to avoid division by zero\n",
    "  return np.abs((corresponding_approx - last_num_val) / (last_num_val)) * 100\n",
    "\n",
    "## Get pct error from many approximations\n",
    "\n",
    "# Define array of xs to test on\n",
    "xs = np.logspace(-1, 3, 300)\n"
   ]
  },
  {
   "cell_type": "markdown",
   "metadata": {},
   "source": [
    "### Version of function that does not have code in the csv file"
   ]
  },
  {
   "cell_type": "code",
   "execution_count": 684,
   "metadata": {},
   "outputs": [],
   "source": [
    "## Define function to approximation and response\n",
    "def get_solution(bounds, g, f, sign):\n",
    "\n",
    "  \"\"\"\n",
    "  This function takes in the parameters of the Laplace integral and returns an\n",
    "  analytical approximation as well as a response statement.\n",
    "  \"\"\"\n",
    "\n",
    "  # Determine whether we will look for min or max of f\n",
    "  if sign == 1:\n",
    "    minmax = \"maximum\"\n",
    "    small_large = \"largest\"\n",
    "    show_sign = \"+\"\n",
    "  else:\n",
    "    minmax = \"minimum\"\n",
    "    small_large = \"smallest\"\n",
    "    show_sign = \"-\"\n",
    "\n",
    "  statement = f\"The integral is of the form \\\\begin{{equation}} I(x) = \\\\int_{{a}}^{{b}} g(t) e^{{{show_sign} x f(t)}} \\\\, dt \\\\end{{equation}} \\\\par \"\\\n",
    "              f\"where $a={bounds[0]}$, $b={bounds[1]}$, $g(t) = {latex(g)}$, and $f(t) = {latex(f)}$. \"\\\n",
    "              f\"This means we can use Laplace's method to develop an analytical approximation in the limit that $x \\\\to \\\\infty$. \\\\par \"\\\n",
    "              f\"In this limit, the integral will be dominated by the integrand near the {minmax} of $f(t)$ within the bounds $[{bounds[0]}, {bounds[1]}]$. \"\\\n",
    "              f\"So, to simplify the integral, we will expand the integrand around this {minmax}. \\\\par \"\n",
    "\n",
    "  # Get the analytical approximation of the integral, specifying whether the min/max was on the bounds, if not how many min/max there were\n",
    "  approximation, minmax_on_bounds, num_minmax, analytic_min, minima, critical_points, which_bound = approximate_laplace_integral(bounds, g, f, sign)\n",
    "\n",
    "  # Statement for the case where we could find the min/max of f analytically\n",
    "  if analytic_min:\n",
    "    statement += f\"In this case, we can find the {minmax} of $f(t) = {latex(f)}$ on the interval analytically. We begin by looking for critical points $t_{{crit}}$ of $f(t)$ by solving $f'(t) = {latex(diff(f, t))} = 0$ for $t$. \"\n",
    "\n",
    "    # If critical points were not found.\n",
    "    if len(critical_points) == 0:\n",
    "\n",
    "      statement += f\"We find that there are no critical points of $f(t) \\\\in {bounds[0], bounds[1]}$. This means that its {minmax} must be on the bounds. \"\\\n",
    "                   f\"Comparing the values of $f(t)$ on the lower and upper bounds of the integral, we find that its {minmax} occurs at $t_0 = {which_bound} = {minima[0]}$. \\\\par \"\n",
    "\n",
    "    # If they were\n",
    "    else:\n",
    "        statement += f\"This gives us that $t_{{crit}} = {critical_points}$. To find the {minmax} on this interval, we evaluate $f(t)$ at the critical points $t_{{crit}}$ and at the bounds, ${bounds[0]}$ and ${bounds[1]}$. \"\\\n",
    "                   f\"We select the value of $t$ that gives the {small_large} value for $f(t)$. Here, we find the {minmax} $t_0 = {minima}$. \\\\par \"\n",
    "\n",
    "\n",
    "  # Statement for numerical case\n",
    "  else:\n",
    "\n",
    "    # Statement & code\n",
    "    statement += f\"However, it is impossible to compute the {minmax} of $f(t)$ within these bounds analytically. We, therefore, find the {minmax} numerically with the dual annealing algorithm. \"\\\n",
    "                 f\"Using a few iterations of dual annealing, we find that the {minmax} of $f(t)$ occurs at $t_0 = {minima}$. \\\\par \"\n",
    "\n",
    "\n",
    "  # Statement for case of min/max on bounds of integral\n",
    "  if minmax_on_bounds:\n",
    "\n",
    "    statement += f\"Since the integral is dominated by the value of the integrand near $t_0={which_bound}$, we Taylor expand the integrand around this point: \"\\\n",
    "                 f\"\\\\begin{{equation}} I(x) =  \\\\int_{{a}}^{{b}} (g({which_bound}) + (t-{which_bound})g'({which_bound})+...) e^{{{show_sign} x (f({which_bound}) + (t-{which_bound}) f'({which_bound}) + ...)}} \\\\, dt \\\\end{{equation}} \"\\\n",
    "                 f\"We can then approximate \\\\begin{{equation}} I(x) \\\\approx \\\\int_{{a}}^{{b}} g({which_bound}) e^{{{show_sign} x (f({which_bound}) + (t-{which_bound}) f'({which_bound}))}} \\\\, dt \\\\end{{equation}} \"\\\n",
    "                 f\"Pulling out the constant in the integral gives \"\\\n",
    "                 f\"\\\\begin{{equation}} I(x) \\\\approx g({which_bound}) e^{{{show_sign} x f({which_bound})}} \\\\int_{{a}}^{{b}} e^{{{show_sign} x (t-{which_bound}) f'({which_bound})}}  \\\\, dt \\\\end{{equation}} \\\\par \"\\\n",
    "\n",
    "    # Case where bound is lower bound\n",
    "    if which_bound == \"a\":\n",
    "\n",
    "      # Add additional comment if sign is positive for clarity, since there is a technicality when taking the absolute value\n",
    "      if sign == -1:\n",
    "        statement += f\"We perform the change of variables $u = x (t-{which_bound}) |f'({which_bound})|$, rewriting the integral as \"\n",
    "      else:\n",
    "        statement += f\"We perform the change of variables $u = x (t-{which_bound}) |f'({which_bound})|$. Note that $f'({which_bound}) < 0$ since it is a maximum. Rewriting the integral yields \"\n",
    "\n",
    "      statement += f\"\\\\begin{{equation}} I(x) \\\\approx g(a) e^{{{show_sign} x f(a)}} \\\\int_{{0}}^{{x (b-a) |f'(a)|}} \\\\frac{{1}}{{x |f'(a)|}} e^{{-u}} \\\\, du. \\\\end{{equation}} \"\\\n",
    "                   f\"Since we are interested in a solution for $I(x)$ as $x \\\\to \\\\infty$, we can simplify the integral by approximating the upper bound as \"\\\n",
    "                   f\"\\\\begin{{equation}} I(x) \\\\approx g(a) e^{{{show_sign} x f(a)}} \\\\frac{{1}}{{x |f'(a)|}} \\\\int_{{0}}^{{\\\\infty}} e^{{-u}} \\\\, du. \\\\end{{equation}} \\\\par \"\\\n",
    "                   f\"Solving the integral and evaluating, we find that \\\\par \"\\\n",
    "                   f\"\\\\begin{{equation}} \\\\boxed{{I(x) \\\\approx {latex(approximation)}}}. \\\\end{{equation}} \"\n",
    "\n",
    "    # Case where bound is upper bound\n",
    "    else:\n",
    "\n",
    "      # Add additional comment if sign is positive for clarity, since there is a technicality when taking the absolute value\n",
    "      if sign == -1:\n",
    "        statement += f\"We perform the change of variables $u = x (t-{which_bound}) |f'({which_bound})|$. Note that $f'({which_bound}) < 0$ since it is a minimum. Rewriting the integral yields \"\n",
    "      else:\n",
    "        statement += f\"We perform the change of variables $u = x (t-{which_bound}) |f'({which_bound})|$, rewriting the integral as \"\n",
    "\n",
    "\n",
    "      statement += f\"\\\\begin{{equation}} I(x) \\\\approx g(b) e^{{{show_sign} x f(b)}} \\\\int_{{x (a-b) |f'(b)|}}^{{0}} \\\\frac{{1}}{{x |f'(b)|}} e^{{u}} \\\\, du. \\\\end{{equation}} \"\\\n",
    "                   f\"Since we are interested in a solution for $I(x)$ as $x \\\\to \\\\infty$, we can simplify the integral by approximating the lower bound as \"\\\n",
    "                   f\"\\\\begin{{equation}} I(x) \\\\approx g(b) e^{{{show_sign} x f(b)}} \\\\frac{{1}}{{x |f'(b)|}} \\\\int_{{-\\\\infty}}^{{0}} e^{{u}} \\\\, du. \\\\end{{equation}} \\\\par \"\\\n",
    "                   f\"Solving the integral and evaluating, we find that \\\\par \"\\\n",
    "                   f\"\\\\begin{{equation}} \\\\boxed{{I(x) \\\\approx {latex(approximation)}}}. \\\\end{{equation}} \"\n",
    "\n",
    "  # Statement for case where min/max not on bounds\n",
    "  else:\n",
    "\n",
    "    statement += f\"Since the integral is dominated by the value of the integrand near {minima[0]}, we Taylor expand the integrand around this point: \"\\\n",
    "                 f\"\\\\begin{{equation}} I(x) =  \\\\int_{{a}}^{{b}} (g({minima[0]}) + (t-{minima[0]})g'({minima[0]})+...) e^{{{show_sign} x (f({minima[0]}) + (t-{minima[0]}) f'({minima[0]}) + \\\\frac{{(t-{minima[0]})^2}}{{2}} f''({minima[0]}) +...)}} \\\\end{{equation}}\"\\\n",
    "                 f\"But $f'({minima[0]}) = 0$ by definition, so we can remove this term from the exponent. We can then approximate \\\\begin{{equation}} I(x) \\\\approx \\\\int_{{a}}^{{b}} g({minima[0]}) e^{{{show_sign} x (f({minima[0]}) + \\\\frac{{(t-{minima[0]})^2}}{{2}} f''({minima[0]}))}} \\\\, dt, \\\\end{{equation}} \\\\par \"\\\n",
    "                 f\"which equals \\\\par \"\\\n",
    "                 f\"\\\\begin{{equation}} g({minima[0]}) e^{{{show_sign} x f({minima[0]})}} \\\\int_{{a}}^{{b}} e^{{{show_sign} x (\\\\frac{{(t-{minima[0]})^2}}{{2}} f''({minima[0]}))}} \\\\, dt. \\\\end{{equation}} \\\\par \"\\\n",
    "                 f\"We perform the change of variables $u = \\\\sqrt{{x \\\\frac{{|f''({minima[0]})|}}{{2}}}}(t-{minima[0]})$, rewriting the integral as \"\\\n",
    "                 f\"\\\\begin{{equation}} g({minima[0]}) e^{{{show_sign} x f({minima[0]})}} \\\\int_{{\\\\sqrt{{x \\\\frac{{|f''({minima[0]})|}}{{2}}}} (a-{minima[0]})}}^{{\\\\sqrt{{x \\\\frac{{|f''({minima[0]})|}}{{2}}}} (b-{minima[0]})}} \\\\sqrt{{\\\\frac{{2}}{{x |f''({minima[0]})|}}}} e^{{-u^2}} \\\\, du. \\\\end{{equation}} \\\\par \"\\\n",
    "                 f\"Since we are interested in a solution for $I(x)$ as $x \\\\to \\\\infty$, we can simplify the integral by approximating the bounds as \"\\\n",
    "                 f\"\\\\begin{{equation}} g({minima[0]}) e^{{{show_sign} x f({minima[0]})}} \\\\sqrt{{\\\\frac{{2}}{{x |f''({minima[0]})|}} }} \\\\int_{{-\\\\infty}}^{{\\\\infty}} e^{{-u^2}} \\\\, du. \\\\end{{equation}} \\\\par \"\n",
    "\n",
    "    # Case where there was one min/max\n",
    "    if num_minmax == 1:\n",
    "\n",
    "      statement += f\"Solving this integral and evaluating, we find that \\\\par \"\\\n",
    "                   f\"\\\\begin{{equation}} \\\\boxed{{I(x) \\\\approx {latex(approximation)}}}. \\\\end{{equation}}\"\n",
    "\n",
    "    # Case where there were multiple\n",
    "    else:\n",
    "\n",
    "      statement += f\"Note that here, while we ignored them in the work above, there were actually multiple $t_0$ values. \"\\\n",
    "                   f\"This means that to get the final approximation, we need to add up all the contributions of this form, one for each peak of the integrand near each $t_0$. \\\\par \"\\\n",
    "                   f\"Summing up all these contributions and evaluating gives us a final approximation of \\\\par \"\\\n",
    "                   f\"\\\\begin{{equation}} \\\\boxed{{I(x) \\\\approx {latex(approximation)}}}. \\\\end{{equation}}\"\n",
    "\n",
    "  return approximation, statement"
   ]
  },
  {
   "cell_type": "code",
   "execution_count": 685,
   "metadata": {
    "executionInfo": {
     "elapsed": 4,
     "status": "ok",
     "timestamp": 1706814581442,
     "user": {
      "displayName": "Kaylie Hausknecht",
      "userId": "04194977309324938073"
     },
     "user_tz": 300
    },
    "id": "mTT8EcXgdLx0"
   },
   "outputs": [],
   "source": [
    "## Define function to generate dataset\n",
    "def generate_dataset(n, filename, pct_error_limit):\n",
    "\n",
    "  \"\"\"\n",
    "  This function generates a csv file called filename with n prompts and solutions\n",
    "  and saves it to the specified path.\n",
    "\n",
    "  It excludes any approximations that give zero, as we need higher order terms\n",
    "  to get any information from these integrals using the Laplace method.\n",
    "  \"\"\"\n",
    "\n",
    "  current_path = os.getcwd()\n",
    "\n",
    "  xs = np.logspace(-1, 3, 300)\n",
    "  data = []\n",
    "\n",
    "  for i in range(n):\n",
    "\n",
    "    # Generate integral and prompt\n",
    "    bounds, g, f, sign, prompt = generate_problem()\n",
    "\n",
    "    # Generate solution and statement\n",
    "    approximation, solution_statement = get_solution(bounds, g, f, sign)\n",
    "\n",
    "    # Skip approximations that give zero. Laplace method to first order gives no information\n",
    "    if approximation == 0:\n",
    "      continue\n",
    "\n",
    "    # Skip NaN approximations, which occur when f'(t_0) == 0 for t_0 on the bounds\n",
    "    elif type(approximation) == sp.core.numbers.NaN:\n",
    "      continue\n",
    "\n",
    "    boxed_solution = f\"\\\\boxed{{I(x) \\\\approx {latex(approximation)}}}\"\n",
    "\n",
    "    # plot_results(approx_vals, numerical_vals, xs)\n",
    "\n",
    "    # this version only returns the ones without an error\n",
    "    numerical_vals, num_vals = integrate_numerically(bounds, g, f, sign, xs, max_error=1000)\n",
    "\n",
    "    # Computes the approximate value num_vals times; up to the point where the integration error overflows\n",
    "    approx_vals = evaluate_analytical(approximation, xs, max_val=10**90)[:num_vals]\n",
    "\n",
    "    error = get_last_pct_error(approx_vals, numerical_vals)\n",
    "\n",
    "    # computing the large x approx and numerical solutions\n",
    "    # the last x value at which the expressions are calculated\n",
    "    \n",
    "    # large_x_eval_point = xs[num_vals - 1]\n",
    "    # large_x_numerical_eval = numerical_vals[num_vals - 1]\n",
    "\n",
    "    non_zero_indices = np.nonzero(numerical_vals)\n",
    "    last_non_zero_index = non_zero_indices[0][-1]\n",
    "    large_x_eval_point = xs[last_non_zero_index]\n",
    "    large_x_numerical_eval = numerical_vals[last_non_zero_index]\n",
    "    large_x_approx_eval = approx_vals[last_non_zero_index]\n",
    "\n",
    "    # large_x_eval_point = xs[:num_vals][-1]\n",
    "    # large_x_numerical_eval = numerical_vals[:num_vals][-1]\n",
    "    # large_x_approx_eval = approx_vals[-1]\n",
    "    \n",
    "    if error <= pct_error_limit:\n",
    "      # Save\n",
    "      data.append([prompt, solution_statement, boxed_solution, large_x_approx_eval, large_x_numerical_eval, large_x_eval_point])\n",
    "      print(f\"{i+1} complete\")\n",
    "    else:\n",
    "      print(f\"{i+1} Error exceeded: {error}%\")\n",
    "\n",
    "  # Convert to array\n",
    "  data = np.array(data)\n",
    "\n",
    "  # Save array as csv file to path\n",
    "  full_path = os.path.join(current_path, filename)  # Combine directory with filename\n",
    "  data_df = pd.DataFrame(data, columns=[\"Prompt\", \"Solution\", \"Boxed Solution\",\\\n",
    "    \"Large x approximate solution\", \"Large x numerical solution\", \"Large x evaluation point\"])\n",
    "  data_df.to_csv(full_path, index=False)\n",
    "\n",
    "  # Return data\n",
    "  return data_df"
   ]
  },
  {
   "cell_type": "markdown",
   "metadata": {
    "id": "hBxUrIdUhGiN"
   },
   "source": [
    "## Testing"
   ]
  },
  {
   "cell_type": "markdown",
   "metadata": {
    "id": "aGZokrP1hIiu"
   },
   "source": [
    "Here we test the prompt and solution generation."
   ]
  },
  {
   "cell_type": "markdown",
   "metadata": {
    "id": "L_ZzPC-DolWH"
   },
   "source": [
    "### Qualitative test of approximation accuracy"
   ]
  },
  {
   "cell_type": "markdown",
   "metadata": {
    "id": "-UsTnbouopr-"
   },
   "source": [
    "Here we test prompt, response, and plot generation by inspection."
   ]
  },
  {
   "cell_type": "code",
   "execution_count": 686,
   "metadata": {
    "executionInfo": {
     "elapsed": 680,
     "status": "ok",
     "timestamp": 1706814585882,
     "user": {
      "displayName": "Kaylie Hausknecht",
      "userId": "04194977309324938073"
     },
     "user_tz": 300
    },
    "id": "NU7Q4SkjhIRt"
   },
   "outputs": [],
   "source": [
    "# Generate integral and prompt\n",
    "bounds, g, f, sign, prompt = generate_problem()\n",
    "\n",
    "# Generate solution and statement\n",
    "approximation, statement = get_solution(bounds, g, f, sign)"
   ]
  },
  {
   "cell_type": "code",
   "execution_count": 687,
   "metadata": {
    "colab": {
     "base_uri": "https://localhost:8080/",
     "height": 69
    },
    "executionInfo": {
     "elapsed": 11,
     "status": "ok",
     "timestamp": 1706814585883,
     "user": {
      "displayName": "Kaylie Hausknecht",
      "userId": "04194977309324938073"
     },
     "user_tz": 300
    },
    "id": "fdjesqxvlezd",
    "outputId": "f44a7d54-e310-4970-b1cf-80d5b4af9a21"
   },
   "outputs": [
    {
     "data": {
      "text/plain": [
       "'Consider the integral \\\\par \\\\begin{equation} I(x) = \\\\int_{-0.7}^{0.5} (- 1.3 t^{3}) e^{- x (- 2.3 t^{5} + 2.6 t^{2} - 2.7 t - 1.5 \\\\sin{\\\\left(t \\\\right)})} \\\\, dt \\\\end{equation} \\\\par Develop an analytical formula for $I(x)$ that is accurate as $x \\\\to \\\\infty$.'"
      ]
     },
     "execution_count": 687,
     "metadata": {},
     "output_type": "execute_result"
    }
   ],
   "source": [
    "prompt"
   ]
  },
  {
   "cell_type": "code",
   "execution_count": 688,
   "metadata": {
    "colab": {
     "base_uri": "https://localhost:8080/",
     "height": 137
    },
    "executionInfo": {
     "elapsed": 6,
     "status": "ok",
     "timestamp": 1706814586803,
     "user": {
      "displayName": "Kaylie Hausknecht",
      "userId": "04194977309324938073"
     },
     "user_tz": 300
    },
    "id": "wjILGOYtZXlt",
    "outputId": "dc81e79b-6cbb-4e0d-94bc-d138bc047f2a"
   },
   "outputs": [
    {
     "data": {
      "text/plain": [
       "\"The integral is of the form \\\\begin{equation} I(x) = \\\\int_{a}^{b} g(t) e^{- x f(t)} \\\\, dt \\\\end{equation} \\\\par where $a=-0.7$, $b=0.5$, $g(t) = - 1.3 t^{3}$, and $f(t) = - 2.3 t^{5} + 2.6 t^{2} - 2.7 t - 1.5 \\\\sin{\\\\left(t \\\\right)}$. This means we can use Laplace's method to develop an analytical approximation in the limit that $x \\\\to \\\\infty$. \\\\par In this limit, the integral will be dominated by the integrand near the minimum of $f(t)$ within the bounds $[-0.7, 0.5]$. So, to simplify the integral, we will expand the integrand around this minimum. \\\\par However, it is impossible to compute the minimum of $f(t)$ within these bounds analytically. We, therefore, find the minimum numerically with the dual annealing algorithm. Using a few iterations of dual annealing, we find that the minimum of $f(t)$ occurs at $t_0 = [0.5]$. \\\\par Since the integral is dominated by the value of the integrand near $t_0=b$, we Taylor expand the integrand around this point: \\\\begin{equation} I(x) =  \\\\int_{a}^{b} (g(b) + (t-b)g'(b)+...) e^{- x (f(b) + (t-b) f'(b) + ...)} \\\\, dt \\\\end{equation} We can then approximate \\\\begin{equation} I(x) \\\\approx \\\\int_{a}^{b} g(b) e^{- x (f(b) + (t-b) f'(b))} \\\\, dt \\\\end{equation} Pulling out the constant in the integral gives \\\\begin{equation} I(x) \\\\approx g(b) e^{- x f(b)} \\\\int_{a}^{b} e^{- x (t-b) f'(b)}  \\\\, dt \\\\end{equation} \\\\par We perform the change of variables $u = x (t-b) |f'(b)|$. Note that $f'(b) < 0$ since it is a minimum. Rewriting the integral yields \\\\begin{equation} I(x) \\\\approx g(b) e^{- x f(b)} \\\\int_{x (a-b) |f'(b)|}^{0} \\\\frac{1}{x |f'(b)|} e^{u} \\\\, du. \\\\end{equation} Since we are interested in a solution for $I(x)$ as $x \\\\to \\\\infty$, we can simplify the integral by approximating the lower bound as \\\\begin{equation} I(x) \\\\approx g(b) e^{- x f(b)} \\\\frac{1}{x |f'(b)|} \\\\int_{-\\\\infty}^{0} e^{u} \\\\, du. \\\\end{equation} \\\\par Solving the integral and evaluating, we find that \\\\par \\\\begin{equation} \\\\boxed{I(x) \\\\approx - \\\\frac{0.0761079974565744 e^{1.4910133079063 x}}{x}}. \\\\end{equation} \""
      ]
     },
     "execution_count": 688,
     "metadata": {},
     "output_type": "execute_result"
    }
   ],
   "source": [
    "statement"
   ]
  },
  {
   "cell_type": "code",
   "execution_count": 689,
   "metadata": {
    "colab": {
     "base_uri": "https://localhost:8080/",
     "height": 592
    },
    "executionInfo": {
     "elapsed": 25465,
     "status": "ok",
     "timestamp": 1706814616206,
     "user": {
      "displayName": "Kaylie Hausknecht",
      "userId": "04194977309324938073"
     },
     "user_tz": 300
    },
    "id": "T1Hmhga1ZQtc",
    "outputId": "0507d421-4737-4ae4-b433-718c8685736b"
   },
   "outputs": [],
   "source": [
    "## Compare analytical approximation and numerical solution\n",
    "\n",
    "# Define array of xs to test on\n",
    "xs = np.logspace(-1, 3, 300)\n",
    "\n",
    "# Get numerical solution\n",
    "# this version only returns the ones without an error\n",
    "numerical_vals, num_vals = integrate_numerically(bounds, g, f, sign, xs, max_error=1000)\n",
    "\n",
    "# Get analytical approximation\n",
    "# Computes the approximate value num_vals times; up to the point where the integration error overflows\n",
    "approx_vals = evaluate_analytical(approximation, xs, max_val=10**90)[:num_vals]\n",
    "\n",
    "# Plot results\n",
    "#plot_results(approx_vals, numerical_vals, xs)"
   ]
  },
  {
   "cell_type": "markdown",
   "metadata": {
    "id": "Vx6x27DhcuSx"
   },
   "source": [
    "### Quantitative test of approximation accuracy"
   ]
  },
  {
   "cell_type": "markdown",
   "metadata": {
    "id": "112ln8JdcuS3"
   },
   "source": [
    "Here, we use the absolute percent error between $I(x)$ and its approximation at the largest value of x we computed with reasonable numerical accuracy to get a rough quantitative estimate of the quality of our approximations."
   ]
  },
  {
   "cell_type": "code",
   "execution_count": 690,
   "metadata": {
    "id": "1VURKtNmcuS3"
   },
   "outputs": [],
   "source": [
    "## Define function to roughly quantify quality of approximation\n",
    "def get_last_pct_error(approx_vals, numerical_vals):\n",
    "\n",
    "  \"\"\"\n",
    "  This function gets the absolute percent error between the numerical values\n",
    "  and the analytical approximation at the last point (ie the largest x value)\n",
    "  for which numerical integration worked and was nonzero.\n",
    "  \"\"\"\n",
    "\n",
    "  # Get index of last nonzero input to numerical vals\n",
    "  non_zero_indices = np.nonzero(numerical_vals)\n",
    "  last_non_zero_index = non_zero_indices[0][-1]\n",
    "\n",
    "  # Get average over last 5 numerical values\n",
    "  last_num_val_avg = np.average(numerical_vals[last_non_zero_index-5:last_non_zero_index])\n",
    "\n",
    "  # Get average over last 5 analytical values for this same x\n",
    "  corresponding_approx_avg = np.average(approx_vals[last_non_zero_index-5:last_non_zero_index])\n",
    "\n",
    "\n",
    "  # epsilon = 1e-5  # A small number to prevent division by zero\n",
    "  # Return absolute pct error between them. Add a small number in the denominator to avoid division by zero\n",
    "  return np.abs((corresponding_approx_avg - last_num_val_avg) / (last_num_val_avg)) * 100"
   ]
  },
  {
   "cell_type": "code",
   "execution_count": 691,
   "metadata": {
    "colab": {
     "base_uri": "https://localhost:8080/"
    },
    "id": "M2vFuFDzcuS3",
    "outputId": "df7fd74a-d084-4b17-c1ba-caafa8ee2605"
   },
   "outputs": [
    {
     "name": "stdout",
     "output_type": "stream",
     "text": [
      "85.2473769622516\n",
      "2.66239545918381\n"
     ]
    },
    {
     "data": {
      "image/png": "[encoded data removed]",
      "text/plain": [
       "<Figure size 1000x600 with 1 Axes>"
      ]
     },
     "metadata": {},
     "output_type": "display_data"
    },
    {
     "data": {
      "image/png": "[encoded data removed]",
      "text/plain": [
       "<Figure size 1000x600 with 1 Axes>"
      ]
     },
     "metadata": {},
     "output_type": "display_data"
    }
   ],
   "source": [
    "## Get pct error from many approximations\n",
    "\n",
    "# Define array of xs to test on\n",
    "xs = np.logspace(-1, 3, 300)\n",
    "\n",
    "# Save errors\n",
    "errors = []\n",
    "num_correct = 0\n",
    "num_examples = 2\n",
    "pct_error_limit = 100\n",
    "\n",
    "# Run through 25 approximations\n",
    "# for _ in range(5):\n",
    "while num_correct < num_examples:\n",
    "\n",
    "  # Generate integral and prompt\n",
    "  bounds, g, f, sign, prompt = generate_problem()\n",
    "\n",
    "  # Generate solution and statement\n",
    "  approximation, statement = get_solution(bounds, g, f, sign) # this is the approximate solution by analytical\n",
    "\n",
    "  # Skip approximations that have f'(t_0) = 0 when t_0 on bounds\n",
    "  if type(approximation) == sp.core.numbers.NaN:\n",
    "    continue\n",
    "\n",
    "  # Skip approximations that have g(t_0) = 0 since we need higher order terms for Laplace\n",
    "  elif approximation == 0:\n",
    "    continue\n",
    "\n",
    "  # Get numerical solution\n",
    "  # this version only returns the ones without an error\n",
    "  numerical_vals, num_vals = integrate_numerically(bounds, g, f, sign, xs, max_error=1000)\n",
    "\n",
    "  # Get analytical approximation\n",
    "  # Computes the approximate value num_vals times; up to the point where the integration error overflows\n",
    "  approx_vals = evaluate_analytical(approximation, xs, max_val=10**90)[:num_vals]\n",
    "\n",
    "  plot_results(approx_vals, numerical_vals, xs)\n",
    "\n",
    "  # Get error\n",
    "  error = get_last_pct_error(approx_vals, numerical_vals)\n",
    "  if error <= pct_error_limit:\n",
    "    num_correct += 1\n",
    "    # Save and print\n",
    "    errors.append(error)\n",
    "    print(error)\n",
    "\n",
    "  else:\n",
    "    print(f\"Error exceeded on this iteration ({error}%). Trying again.\")"
   ]
  },
  {
   "cell_type": "markdown",
   "metadata": {
    "id": "YOR8QjH8c8Q9"
   },
   "source": [
    "## Dataset generation"
   ]
  },
  {
   "cell_type": "markdown",
   "metadata": {
    "id": "YSUHVFNmdFlX"
   },
   "source": [
    "Here we generate a dataset! Note that it may take some time, as numerically finding the minimum of f(t) can be slow since we have made it robust to rapidly oscillating functions."
   ]
  },
  {
   "cell_type": "markdown",
   "metadata": {},
   "source": [
    "Adding the error calculation takes a bit longer."
   ]
  },
  {
   "cell_type": "markdown",
   "metadata": {},
   "source": [
    "## Try/catch block to avoid errors"
   ]
  },
  {
   "cell_type": "code",
   "execution_count": 692,
   "metadata": {},
   "outputs": [],
   "source": [
    "def generate_dataset(n, filename, pct_error_limit):\n",
    "  \"\"\"\n",
    "  This function generates a csv file called filename with n prompts and solutions\n",
    "  and saves it to the specified path.\n",
    "\n",
    "  It excludes any approximations that give zero, as we need higher order terms\n",
    "  to get any information from these integrals using the Laplace method.\n",
    "  \"\"\"\n",
    "  current_path = os.getcwd()\n",
    "\n",
    "  xs = np.logspace(-1, 3, 300)\n",
    "  data = []\n",
    "\n",
    "  num_complete_problems = 0\n",
    "  counter = 0\n",
    "\n",
    "  while num_complete_problems < n:\n",
    "    try:\n",
    "      # Generate integral and prompt\n",
    "      bounds, g, f, sign, prompt = generate_problem()\n",
    "\n",
    "      # Generate solution and statement\n",
    "      approximation, solution_statement = get_solution(bounds, g, f, sign)\n",
    "\n",
    "      # Skip approximations that give zero. Laplace method to first order gives no information\n",
    "      if approximation == 0:\n",
    "        continue\n",
    "\n",
    "      # Skip NaN approximations, which occur when f'(t_0) == 0 for t_0 on the bounds\n",
    "      elif type(approximation) == sp.core.numbers.NaN:\n",
    "        continue\n",
    "\n",
    "      boxed_solution = f\"\\\\boxed{{I(x) \\\\approx {sp.latex(approximation)}}}\"\n",
    "\n",
    "      numerical_vals, num_vals = integrate_numerically(bounds, g, f, sign, xs, max_error=1000)\n",
    "      approx_vals = evaluate_analytical(approximation, xs, max_val=10**90)[:num_vals]\n",
    "\n",
    "      error = get_last_pct_error(approx_vals, numerical_vals)\n",
    "      non_zero_indices = np.nonzero(numerical_vals)\n",
    "      last_non_zero_index = non_zero_indices[0][-1]\n",
    "      large_x_eval_point = xs[last_non_zero_index]\n",
    "      large_x_numerical_eval = numerical_vals[last_non_zero_index]\n",
    "      large_x_approx_eval = approx_vals[last_non_zero_index]\n",
    "      \n",
    "      if error <= pct_error_limit:\n",
    "        data.append([prompt, solution_statement, boxed_solution, large_x_approx_eval, large_x_numerical_eval, large_x_eval_point])\n",
    "        print(f\"{counter+1} complete\")\n",
    "        np.save( 'approx.npy', approx_vals)\n",
    "        np.save( 'numer.npy', numerical_vals)\n",
    "        np.save('xs.npy', xs)\n",
    "        with open('box.txt', 'w') as f:\n",
    "            f.write(boxed_solution)\n",
    "       # plot_results(approx_vals, numerical_vals,xs, boxed_solution)\n",
    "       # plt.show()\n",
    "        num_complete_problems += 1\n",
    "\n",
    "      else:\n",
    "        print(f\"{counter+1} Error exceeded: {error}%\")\n",
    "\n",
    "    except Exception as e:\n",
    "      print(f\"Error in iteration {counter+1}: {e}. Moving to the next iteration.\")\n",
    "      continue  # Continue to the next iteration even if an error occurred\n",
    "    counter += 1\n",
    "\n",
    "  # Convert to array\n",
    "  data = np.array(data)\n",
    "\n",
    "  # Save array as csv file to path\n",
    "  full_path = os.path.join(current_path, filename)  # Combine directory with filename\n",
    "  data_df = pd.DataFrame(data, columns=[\"question\", \"solution\", \"extracted_answer\",\\\n",
    "    \"large_analytical\", \"large_numerical\", \"large_eval_point\"])\n",
    "  data_df.to_csv(full_path, index=False)\n",
    "\n",
    "  return data_df"
   ]
  },
  {
   "cell_type": "code",
   "execution_count": 718,
   "metadata": {
    "colab": {
     "base_uri": "https://localhost:8080/"
    },
    "id": "Ghs4F5yjdImI",
    "outputId": "8dc4d002-d788-4983-b51c-540ead792b71",
    "scrolled": false
   },
   "outputs": [
    {
     "name": "stdout",
     "output_type": "stream",
     "text": [
      "1 complete\n",
      "2 complete\n",
      "3 complete\n",
      "4 complete\n",
      "5 complete\n",
      "6 Error exceeded: 173.290908773458%\n",
      "7 Error exceeded: 10.5081690496349%\n",
      "8 complete\n",
      "9 Error exceeded: 36.3687903492252%\n",
      "10 complete\n",
      "11 complete\n",
      "12 complete\n",
      "13 Error exceeded: 8467.55858474949%\n",
      "14 complete\n",
      "15 complete\n",
      "16 Error exceeded: 11.1801105528022%\n",
      "17 complete\n",
      "18 complete\n",
      "19 complete\n",
      "20 complete\n"
     ]
    }
   ],
   "source": [
    "## Generate dataset!\n",
    "\n",
    "# Number of problems\n",
    "n = 15\n",
    "\n",
    "# Generate dataset\n",
    "data = generate_dataset(n=n, filename=\"laplace_integral_data.csv\", pct_error_limit=10)"
   ]
  },
  {
   "cell_type": "markdown",
   "metadata": {},
   "source": [
    "# Post-Processing"
   ]
  },
  {
   "cell_type": "markdown",
   "metadata": {},
   "source": [
    "Three post-processing functions are provided. The first function rounds the numerical values in the solutions to the second decimal place. "
   ]
  },
  {
   "cell_type": "code",
   "execution_count": 719,
   "metadata": {},
   "outputs": [],
   "source": [
    "def round_numbers_in_string(input_string):\n",
    "    # Define a function to round numbers\n",
    "    def round_match(match):\n",
    "        # Original matched string\n",
    "        original_number = match.group(0)\n",
    "        # Convert the matched string to a float and round it\n",
    "        number = float(original_number)\n",
    "        rounded_number = round(number, 2)\n",
    "\n",
    "        # Determine formatting based on original presentation and rounded result\n",
    "        if abs(number - rounded_number) < 0.005 and len(original_number.split('.')[1]) == 1:\n",
    "            # If the original number was close to the rounded result and had only one digit after decimal,\n",
    "            # return the original number to avoid unnecessary '.10' addition\n",
    "            return original_number\n",
    "        else:\n",
    "            # Apply two decimal formatting, automatically includes cases like .101 becoming .10\n",
    "            return f\"{rounded_number:.2f}\"\n",
    "\n",
    "    # Use regex to find all numbers in the string and apply the rounding\n",
    "    rounded_string = re.sub(r\"\\b\\d+\\.\\d+\\b\", round_match, input_string)\n",
    "    return rounded_string\n"
   ]
  },
  {
   "cell_type": "code",
   "execution_count": 720,
   "metadata": {},
   "outputs": [],
   "source": [
    "for i in range(len(data)): \n",
    "    data.loc[i,'solution']=round_numbers_in_string(data.loc[i, 'solution'])\n",
    "    data.loc[i,'extracted_answer']=round_numbers_in_string(data.loc[i, 'extracted_answer'])"
   ]
  },
  {
   "cell_type": "markdown",
   "metadata": {},
   "source": [
    "The second function replaces $--$ with $+$ when it appears in the solution. "
   ]
  },
  {
   "cell_type": "code",
   "execution_count": 721,
   "metadata": {},
   "outputs": [],
   "source": [
    "def replace_minus_minus_with_plus(math_text):\n",
    "    # Replace all instances of '--' with '+'\n",
    "    updated_text = math_text.replace(\"--\", \"+\")\n",
    "    return updated_text"
   ]
  },
  {
   "cell_type": "code",
   "execution_count": 722,
   "metadata": {},
   "outputs": [],
   "source": [
    "for i in range(len(data)): \n",
    "    data.loc[i,'solution']=replace_minus_minus_with_plus(data.loc[i, 'solution'])\n",
    "    data.loc[i,'extracted_answer']=replace_minus_minus_with_plus(data.loc[i, 'extracted_answer'])"
   ]
  },
  {
   "cell_type": "markdown",
   "metadata": {},
   "source": [
    "The third function identifies solutions with a particular string. To solve randomly generated Laplace integral problems, the \"get_solution\" function considers a number of different cases (through a series of if/else statements), each of which require slightly different treatments in their solutions. Because problems are randomly generated, some cases are more/less likely to be generated. To weight certain cases more or less in the training/evaluation dataset, one can generate extra data, identify the cases based on text used in the solution for each case with this function, and weight the final dataset accordingly."
   ]
  },
  {
   "cell_type": "code",
   "execution_count": 723,
   "metadata": {},
   "outputs": [],
   "source": [
    "def find_entries_with_string(df, search_string):\n",
    "    # Use applymap to apply str.contains to each element; this returns a DataFrame of booleans\n",
    "    mask = df.applymap(lambda x: search_string in str(x) if pd.notna(x) else False)\n",
    "    # Filter the DataFrame to keep only the rows where any column matches the condition\n",
    "    filtered_df = df[mask.any(axis=1)]\n",
    "    return filtered_df"
   ]
  },
  {
   "cell_type": "markdown",
   "metadata": {},
   "source": [
    "As an example, to find problems/solutions where the critical point is found numerically, we use the search string \"annealing.\""
   ]
  },
  {
   "cell_type": "code",
   "execution_count": 724,
   "metadata": {},
   "outputs": [
    {
     "data": {
      "text/html": [
       "<div>\n",
       "<style scoped>\n",
       "    .dataframe tbody tr th:only-of-type {\n",
       "        vertical-align: middle;\n",
       "    }\n",
       "\n",
       "    .dataframe tbody tr th {\n",
       "        vertical-align: top;\n",
       "    }\n",
       "\n",
       "    .dataframe thead th {\n",
       "        text-align: right;\n",
       "    }\n",
       "</style>\n",
       "<table border=\"1\" class=\"dataframe\">\n",
       "  <thead>\n",
       "    <tr style=\"text-align: right;\">\n",
       "      <th></th>\n",
       "      <th>question</th>\n",
       "      <th>solution</th>\n",
       "      <th>extracted_answer</th>\n",
       "      <th>large_analytical</th>\n",
       "      <th>large_numerical</th>\n",
       "      <th>large_eval_point</th>\n",
       "    </tr>\n",
       "  </thead>\n",
       "  <tbody>\n",
       "    <tr>\n",
       "      <th>0</th>\n",
       "      <td>Consider the integral \\par \\begin{equation} I(...</td>\n",
       "      <td>The integral is of the form \\begin{equation} I...</td>\n",
       "      <td>\\boxed{I(x) \\approx - 0.31 \\sqrt{\\pi} \\sqrt{\\f...</td>\n",
       "      <td>-3089126206065.59</td>\n",
       "      <td>-3079597825773.524414</td>\n",
       "      <td>162.443501</td>\n",
       "    </tr>\n",
       "    <tr>\n",
       "      <th>2</th>\n",
       "      <td>Consider the integral \\par \\begin{equation} I(...</td>\n",
       "      <td>The integral is of the form \\begin{equation} I...</td>\n",
       "      <td>\\boxed{I(x) \\approx - \\frac{4.28 e^{- 0.10 x}}...</td>\n",
       "      <td>-3.64253315365385e-46</td>\n",
       "      <td>-0.0</td>\n",
       "      <td>1000.0</td>\n",
       "    </tr>\n",
       "    <tr>\n",
       "      <th>3</th>\n",
       "      <td>Consider the integral \\par \\begin{equation} I(...</td>\n",
       "      <td>The integral is of the form \\begin{equation} I...</td>\n",
       "      <td>\\boxed{I(x) \\approx \\frac{0.71 e^{- 0.04 x}}{x}}</td>\n",
       "      <td>4.37361660799908e-22</td>\n",
       "      <td>0.0</td>\n",
       "      <td>1000.0</td>\n",
       "    </tr>\n",
       "    <tr>\n",
       "      <th>6</th>\n",
       "      <td>Consider the integral \\par \\begin{equation} I(...</td>\n",
       "      <td>The integral is of the form \\begin{equation} I...</td>\n",
       "      <td>\\boxed{I(x) \\approx - \\frac{0.10 e^{- 0.48 x}}...</td>\n",
       "      <td>-2.33206174520629e-213</td>\n",
       "      <td>-0.0</td>\n",
       "      <td>1000.0</td>\n",
       "    </tr>\n",
       "    <tr>\n",
       "      <th>9</th>\n",
       "      <td>Consider the integral \\par \\begin{equation} I(...</td>\n",
       "      <td>The integral is of the form \\begin{equation} I...</td>\n",
       "      <td>\\boxed{I(x) \\approx - \\frac{2.25 e^{2.61 x}}{x}}</td>\n",
       "      <td>-2.74924336423193e+17</td>\n",
       "      <td>-287134096001236832.0</td>\n",
       "      <td>16.119734</td>\n",
       "    </tr>\n",
       "    <tr>\n",
       "      <th>10</th>\n",
       "      <td>Consider the integral \\par \\begin{equation} I(...</td>\n",
       "      <td>The integral is of the form \\begin{equation} I...</td>\n",
       "      <td>\\boxed{I(x) \\approx - \\frac{0.47 e^{1.13 x}}{x}}</td>\n",
       "      <td>-2261725082747.06</td>\n",
       "      <td>-2353071423849.473145</td>\n",
       "      <td>28.942661</td>\n",
       "    </tr>\n",
       "    <tr>\n",
       "      <th>12</th>\n",
       "      <td>Consider the integral \\par \\begin{equation} I(...</td>\n",
       "      <td>The integral is of the form \\begin{equation} I...</td>\n",
       "      <td>\\boxed{I(x) \\approx \\frac{0.12 e^{4.14 x}}{x}}</td>\n",
       "      <td>188945529407733.</td>\n",
       "      <td>183381371263017.75</td>\n",
       "      <td>8.977952</td>\n",
       "    </tr>\n",
       "    <tr>\n",
       "      <th>13</th>\n",
       "      <td>Consider the integral \\par \\begin{equation} I(...</td>\n",
       "      <td>The integral is of the form \\begin{equation} I...</td>\n",
       "      <td>\\boxed{I(x) \\approx \\frac{0.33 e^{0.63 x}}{x}}</td>\n",
       "      <td>320757309255.174</td>\n",
       "      <td>293885435957.430664</td>\n",
       "      <td>50.389626</td>\n",
       "    </tr>\n",
       "  </tbody>\n",
       "</table>\n",
       "</div>"
      ],
      "text/plain": [
       "                                             question  \\\n",
       "0   Consider the integral \\par \\begin{equation} I(...   \n",
       "2   Consider the integral \\par \\begin{equation} I(...   \n",
       "3   Consider the integral \\par \\begin{equation} I(...   \n",
       "6   Consider the integral \\par \\begin{equation} I(...   \n",
       "9   Consider the integral \\par \\begin{equation} I(...   \n",
       "10  Consider the integral \\par \\begin{equation} I(...   \n",
       "12  Consider the integral \\par \\begin{equation} I(...   \n",
       "13  Consider the integral \\par \\begin{equation} I(...   \n",
       "\n",
       "                                             solution  \\\n",
       "0   The integral is of the form \\begin{equation} I...   \n",
       "2   The integral is of the form \\begin{equation} I...   \n",
       "3   The integral is of the form \\begin{equation} I...   \n",
       "6   The integral is of the form \\begin{equation} I...   \n",
       "9   The integral is of the form \\begin{equation} I...   \n",
       "10  The integral is of the form \\begin{equation} I...   \n",
       "12  The integral is of the form \\begin{equation} I...   \n",
       "13  The integral is of the form \\begin{equation} I...   \n",
       "\n",
       "                                     extracted_answer        large_analytical  \\\n",
       "0   \\boxed{I(x) \\approx - 0.31 \\sqrt{\\pi} \\sqrt{\\f...       -3089126206065.59   \n",
       "2   \\boxed{I(x) \\approx - \\frac{4.28 e^{- 0.10 x}}...   -3.64253315365385e-46   \n",
       "3    \\boxed{I(x) \\approx \\frac{0.71 e^{- 0.04 x}}{x}}    4.37361660799908e-22   \n",
       "6   \\boxed{I(x) \\approx - \\frac{0.10 e^{- 0.48 x}}...  -2.33206174520629e-213   \n",
       "9    \\boxed{I(x) \\approx - \\frac{2.25 e^{2.61 x}}{x}}   -2.74924336423193e+17   \n",
       "10   \\boxed{I(x) \\approx - \\frac{0.47 e^{1.13 x}}{x}}       -2261725082747.06   \n",
       "12     \\boxed{I(x) \\approx \\frac{0.12 e^{4.14 x}}{x}}        188945529407733.   \n",
       "13     \\boxed{I(x) \\approx \\frac{0.33 e^{0.63 x}}{x}}        320757309255.174   \n",
       "\n",
       "         large_numerical large_eval_point  \n",
       "0  -3079597825773.524414       162.443501  \n",
       "2                   -0.0           1000.0  \n",
       "3                    0.0           1000.0  \n",
       "6                   -0.0           1000.0  \n",
       "9  -287134096001236832.0        16.119734  \n",
       "10 -2353071423849.473145        28.942661  \n",
       "12    183381371263017.75         8.977952  \n",
       "13   293885435957.430664        50.389626  "
      ]
     },
     "execution_count": 724,
     "metadata": {},
     "output_type": "execute_result"
    }
   ],
   "source": [
    "find_entries_with_string(data, \"annealing\")"
   ]
  },
  {
   "cell_type": "markdown",
   "metadata": {},
   "source": [
    "The search string \"we can remove this term from the exponent\" can be used to find cases where the maximum/minimum is between the integral bounds not on the bounds."
   ]
  },
  {
   "cell_type": "code",
   "execution_count": 725,
   "metadata": {},
   "outputs": [
    {
     "data": {
      "text/html": [
       "<div>\n",
       "<style scoped>\n",
       "    .dataframe tbody tr th:only-of-type {\n",
       "        vertical-align: middle;\n",
       "    }\n",
       "\n",
       "    .dataframe tbody tr th {\n",
       "        vertical-align: top;\n",
       "    }\n",
       "\n",
       "    .dataframe thead th {\n",
       "        text-align: right;\n",
       "    }\n",
       "</style>\n",
       "<table border=\"1\" class=\"dataframe\">\n",
       "  <thead>\n",
       "    <tr style=\"text-align: right;\">\n",
       "      <th></th>\n",
       "      <th>question</th>\n",
       "      <th>solution</th>\n",
       "      <th>extracted_answer</th>\n",
       "      <th>large_analytical</th>\n",
       "      <th>large_numerical</th>\n",
       "      <th>large_eval_point</th>\n",
       "    </tr>\n",
       "  </thead>\n",
       "  <tbody>\n",
       "    <tr>\n",
       "      <th>0</th>\n",
       "      <td>Consider the integral \\par \\begin{equation} I(...</td>\n",
       "      <td>The integral is of the form \\begin{equation} I...</td>\n",
       "      <td>\\boxed{I(x) \\approx - 0.31 \\sqrt{\\pi} \\sqrt{\\f...</td>\n",
       "      <td>-3089126206065.59</td>\n",
       "      <td>-3079597825773.524414</td>\n",
       "      <td>162.443501</td>\n",
       "    </tr>\n",
       "    <tr>\n",
       "      <th>5</th>\n",
       "      <td>Consider the integral \\par \\begin{equation} I(...</td>\n",
       "      <td>The integral is of the form \\begin{equation} I...</td>\n",
       "      <td>\\boxed{I(x) \\approx - 0.82 \\sqrt{\\pi} \\sqrt{\\f...</td>\n",
       "      <td>-270745043297.274</td>\n",
       "      <td>-271265539822.99115</td>\n",
       "      <td>28.942661</td>\n",
       "    </tr>\n",
       "    <tr>\n",
       "      <th>14</th>\n",
       "      <td>Consider the integral \\par \\begin{equation} I(...</td>\n",
       "      <td>The integral is of the form \\begin{equation} I...</td>\n",
       "      <td>\\boxed{I(x) \\approx 0.35 \\sqrt{\\pi} \\sqrt{\\fra...</td>\n",
       "      <td>3.09364355877521e-315</td>\n",
       "      <td>0.0</td>\n",
       "      <td>350.873446</td>\n",
       "    </tr>\n",
       "  </tbody>\n",
       "</table>\n",
       "</div>"
      ],
      "text/plain": [
       "                                             question  \\\n",
       "0   Consider the integral \\par \\begin{equation} I(...   \n",
       "5   Consider the integral \\par \\begin{equation} I(...   \n",
       "14  Consider the integral \\par \\begin{equation} I(...   \n",
       "\n",
       "                                             solution  \\\n",
       "0   The integral is of the form \\begin{equation} I...   \n",
       "5   The integral is of the form \\begin{equation} I...   \n",
       "14  The integral is of the form \\begin{equation} I...   \n",
       "\n",
       "                                     extracted_answer       large_analytical  \\\n",
       "0   \\boxed{I(x) \\approx - 0.31 \\sqrt{\\pi} \\sqrt{\\f...      -3089126206065.59   \n",
       "5   \\boxed{I(x) \\approx - 0.82 \\sqrt{\\pi} \\sqrt{\\f...      -270745043297.274   \n",
       "14  \\boxed{I(x) \\approx 0.35 \\sqrt{\\pi} \\sqrt{\\fra...  3.09364355877521e-315   \n",
       "\n",
       "         large_numerical large_eval_point  \n",
       "0  -3079597825773.524414       162.443501  \n",
       "5    -271265539822.99115        28.942661  \n",
       "14                   0.0       350.873446  "
      ]
     },
     "execution_count": 725,
     "metadata": {},
     "output_type": "execute_result"
    }
   ],
   "source": [
    "find_entries_with_string(data, \"we can remove this term from the exponent\")"
   ]
  },
  {
   "cell_type": "markdown",
   "metadata": {},
   "source": [
    "The search string \"upper bound\" or \"lower bound\" can be used to find cases where the maximum and minimum are on the upper or lower bound"
   ]
  },
  {
   "cell_type": "code",
   "execution_count": 726,
   "metadata": {},
   "outputs": [
    {
     "data": {
      "text/html": [
       "<div>\n",
       "<style scoped>\n",
       "    .dataframe tbody tr th:only-of-type {\n",
       "        vertical-align: middle;\n",
       "    }\n",
       "\n",
       "    .dataframe tbody tr th {\n",
       "        vertical-align: top;\n",
       "    }\n",
       "\n",
       "    .dataframe thead th {\n",
       "        text-align: right;\n",
       "    }\n",
       "</style>\n",
       "<table border=\"1\" class=\"dataframe\">\n",
       "  <thead>\n",
       "    <tr style=\"text-align: right;\">\n",
       "      <th></th>\n",
       "      <th>question</th>\n",
       "      <th>solution</th>\n",
       "      <th>extracted_answer</th>\n",
       "      <th>large_analytical</th>\n",
       "      <th>large_numerical</th>\n",
       "      <th>large_eval_point</th>\n",
       "    </tr>\n",
       "  </thead>\n",
       "  <tbody>\n",
       "    <tr>\n",
       "      <th>1</th>\n",
       "      <td>Consider the integral \\par \\begin{equation} I(...</td>\n",
       "      <td>The integral is of the form \\begin{equation} I...</td>\n",
       "      <td>\\boxed{I(x) \\approx - \\frac{0.15 e^{1.82 x}}{x}}</td>\n",
       "      <td>-305066448017.368</td>\n",
       "      <td>-310674672788.664368</td>\n",
       "      <td>17.144061</td>\n",
       "    </tr>\n",
       "    <tr>\n",
       "      <th>3</th>\n",
       "      <td>Consider the integral \\par \\begin{equation} I(...</td>\n",
       "      <td>The integral is of the form \\begin{equation} I...</td>\n",
       "      <td>\\boxed{I(x) \\approx \\frac{0.71 e^{- 0.04 x}}{x}}</td>\n",
       "      <td>4.37361660799908e-22</td>\n",
       "      <td>0.0</td>\n",
       "      <td>1000.0</td>\n",
       "    </tr>\n",
       "    <tr>\n",
       "      <th>4</th>\n",
       "      <td>Consider the integral \\par \\begin{equation} I(...</td>\n",
       "      <td>The integral is of the form \\begin{equation} I...</td>\n",
       "      <td>\\boxed{I(x) \\approx - \\frac{0.20 e^{1.0 x}}{x}}</td>\n",
       "      <td>-22229809347785.1</td>\n",
       "      <td>-20513735545384.023438</td>\n",
       "      <td>35.907399</td>\n",
       "    </tr>\n",
       "    <tr>\n",
       "      <th>7</th>\n",
       "      <td>Consider the integral \\par \\begin{equation} I(...</td>\n",
       "      <td>The integral is of the form \\begin{equation} I...</td>\n",
       "      <td>\\boxed{I(x) \\approx - \\frac{6.81 e^{- 0.06 x}}...</td>\n",
       "      <td>-6.56947901117154e-28</td>\n",
       "      <td>-0.0</td>\n",
       "      <td>1000.0</td>\n",
       "    </tr>\n",
       "    <tr>\n",
       "      <th>8</th>\n",
       "      <td>Consider the integral \\par \\begin{equation} I(...</td>\n",
       "      <td>The integral is of the form \\begin{equation} I...</td>\n",
       "      <td>\\boxed{I(x) \\approx - \\frac{0.43 e^{- 0.62 x}}...</td>\n",
       "      <td>-1.31000815638595e-273</td>\n",
       "      <td>-0.0</td>\n",
       "      <td>1000.0</td>\n",
       "    </tr>\n",
       "    <tr>\n",
       "      <th>10</th>\n",
       "      <td>Consider the integral \\par \\begin{equation} I(...</td>\n",
       "      <td>The integral is of the form \\begin{equation} I...</td>\n",
       "      <td>\\boxed{I(x) \\approx - \\frac{0.47 e^{1.13 x}}{x}}</td>\n",
       "      <td>-2261725082747.06</td>\n",
       "      <td>-2353071423849.473145</td>\n",
       "      <td>28.942661</td>\n",
       "    </tr>\n",
       "    <tr>\n",
       "      <th>11</th>\n",
       "      <td>Consider the integral \\par \\begin{equation} I(...</td>\n",
       "      <td>The integral is of the form \\begin{equation} I...</td>\n",
       "      <td>\\boxed{I(x) \\approx \\frac{0.08 e^{3.31 x}}{x}}</td>\n",
       "      <td>433380295794.756</td>\n",
       "      <td>417934336246.304565</td>\n",
       "      <td>9.548455</td>\n",
       "    </tr>\n",
       "    <tr>\n",
       "      <th>13</th>\n",
       "      <td>Consider the integral \\par \\begin{equation} I(...</td>\n",
       "      <td>The integral is of the form \\begin{equation} I...</td>\n",
       "      <td>\\boxed{I(x) \\approx \\frac{0.33 e^{0.63 x}}{x}}</td>\n",
       "      <td>320757309255.174</td>\n",
       "      <td>293885435957.430664</td>\n",
       "      <td>50.389626</td>\n",
       "    </tr>\n",
       "  </tbody>\n",
       "</table>\n",
       "</div>"
      ],
      "text/plain": [
       "                                             question  \\\n",
       "1   Consider the integral \\par \\begin{equation} I(...   \n",
       "3   Consider the integral \\par \\begin{equation} I(...   \n",
       "4   Consider the integral \\par \\begin{equation} I(...   \n",
       "7   Consider the integral \\par \\begin{equation} I(...   \n",
       "8   Consider the integral \\par \\begin{equation} I(...   \n",
       "10  Consider the integral \\par \\begin{equation} I(...   \n",
       "11  Consider the integral \\par \\begin{equation} I(...   \n",
       "13  Consider the integral \\par \\begin{equation} I(...   \n",
       "\n",
       "                                             solution  \\\n",
       "1   The integral is of the form \\begin{equation} I...   \n",
       "3   The integral is of the form \\begin{equation} I...   \n",
       "4   The integral is of the form \\begin{equation} I...   \n",
       "7   The integral is of the form \\begin{equation} I...   \n",
       "8   The integral is of the form \\begin{equation} I...   \n",
       "10  The integral is of the form \\begin{equation} I...   \n",
       "11  The integral is of the form \\begin{equation} I...   \n",
       "13  The integral is of the form \\begin{equation} I...   \n",
       "\n",
       "                                     extracted_answer        large_analytical  \\\n",
       "1    \\boxed{I(x) \\approx - \\frac{0.15 e^{1.82 x}}{x}}       -305066448017.368   \n",
       "3    \\boxed{I(x) \\approx \\frac{0.71 e^{- 0.04 x}}{x}}    4.37361660799908e-22   \n",
       "4     \\boxed{I(x) \\approx - \\frac{0.20 e^{1.0 x}}{x}}       -22229809347785.1   \n",
       "7   \\boxed{I(x) \\approx - \\frac{6.81 e^{- 0.06 x}}...   -6.56947901117154e-28   \n",
       "8   \\boxed{I(x) \\approx - \\frac{0.43 e^{- 0.62 x}}...  -1.31000815638595e-273   \n",
       "10   \\boxed{I(x) \\approx - \\frac{0.47 e^{1.13 x}}{x}}       -2261725082747.06   \n",
       "11     \\boxed{I(x) \\approx \\frac{0.08 e^{3.31 x}}{x}}        433380295794.756   \n",
       "13     \\boxed{I(x) \\approx \\frac{0.33 e^{0.63 x}}{x}}        320757309255.174   \n",
       "\n",
       "          large_numerical large_eval_point  \n",
       "1    -310674672788.664368        17.144061  \n",
       "3                     0.0           1000.0  \n",
       "4  -20513735545384.023438        35.907399  \n",
       "7                    -0.0           1000.0  \n",
       "8                    -0.0           1000.0  \n",
       "10  -2353071423849.473145        28.942661  \n",
       "11    417934336246.304565         9.548455  \n",
       "13    293885435957.430664        50.389626  "
      ]
     },
     "execution_count": 726,
     "metadata": {},
     "output_type": "execute_result"
    }
   ],
   "source": [
    "find_entries_with_string(data, \"upper bound\")"
   ]
  },
  {
   "cell_type": "code",
   "execution_count": 727,
   "metadata": {},
   "outputs": [
    {
     "data": {
      "text/html": [
       "<div>\n",
       "<style scoped>\n",
       "    .dataframe tbody tr th:only-of-type {\n",
       "        vertical-align: middle;\n",
       "    }\n",
       "\n",
       "    .dataframe tbody tr th {\n",
       "        vertical-align: top;\n",
       "    }\n",
       "\n",
       "    .dataframe thead th {\n",
       "        text-align: right;\n",
       "    }\n",
       "</style>\n",
       "<table border=\"1\" class=\"dataframe\">\n",
       "  <thead>\n",
       "    <tr style=\"text-align: right;\">\n",
       "      <th></th>\n",
       "      <th>question</th>\n",
       "      <th>solution</th>\n",
       "      <th>extracted_answer</th>\n",
       "      <th>large_analytical</th>\n",
       "      <th>large_numerical</th>\n",
       "      <th>large_eval_point</th>\n",
       "    </tr>\n",
       "  </thead>\n",
       "  <tbody>\n",
       "    <tr>\n",
       "      <th>1</th>\n",
       "      <td>Consider the integral \\par \\begin{equation} I(...</td>\n",
       "      <td>The integral is of the form \\begin{equation} I...</td>\n",
       "      <td>\\boxed{I(x) \\approx - \\frac{0.15 e^{1.82 x}}{x}}</td>\n",
       "      <td>-305066448017.368</td>\n",
       "      <td>-310674672788.664368</td>\n",
       "      <td>17.144061</td>\n",
       "    </tr>\n",
       "    <tr>\n",
       "      <th>2</th>\n",
       "      <td>Consider the integral \\par \\begin{equation} I(...</td>\n",
       "      <td>The integral is of the form \\begin{equation} I...</td>\n",
       "      <td>\\boxed{I(x) \\approx - \\frac{4.28 e^{- 0.10 x}}...</td>\n",
       "      <td>-3.64253315365385e-46</td>\n",
       "      <td>-0.0</td>\n",
       "      <td>1000.0</td>\n",
       "    </tr>\n",
       "    <tr>\n",
       "      <th>4</th>\n",
       "      <td>Consider the integral \\par \\begin{equation} I(...</td>\n",
       "      <td>The integral is of the form \\begin{equation} I...</td>\n",
       "      <td>\\boxed{I(x) \\approx - \\frac{0.20 e^{1.0 x}}{x}}</td>\n",
       "      <td>-22229809347785.1</td>\n",
       "      <td>-20513735545384.023438</td>\n",
       "      <td>35.907399</td>\n",
       "    </tr>\n",
       "    <tr>\n",
       "      <th>6</th>\n",
       "      <td>Consider the integral \\par \\begin{equation} I(...</td>\n",
       "      <td>The integral is of the form \\begin{equation} I...</td>\n",
       "      <td>\\boxed{I(x) \\approx - \\frac{0.10 e^{- 0.48 x}}...</td>\n",
       "      <td>-2.33206174520629e-213</td>\n",
       "      <td>-0.0</td>\n",
       "      <td>1000.0</td>\n",
       "    </tr>\n",
       "    <tr>\n",
       "      <th>7</th>\n",
       "      <td>Consider the integral \\par \\begin{equation} I(...</td>\n",
       "      <td>The integral is of the form \\begin{equation} I...</td>\n",
       "      <td>\\boxed{I(x) \\approx - \\frac{6.81 e^{- 0.06 x}}...</td>\n",
       "      <td>-6.56947901117154e-28</td>\n",
       "      <td>-0.0</td>\n",
       "      <td>1000.0</td>\n",
       "    </tr>\n",
       "    <tr>\n",
       "      <th>9</th>\n",
       "      <td>Consider the integral \\par \\begin{equation} I(...</td>\n",
       "      <td>The integral is of the form \\begin{equation} I...</td>\n",
       "      <td>\\boxed{I(x) \\approx - \\frac{2.25 e^{2.61 x}}{x}}</td>\n",
       "      <td>-2.74924336423193e+17</td>\n",
       "      <td>-287134096001236832.0</td>\n",
       "      <td>16.119734</td>\n",
       "    </tr>\n",
       "    <tr>\n",
       "      <th>11</th>\n",
       "      <td>Consider the integral \\par \\begin{equation} I(...</td>\n",
       "      <td>The integral is of the form \\begin{equation} I...</td>\n",
       "      <td>\\boxed{I(x) \\approx \\frac{0.08 e^{3.31 x}}{x}}</td>\n",
       "      <td>433380295794.756</td>\n",
       "      <td>417934336246.304565</td>\n",
       "      <td>9.548455</td>\n",
       "    </tr>\n",
       "    <tr>\n",
       "      <th>12</th>\n",
       "      <td>Consider the integral \\par \\begin{equation} I(...</td>\n",
       "      <td>The integral is of the form \\begin{equation} I...</td>\n",
       "      <td>\\boxed{I(x) \\approx \\frac{0.12 e^{4.14 x}}{x}}</td>\n",
       "      <td>188945529407733.</td>\n",
       "      <td>183381371263017.75</td>\n",
       "      <td>8.977952</td>\n",
       "    </tr>\n",
       "  </tbody>\n",
       "</table>\n",
       "</div>"
      ],
      "text/plain": [
       "                                             question  \\\n",
       "1   Consider the integral \\par \\begin{equation} I(...   \n",
       "2   Consider the integral \\par \\begin{equation} I(...   \n",
       "4   Consider the integral \\par \\begin{equation} I(...   \n",
       "6   Consider the integral \\par \\begin{equation} I(...   \n",
       "7   Consider the integral \\par \\begin{equation} I(...   \n",
       "9   Consider the integral \\par \\begin{equation} I(...   \n",
       "11  Consider the integral \\par \\begin{equation} I(...   \n",
       "12  Consider the integral \\par \\begin{equation} I(...   \n",
       "\n",
       "                                             solution  \\\n",
       "1   The integral is of the form \\begin{equation} I...   \n",
       "2   The integral is of the form \\begin{equation} I...   \n",
       "4   The integral is of the form \\begin{equation} I...   \n",
       "6   The integral is of the form \\begin{equation} I...   \n",
       "7   The integral is of the form \\begin{equation} I...   \n",
       "9   The integral is of the form \\begin{equation} I...   \n",
       "11  The integral is of the form \\begin{equation} I...   \n",
       "12  The integral is of the form \\begin{equation} I...   \n",
       "\n",
       "                                     extracted_answer        large_analytical  \\\n",
       "1    \\boxed{I(x) \\approx - \\frac{0.15 e^{1.82 x}}{x}}       -305066448017.368   \n",
       "2   \\boxed{I(x) \\approx - \\frac{4.28 e^{- 0.10 x}}...   -3.64253315365385e-46   \n",
       "4     \\boxed{I(x) \\approx - \\frac{0.20 e^{1.0 x}}{x}}       -22229809347785.1   \n",
       "6   \\boxed{I(x) \\approx - \\frac{0.10 e^{- 0.48 x}}...  -2.33206174520629e-213   \n",
       "7   \\boxed{I(x) \\approx - \\frac{6.81 e^{- 0.06 x}}...   -6.56947901117154e-28   \n",
       "9    \\boxed{I(x) \\approx - \\frac{2.25 e^{2.61 x}}{x}}   -2.74924336423193e+17   \n",
       "11     \\boxed{I(x) \\approx \\frac{0.08 e^{3.31 x}}{x}}        433380295794.756   \n",
       "12     \\boxed{I(x) \\approx \\frac{0.12 e^{4.14 x}}{x}}        188945529407733.   \n",
       "\n",
       "          large_numerical large_eval_point  \n",
       "1    -310674672788.664368        17.144061  \n",
       "2                    -0.0           1000.0  \n",
       "4  -20513735545384.023438        35.907399  \n",
       "6                    -0.0           1000.0  \n",
       "7                    -0.0           1000.0  \n",
       "9   -287134096001236832.0        16.119734  \n",
       "11    417934336246.304565         9.548455  \n",
       "12     183381371263017.75         8.977952  "
      ]
     },
     "execution_count": 727,
     "metadata": {},
     "output_type": "execute_result"
    }
   ],
   "source": [
    "find_entries_with_string(data, \"lower bound\")"
   ]
  }
 ],
 "metadata": {
  "colab": {
   "collapsed_sections": [
    "W6SwUsIwbPIo",
    "VkhDzEcYiQsL",
    "129KnpFdulQJ",
    "twpudsSLk2LD",
    "irKWcU1y-atO",
    "cnxkYqjF_cAX",
    "yBe2mfyMc6hj"
   ],
   "provenance": []
  },
  "kernelspec": {
   "display_name": "Python 3 (ipykernel)",
   "language": "python",
   "name": "python3"
  },
  "language_info": {
   "codemirror_mode": {
    "name": "ipython",
    "version": 3
   },
   "file_extension": ".py",
   "mimetype": "text/x-python",
   "name": "python",
   "nbconvert_exporter": "python",
   "pygments_lexer": "ipython3",
   "version": "3.9.13"
  }
 },
 "nbformat": 4,
 "nbformat_minor": 1
}
