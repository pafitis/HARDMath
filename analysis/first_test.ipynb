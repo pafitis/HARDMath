{
 "cells": [
  {
   "cell_type": "markdown",
   "id": "2fef3823-6d70-40a8-966a-b75a5de591ff",
   "metadata": {},
   "source": [
    "### Setup"
   ]
  },
  {
   "cell_type": "code",
   "execution_count": 2,
   "id": "b137f2b4-5f5f-4411-9aea-0f51fa3f0fa3",
   "metadata": {
    "scrolled": true
   },
   "outputs": [
    {
     "name": "stdout",
     "output_type": "stream",
     "text": [
      "Requirement already satisfied: pandas in /usr/local/lib/python3.10/dist-packages (2.2.3)\n",
      "Requirement already satisfied: numpy>=1.22.4 in /usr/local/lib/python3.10/dist-packages (from pandas) (1.24.1)\n",
      "Requirement already satisfied: python-dateutil>=2.8.2 in /usr/local/lib/python3.10/dist-packages (from pandas) (2.8.2)\n",
      "Requirement already satisfied: pytz>=2020.1 in /usr/local/lib/python3.10/dist-packages (from pandas) (2025.1)\n",
      "Requirement already satisfied: tzdata>=2022.7 in /usr/local/lib/python3.10/dist-packages (from pandas) (2025.1)\n",
      "Requirement already satisfied: six>=1.5 in /usr/lib/python3/dist-packages (from python-dateutil>=2.8.2->pandas) (1.16.0)\n",
      "\u001b[33mWARNING: Running pip as the 'root' user can result in broken permissions and conflicting behaviour with the system package manager. It is recommended to use a virtual environment instead: https://pip.pypa.io/warnings/venv\u001b[0m\u001b[33m\n",
      "\u001b[0m\n",
      "\u001b[1m[\u001b[0m\u001b[34;49mnotice\u001b[0m\u001b[1;39;49m]\u001b[0m\u001b[39;49m A new release of pip is available: \u001b[0m\u001b[31;49m23.3.1\u001b[0m\u001b[39;49m -> \u001b[0m\u001b[32;49m25.0.1\u001b[0m\n",
      "\u001b[1m[\u001b[0m\u001b[34;49mnotice\u001b[0m\u001b[1;39;49m]\u001b[0m\u001b[39;49m To update, run: \u001b[0m\u001b[32;49mpython -m pip install --upgrade pip\u001b[0m\n",
      "Requirement already satisfied: transformers in /usr/local/lib/python3.10/dist-packages (4.48.3)\n",
      "Requirement already satisfied: filelock in /usr/local/lib/python3.10/dist-packages (from transformers) (3.9.0)\n",
      "Requirement already satisfied: huggingface-hub<1.0,>=0.24.0 in /usr/local/lib/python3.10/dist-packages (from transformers) (0.28.1)\n",
      "Requirement already satisfied: numpy>=1.17 in /usr/local/lib/python3.10/dist-packages (from transformers) (1.24.1)\n",
      "Requirement already satisfied: packaging>=20.0 in /usr/local/lib/python3.10/dist-packages (from transformers) (23.2)\n",
      "Requirement already satisfied: pyyaml>=5.1 in /usr/local/lib/python3.10/dist-packages (from transformers) (6.0.1)\n",
      "Requirement already satisfied: regex!=2019.12.17 in /usr/local/lib/python3.10/dist-packages (from transformers) (2024.11.6)\n",
      "Requirement already satisfied: requests in /usr/local/lib/python3.10/dist-packages (from transformers) (2.31.0)\n",
      "Requirement already satisfied: tokenizers<0.22,>=0.21 in /usr/local/lib/python3.10/dist-packages (from transformers) (0.21.0)\n",
      "Requirement already satisfied: safetensors>=0.4.1 in /usr/local/lib/python3.10/dist-packages (from transformers) (0.5.2)\n",
      "Requirement already satisfied: tqdm>=4.27 in /usr/local/lib/python3.10/dist-packages (from transformers) (4.67.1)\n",
      "Requirement already satisfied: fsspec>=2023.5.0 in /usr/local/lib/python3.10/dist-packages (from huggingface-hub<1.0,>=0.24.0->transformers) (2025.2.0)\n",
      "Requirement already satisfied: typing-extensions>=3.7.4.3 in /usr/local/lib/python3.10/dist-packages (from huggingface-hub<1.0,>=0.24.0->transformers) (4.4.0)\n",
      "Requirement already satisfied: charset-normalizer<4,>=2 in /usr/local/lib/python3.10/dist-packages (from requests->transformers) (2.1.1)\n",
      "Requirement already satisfied: idna<4,>=2.5 in /usr/local/lib/python3.10/dist-packages (from requests->transformers) (3.4)\n",
      "Requirement already satisfied: urllib3<3,>=1.21.1 in /usr/local/lib/python3.10/dist-packages (from requests->transformers) (1.26.13)\n",
      "Requirement already satisfied: certifi>=2017.4.17 in /usr/local/lib/python3.10/dist-packages (from requests->transformers) (2022.12.7)\n",
      "\u001b[33mWARNING: Running pip as the 'root' user can result in broken permissions and conflicting behaviour with the system package manager. It is recommended to use a virtual environment instead: https://pip.pypa.io/warnings/venv\u001b[0m\u001b[33m\n",
      "\u001b[0m\n",
      "\u001b[1m[\u001b[0m\u001b[34;49mnotice\u001b[0m\u001b[1;39;49m]\u001b[0m\u001b[39;49m A new release of pip is available: \u001b[0m\u001b[31;49m23.3.1\u001b[0m\u001b[39;49m -> \u001b[0m\u001b[32;49m25.0.1\u001b[0m\n",
      "\u001b[1m[\u001b[0m\u001b[34;49mnotice\u001b[0m\u001b[1;39;49m]\u001b[0m\u001b[39;49m To update, run: \u001b[0m\u001b[32;49mpython -m pip install --upgrade pip\u001b[0m\n",
      "Requirement already satisfied: accelerate>=0.26.0 in /usr/local/lib/python3.10/dist-packages (1.3.0)\n",
      "Requirement already satisfied: numpy<3.0.0,>=1.17 in /usr/local/lib/python3.10/dist-packages (from accelerate>=0.26.0) (1.24.1)\n",
      "Requirement already satisfied: packaging>=20.0 in /usr/local/lib/python3.10/dist-packages (from accelerate>=0.26.0) (23.2)\n",
      "Requirement already satisfied: psutil in /usr/local/lib/python3.10/dist-packages (from accelerate>=0.26.0) (5.9.6)\n",
      "Requirement already satisfied: pyyaml in /usr/local/lib/python3.10/dist-packages (from accelerate>=0.26.0) (6.0.1)\n",
      "Requirement already satisfied: torch>=2.0.0 in /usr/local/lib/python3.10/dist-packages (from accelerate>=0.26.0) (2.1.0+cu118)\n",
      "Requirement already satisfied: huggingface-hub>=0.21.0 in /usr/local/lib/python3.10/dist-packages (from accelerate>=0.26.0) (0.28.1)\n",
      "Requirement already satisfied: safetensors>=0.4.3 in /usr/local/lib/python3.10/dist-packages (from accelerate>=0.26.0) (0.5.2)\n",
      "Requirement already satisfied: filelock in /usr/local/lib/python3.10/dist-packages (from huggingface-hub>=0.21.0->accelerate>=0.26.0) (3.9.0)\n",
      "Requirement already satisfied: fsspec>=2023.5.0 in /usr/local/lib/python3.10/dist-packages (from huggingface-hub>=0.21.0->accelerate>=0.26.0) (2025.2.0)\n",
      "Requirement already satisfied: requests in /usr/local/lib/python3.10/dist-packages (from huggingface-hub>=0.21.0->accelerate>=0.26.0) (2.31.0)\n",
      "Requirement already satisfied: tqdm>=4.42.1 in /usr/local/lib/python3.10/dist-packages (from huggingface-hub>=0.21.0->accelerate>=0.26.0) (4.67.1)\n",
      "Requirement already satisfied: typing-extensions>=3.7.4.3 in /usr/local/lib/python3.10/dist-packages (from huggingface-hub>=0.21.0->accelerate>=0.26.0) (4.4.0)\n",
      "Requirement already satisfied: sympy in /usr/local/lib/python3.10/dist-packages (from torch>=2.0.0->accelerate>=0.26.0) (1.12)\n",
      "Requirement already satisfied: networkx in /usr/local/lib/python3.10/dist-packages (from torch>=2.0.0->accelerate>=0.26.0) (3.0)\n",
      "Requirement already satisfied: jinja2 in /usr/local/lib/python3.10/dist-packages (from torch>=2.0.0->accelerate>=0.26.0) (3.1.2)\n",
      "Requirement already satisfied: triton==2.1.0 in /usr/local/lib/python3.10/dist-packages (from torch>=2.0.0->accelerate>=0.26.0) (2.1.0)\n",
      "Requirement already satisfied: MarkupSafe>=2.0 in /usr/local/lib/python3.10/dist-packages (from jinja2->torch>=2.0.0->accelerate>=0.26.0) (2.1.2)\n",
      "Requirement already satisfied: charset-normalizer<4,>=2 in /usr/local/lib/python3.10/dist-packages (from requests->huggingface-hub>=0.21.0->accelerate>=0.26.0) (2.1.1)\n",
      "Requirement already satisfied: idna<4,>=2.5 in /usr/local/lib/python3.10/dist-packages (from requests->huggingface-hub>=0.21.0->accelerate>=0.26.0) (3.4)\n",
      "Requirement already satisfied: urllib3<3,>=1.21.1 in /usr/local/lib/python3.10/dist-packages (from requests->huggingface-hub>=0.21.0->accelerate>=0.26.0) (1.26.13)\n",
      "Requirement already satisfied: certifi>=2017.4.17 in /usr/local/lib/python3.10/dist-packages (from requests->huggingface-hub>=0.21.0->accelerate>=0.26.0) (2022.12.7)\n",
      "Requirement already satisfied: mpmath>=0.19 in /usr/local/lib/python3.10/dist-packages (from sympy->torch>=2.0.0->accelerate>=0.26.0) (1.3.0)\n",
      "\u001b[33mWARNING: Running pip as the 'root' user can result in broken permissions and conflicting behaviour with the system package manager. It is recommended to use a virtual environment instead: https://pip.pypa.io/warnings/venv\u001b[0m\u001b[33m\n",
      "\u001b[0m\n",
      "\u001b[1m[\u001b[0m\u001b[34;49mnotice\u001b[0m\u001b[1;39;49m]\u001b[0m\u001b[39;49m A new release of pip is available: \u001b[0m\u001b[31;49m23.3.1\u001b[0m\u001b[39;49m -> \u001b[0m\u001b[32;49m25.0.1\u001b[0m\n",
      "\u001b[1m[\u001b[0m\u001b[34;49mnotice\u001b[0m\u001b[1;39;49m]\u001b[0m\u001b[39;49m To update, run: \u001b[0m\u001b[32;49mpython -m pip install --upgrade pip\u001b[0m\n"
     ]
    }
   ],
   "source": [
    "!pip install pandas\n",
    "!pip install transformers\n",
    "!pip install 'accelerate>=0.26.0'"
   ]
  },
  {
   "cell_type": "code",
   "execution_count": 3,
   "id": "a7ee9922-9cd0-4bfb-91bc-db7487928bec",
   "metadata": {},
   "outputs": [],
   "source": [
    "import os, sys\n",
    "import numpy as np\n",
    "import torch\n",
    "import pandas as pd\n",
    "import tqdm"
   ]
  },
  {
   "cell_type": "code",
   "execution_count": 4,
   "id": "41891d14-24e7-4423-86a3-c4f4ec62d068",
   "metadata": {},
   "outputs": [],
   "source": [
    "import yaml\n",
    "\n",
    "with open('keys.yaml') as f:\n",
    "    keys = yaml.safe_load(f)"
   ]
  },
  {
   "cell_type": "code",
   "execution_count": 5,
   "id": "97b2476b-aeff-49c6-b54a-5a9cbb5a282a",
   "metadata": {},
   "outputs": [],
   "source": [
    "from IPython.display import display, Math, Latex"
   ]
  },
  {
   "cell_type": "markdown",
   "id": "8d5cbdec-f62c-4f6d-b526-ba6da7188bf4",
   "metadata": {},
   "source": [
    "### Load"
   ]
  },
  {
   "cell_type": "code",
   "execution_count": 6,
   "id": "86d47ee0-9add-4d5e-89fa-9157d693a474",
   "metadata": {},
   "outputs": [],
   "source": [
    "raw_data = pd.read_json('data/HARDMath.json').T.drop_duplicates()\n",
    "eval_mini = pd.read_json('evaluation/data/HARDMath_mini.json').T.drop_duplicates()"
   ]
  },
  {
   "cell_type": "code",
   "execution_count": 7,
   "id": "f3d66fae-3b43-4500-bf71-3f5e8ee8d2ce",
   "metadata": {},
   "outputs": [
    {
     "data": {
      "text/plain": [
       "set()"
      ]
     },
     "execution_count": 7,
     "metadata": {},
     "output_type": "execute_result"
    }
   ],
   "source": [
    "## checking if the full dataset contains data from the eval dataset\n",
    "set(raw_data['question']) & set(eval_mini['question'])"
   ]
  },
  {
   "cell_type": "markdown",
   "id": "3ab235e7-06f9-4f87-aad5-785419322b38",
   "metadata": {},
   "source": [
    "### What are we working with?"
   ]
  },
  {
   "cell_type": "code",
   "execution_count": 8,
   "id": "6de4c447-7723-4b4a-a63e-40d18ea7c419",
   "metadata": {},
   "outputs": [
    {
     "data": {
      "text/plain": [
       "(853, 12)"
      ]
     },
     "execution_count": 8,
     "metadata": {},
     "output_type": "execute_result"
    }
   ],
   "source": [
    "raw_data.shape"
   ]
  },
  {
   "cell_type": "code",
   "execution_count": 9,
   "id": "5939d58d-d9d4-4a9a-bbec-c605a05db242",
   "metadata": {},
   "outputs": [
    {
     "data": {
      "text/plain": [
       "array(['nondimensionalization_symbolic', 'integral', 'ODE',\n",
       "       'polynomial_roots_corrections', 'polynomial_roots',\n",
       "       'nondimensionalization_numeric'], dtype=object)"
      ]
     },
     "execution_count": 9,
     "metadata": {},
     "output_type": "execute_result"
    }
   ],
   "source": [
    "raw_data['question_type'].unique()"
   ]
  },
  {
   "cell_type": "code",
   "execution_count": 10,
   "id": "9f2f9388-ac37-4832-9fc7-4c9c9fa017ee",
   "metadata": {},
   "outputs": [
    {
     "data": {
      "text/plain": [
       "array(['math_expression', 'list', 'float'], dtype=object)"
      ]
     },
     "execution_count": 10,
     "metadata": {},
     "output_type": "execute_result"
    }
   ],
   "source": [
    "raw_data['answer_type'].unique()"
   ]
  },
  {
   "cell_type": "markdown",
   "id": "4484bdf0-3bca-4c90-87d3-fe7c9400364c",
   "metadata": {},
   "source": [
    "### First test of performance out-of-the-box"
   ]
  },
  {
   "cell_type": "code",
   "execution_count": 11,
   "id": "acc471b7-1b4b-48a9-ae5b-92be3afe7a5e",
   "metadata": {},
   "outputs": [],
   "source": [
    "import torch\n",
    "import transformers\n",
    "from transformers import AutoTokenizer, AutoModelForCausalLM"
   ]
  },
  {
   "cell_type": "code",
   "execution_count": 12,
   "id": "5d0a8d10-1c58-4b1f-93d9-02e11a41fc6e",
   "metadata": {},
   "outputs": [],
   "source": [
    "from huggingface_hub import login\n",
    "login(keys.get('huggingface_key'))"
   ]
  },
  {
   "cell_type": "code",
   "execution_count": 13,
   "id": "aeb9c434-914a-4214-be61-6f3e702fdb03",
   "metadata": {},
   "outputs": [
    {
     "data": {
      "application/vnd.jupyter.widget-view+json": {
       "model_id": "728b85fecfae4cdb9f95fc3129bd3251",
       "version_major": 2,
       "version_minor": 0
      },
      "text/plain": [
       "Loading checkpoint shards:   0%|          | 0/4 [00:00<?, ?it/s]"
      ]
     },
     "metadata": {},
     "output_type": "display_data"
    }
   ],
   "source": [
    "model_id = \"meta-llama/Llama-3.1-8B-Instruct\"\n",
    "\n",
    "tokenizer = AutoTokenizer.from_pretrained(model_id)\n",
    "model = AutoModelForCausalLM.from_pretrained(\n",
    "    model_id,\n",
    "    torch_dtype=torch.bfloat16,\n",
    "    device_map=\"auto\",\n",
    "    token = keys.get('huggingface_key')\n",
    ")\n",
    "\n",
    "tokenizer.pad_token_id = tokenizer.eos_token_id\n",
    "model.generation_config.pad_token_id = tokenizer.pad_token_id"
   ]
  },
  {
   "cell_type": "code",
   "execution_count": 14,
   "id": "30b99f17-a0a3-4302-98d5-6e0e5d819eb8",
   "metadata": {},
   "outputs": [
    {
     "data": {
      "text/plain": [
       "LlamaForCausalLM(\n",
       "  (model): LlamaModel(\n",
       "    (embed_tokens): Embedding(128256, 4096)\n",
       "    (layers): ModuleList(\n",
       "      (0-31): 32 x LlamaDecoderLayer(\n",
       "        (self_attn): LlamaAttention(\n",
       "          (q_proj): Linear(in_features=4096, out_features=4096, bias=False)\n",
       "          (k_proj): Linear(in_features=4096, out_features=1024, bias=False)\n",
       "          (v_proj): Linear(in_features=4096, out_features=1024, bias=False)\n",
       "          (o_proj): Linear(in_features=4096, out_features=4096, bias=False)\n",
       "        )\n",
       "        (mlp): LlamaMLP(\n",
       "          (gate_proj): Linear(in_features=4096, out_features=14336, bias=False)\n",
       "          (up_proj): Linear(in_features=4096, out_features=14336, bias=False)\n",
       "          (down_proj): Linear(in_features=14336, out_features=4096, bias=False)\n",
       "          (act_fn): SiLU()\n",
       "        )\n",
       "        (input_layernorm): LlamaRMSNorm((4096,), eps=1e-05)\n",
       "        (post_attention_layernorm): LlamaRMSNorm((4096,), eps=1e-05)\n",
       "      )\n",
       "    )\n",
       "    (norm): LlamaRMSNorm((4096,), eps=1e-05)\n",
       "    (rotary_emb): LlamaRotaryEmbedding()\n",
       "  )\n",
       "  (lm_head): Linear(in_features=4096, out_features=128256, bias=False)\n",
       ")"
      ]
     },
     "execution_count": 14,
     "metadata": {},
     "output_type": "execute_result"
    }
   ],
   "source": [
    "model"
   ]
  },
  {
   "cell_type": "code",
   "execution_count": 15,
   "id": "259a8abf-0dd3-40d4-9c6b-f714cbe92ea4",
   "metadata": {},
   "outputs": [
    {
     "name": "stderr",
     "output_type": "stream",
     "text": [
      "Device set to use cuda:0\n"
     ]
    }
   ],
   "source": [
    "pipeline = transformers.pipeline(\n",
    "    'text-generation',\n",
    "    model=model,\n",
    "    tokenizer=tokenizer,\n",
    "    model_kwargs={'torch_dtype': torch.bfloat16},\n",
    "    # device='cuda',\n",
    "    device_map='auto'\n",
    ")"
   ]
  },
  {
   "cell_type": "code",
   "execution_count": 23,
   "id": "b9b88bcf-be9d-4736-ae37-d3848fb64651",
   "metadata": {},
   "outputs": [],
   "source": [
    "def get_prediction(question):\n",
    "\n",
    "    system_prompt = (\n",
    "        \"You are a helpful assistant designed to help with advanced applied mathematics problems, \"\n",
    "        \"specifically focusing on tasks like nondimensionalizing polynomials, using approximation methods to solve for polynomial \"\n",
    "        \"roots, PDEs, integrals, etc. When given a physical math question, you should answer the question according to the user's prompt.\"\n",
    "        \"Always give your final answer within a \\\\boxed command.\"\n",
    "    )\n",
    "\n",
    "    messages = [\n",
    "        {\n",
    "            'role': 'system',\n",
    "            'content': system_prompt,\n",
    "        },{\n",
    "            'role': 'user',\n",
    "            'content': question\n",
    "        }\n",
    "    ]\n",
    "\n",
    "    outputs = pipeline(messages, max_new_tokens=2048)\n",
    "    answer = outputs[0]['generated_text'][-1]['content']\n",
    "    \n",
    "    return answer"
   ]
  },
  {
   "cell_type": "code",
   "execution_count": 17,
   "id": "18a88678-4981-4f3d-9991-7640e554973d",
   "metadata": {},
   "outputs": [],
   "source": [
    "import timeit"
   ]
  },
  {
   "cell_type": "code",
   "execution_count": 18,
   "id": "75667703-3798-4492-a807-8d4275fa8b46",
   "metadata": {},
   "outputs": [],
   "source": [
    "a = timeit.time.time()\n",
    "test = raw_data.iloc[:2]\n",
    "output = test['question'].apply(get_prediction)\n",
    "b = timeit.time.time()"
   ]
  },
  {
   "cell_type": "code",
   "execution_count": 20,
   "id": "3458bcf7-6bd7-43ad-97fb-1371a2452a52",
   "metadata": {},
   "outputs": [
    {
     "name": "stdout",
     "output_type": "stream",
     "text": [
      "This took: 0.97 minutes\n"
     ]
    }
   ],
   "source": [
    "print(f'This took: {np.round((b-a) / 60, 2)} minutes')"
   ]
  },
  {
   "cell_type": "code",
   "execution_count": 34,
   "id": "c1e9cd01",
   "metadata": {},
   "outputs": [
    {
     "data": {
      "text/plain": [
       "'/workspace/HARDMath'"
      ]
     },
     "execution_count": 34,
     "metadata": {},
     "output_type": "execute_result"
    }
   ],
   "source": [
    "os.getcwd()"
   ]
  },
  {
   "cell_type": "code",
   "execution_count": 48,
   "id": "7eba7120",
   "metadata": {},
   "outputs": [
    {
     "data": {
      "text/plain": [
       "{0: ('Nondimensionalize the polynomial\\\\[a_{1} x^{21} + a_{2} x^{4} + a_{3}\\\\]into one of the form $\\\\epsilon y^{21} + y^{4} + 1. $Express $\\\\epsilon$ as a function of $a_1$, $a_2$, and $a_3.$',\n",
       "  \"To nondimensionalize the given polynomial, we want to find a transformation of variables that eliminates the coefficients of the polynomial and leaves us with a polynomial in terms of a new variable $y$. \\n\\nThe polynomial is given as $a_{1} x^{21} + a_{2} x^{4} + a_{3}$.\\n\\nWe want to transform this polynomial into the form $\\\\epsilon y^{21} + y^{4} + 1.$ \\n\\nLet's assume $y = x^{m}$. Then we can rewrite the polynomial as:\\n\\n$a_{1} (x^{m})^{21} + a_{2} (x^{m})^{4} + a_{3}$\\n\\n$= a_{1} x^{21m} + a_{2} x^{4m} + a_{3}$\\n\\nWe want the coefficients of this polynomial to be equal to the coefficients of the polynomial in the form $\\\\epsilon y^{21} + y^{4} + 1.$ \\n\\nComparing the coefficients, we get:\\n\\n$a_{1} x^{21m} = \\\\epsilon y^{21}$\\n\\n$a_{2} x^{4m} = y^{4}$\\n\\n$a_{3} = 1$\\n\\nComparing the powers of $x$ and $y$, we get:\\n\\n$21m = 21$\\n\\n$4m = 4$\\n\\n$m = 1$\\n\\nNow that we have found the value of $m$, we can substitute it back into the equation $a_{1} x^{21m} = \\\\epsilon y^{21}$ to get:\\n\\n$a_{1} x^{21} = \\\\epsilon y^{21}$\\n\\nWe can now divide both sides by $y^{21}$ to get:\\n\\n$\\\\frac{a_{1} x^{21}}{y^{21}} = \\\\epsilon$\\n\\nWe can rewrite this equation as:\\n\\n$\\\\epsilon = \\\\frac{a_{1} x^{21}}{y^{21}}$\\n\\nSubstituting $y = x^{m} = x^{1}$, we get:\\n\\n$\\\\epsilon = \\\\frac{a_{1} x^{21}}{(x^{1})^{21}}$\\n\\n$= \\\\frac{a_{1} x^{21}}{x^{21}}$\\n\\n$= a_{1}$\\n\\nHowever, we also need to take into account the other terms in the polynomial. The term $a_{2} x^{4}$ should be equal to $y^{4}$. \\n\\nWe know that $y = x^{m} = x^{1}$, so we can substitute this back into the equation $a_{2} x^{4} = y^{4}$ to get:\\n\\n$a_{2} x^{4} = (x^{1})^{4}$\\n\\n$= x^{4}$\\n\\nWe can now divide both sides by $x^{4}$ to get:\\n\\n$\\\\frac{a_{2} x^{4}}{x^{4}} = \\\\frac{x^{4}}{x^{4}}$\\n\\n$a_{2} = \\\\frac{x^{4}}{x^{4}}$\\n\\nHowever, we can't have $x^{4}$ divided by $x^{4}$, as it would be undefined. This means that our initial assumption that $y = x^{m}$ is not correct for all terms in the polynomial.\\n\\nHowever, we can see that the term $a_{3}$ is equal to 1, so we can divide the entire polynomial by $a_{3}$ to get:\\n\\n$\\\\frac{a_{1} x^{21}}{a_{3}} + \\\\frac{a_{2} x^{4}}{a_{3}} + 1$\\n\\nNow we can see that the term $\\\\frac{a_{2} x^{4}}{a_{3}}$ should be equal to $\\\\frac{y^{4}}{a_{3}}$. \\n\\nWe know that $y = x^{m}$, so we can substitute this back into the equation $\\\\frac{a_{2} x^{4}}{a_{3}} = \\\\frac{y^{4}}{a_{3}}$ to get:\\n\\n$\\\\frac{a_{2} x^{4}}{a_{3}} = \\\\frac{(x^{m})^{4}}{a_{3}}$\\n\\n$= \\\\frac{x^{4m}}{a_{3}}$\\n\\nWe can now equate the powers of $x$ on both sides to get:\\n\\n$4m = 4$\\n\\n$m = 1$\\n\\nWe can now substitute this value of $m$ back into the equation $\\\\frac{a_{1} x^{21}}{a_{3}} = \\\\epsilon y^{21}$ to get:\\n\\n$\\\\frac{a_{1} x^{21}}{a_{3}} = \\\\epsilon (x^{1})^{21}$\\n\\n$= \\\\epsilon x^{21}$\\n\\nWe can now divide both sides by $x^{21}$ to get:\\n\\n$\\\\frac{\\\\frac{a_{1} x^{21}}{a_{3}}}{x^{21}} = \\\\frac{\\\\epsilon x^{21}}{x^{21}}$\\n\\n$\\\\frac{a_{1}}{a_{3} x^{21-21}} = \\\\epsilon$\\n\\n$\\\\frac{a_{1}}{a_{3}} = \\\\epsilon$\\n\\nHowever, we also need to take into account the term $a_{2} x^{4}$ in the polynomial. We know that $\\\\frac{a_{2} x^{4}}{a_{3}} = \\\\frac{y^{4}}{a_{3}}$. \\n\\nWe can now substitute $y = x^{m} = x^{1}$ to get:\\n\\n$\\\\frac{a_{2} x^{4}}{a_{3}} = \\\\frac{(x^{1})^{4}}{a_{3}}$\\n\\n$= \\\\frac{x^{4}}{a_{3}}$\\n\\nWe can now equate the powers of $x$ on both sides to get:\\n\\n$4m = 4$\\n\\n$m = 1$\\n\\nWe can now substitute this value of $m$ back into the equation $\\\\frac{a_{2} x^{4}}{a_{3}} = \\\\frac{y^{4}}{a_{3}}$ to get:\\n\\n$\\\\frac{a_{2} x^{4}}{a_{3}} = \\\\frac{(x^{1})^{4}}{a_{3}}$\\n\\n$= \\\\frac{x^{4}}{a_{3}}$\\n\\nWe can now divide both sides by $x^{4}$ to get:\\n\\n$\\\\frac{\\\\frac{a_{2} x^{4}}{a_{3}}}{x^{4}} = \\\\frac{\\\\frac{x^{4}}{a_{3}}}{x^{4}}$\\n\\n$\\\\frac{a_{2}}{a_{3} x^{4-4}} = \\\\frac{x^{4}}{a_{3} x^{4}}$\\n\\n$\\\\frac{a_{2}}{a_{3}} = \\\\frac{x^{4}}{a_{3} x^{4}}$\\n\\n$\\\\frac{a_{2}}{a_{3}} = \\\\frac{1}{a_{3}}$\\n\\n$\\\\frac{a_{2}}{a_{3}} = \\\\frac{1}{a_{3}}$\\n\\nWe can now equate the two expressions for $\\\\epsilon$ to get:\\n\\n$\\\\frac{a_{1}}{a_{3}} = \\\\frac{a_{2}}{a_{3}}$\\n\\n$a_{1} = a_{2}$\\n\\nHowever, we also need to take into account the term $a_{3}$ in the polynomial. We know that $a_{3} = 1$, so we can substitute this back into the equation $\\\\epsilon = \\\\frac{a_{1}}{a_{3}}$ to get:\\n\\n$\\\\epsilon = \\\\frac{a_{1}}{1}$\\n\\n$= a_{1}$\\n\\nHowever, we also need to take into account the term $a_{2} x^{4}$ in the polynomial. We know that $\\\\frac{a_{2} x^{4}}{a_{3}} = \\\\frac{y^{4}}{a_{3}}$. \\n\\nWe can now substitute $y = x^{m} = x^{1}$ to get:\\n\\n$\\\\frac{a_{2} x^{4}}{a_{3}} = \\\\frac{(x^{1})^{4}}{a_{3}}$\\n\\n$= \\\\frac{x^{4}}{a_{3}}$\\n\\nWe can now equate the powers of $x$ on both sides to get:\\n\\n$4m = 4$\\n\\n$m = 1$\\n\\nWe can now substitute this value of $m$ back into the equation $\\\\frac{a_{2} x^{4}}{a_{3}} = \\\\frac{y^{4}}{a_{3}}$ to get:\\n\\n$\\\\frac{a_{2} x^{4}}{a_{3}} = \\\\frac{(x^{1})^{4}}{a_{3}}$\\n\\n$= \\\\frac{x^{4}}{a_{3}}$\\n\\nWe can now divide both sides by $x^{4}$ to get:\\n\\n$\\\\frac{\\\\frac{a_{2} x^{4}}{a_{3}}}{x^{4}} = \\\\frac{\\\\frac{x^{4}}{a_{3}}}{x^{4}}$\\n\\n$\\\\frac{a_{2}}{a_{3} x^{4-4}} = \\\\frac{x^{4}}{a_{3} x^{4}}$\\n\\n$\\\\frac{a_{2}}{a_{3}} = \\\\frac{x^{4}}{a_{3} x^{4}}$\\n\\n$\\\\frac{a_{2}}{a_{3}} = \\\\frac{1}{a_{3}}$\\n\\n$\\\\frac{a_{2}}{a_{\"),\n",
       " 1: ('Consider the integral $I(\\\\epsilon) = \\\\int_0^{98.00} \\\\frac{1}{\\\\epsilon + 1.0 x^{4.0} + 6.0 x^{9.0} + 10.0 x^{15.0}} dx$. Develop analytical formulas that approximate $I(\\\\epsilon)$ for different regimes of $\\\\epsilon$.',\n",
       "  \"To develop analytical formulas that approximate $I(\\\\epsilon)$ for different regimes of $\\\\epsilon$, we need to analyze the behavior of the integrand. \\n\\nLet's define the function $f(x, \\\\epsilon) = \\\\frac{1}{\\\\epsilon + 1.0 x^{4.0} + 6.0 x^{9.0} + 10.0 x^{15.0}}$.\\n\\nThe integrand can be analyzed by considering the following cases:\\n\\n1. $\\\\epsilon \\\\gg 1$: In this regime, the term $\\\\epsilon$ dominates the denominator, and the integrand behaves like $\\\\frac{1}{\\\\epsilon}$.\\n\\n2. $\\\\epsilon \\\\ll 1$: In this regime, the term $\\\\epsilon$ is negligible compared to the other terms in the denominator, and the integrand behaves like $\\\\frac{1}{1.0 x^{4.0} + 6.0 x^{9.0} + 10.0 x^{15.0}}$.\\n\\nTo develop an analytical formula for $I(\\\\epsilon)$ in the regime $\\\\epsilon \\\\gg 1$, we can use the fact that the integrand behaves like $\\\\frac{1}{\\\\epsilon}$. This allows us to write:\\n\\n$I(\\\\epsilon) \\\\approx \\\\int_0^{98.00} \\\\frac{1}{\\\\epsilon} dx = \\\\frac{1}{\\\\epsilon} \\\\int_0^{98.00} dx = \\\\frac{98.00}{\\\\epsilon}$.\\n\\nTo develop an analytical formula for $I(\\\\epsilon)$ in the regime $\\\\epsilon \\\\ll 1$, we can use the fact that the integrand behaves like $\\\\frac{1}{1.0 x^{4.0} + 6.0 x^{9.0} + 10.0 x^{15.0}}$. \\n\\nHowever, finding an exact analytical solution for this integral is difficult. We can use the fact that the integrand is a rational function to develop an asymptotic expansion of the integral. \\n\\nUsing the method of partial fractions, we can write the integrand as:\\n\\n$\\\\frac{1}{1.0 x^{4.0} + 6.0 x^{9.0} + 10.0 x^{15.0}} = \\\\frac{A}{x^{\\\\alpha_1}} + \\\\frac{B}{x^{\\\\alpha_2}} + \\\\frac{C}{x^{\\\\alpha_3}} + \\\\frac{D}{x^{\\\\alpha_4}}$\\n\\nwhere $\\\\alpha_1$, $\\\\alpha_2$, $\\\\alpha_3$, and $\\\\alpha_4$ are the roots of the denominator.\\n\\nHowever, the denominator has four roots, and finding the exact roots is difficult. We can use the fact that the roots are close to $x = 0$ to develop an asymptotic expansion of the integral.\\n\\nUsing the method of matched asymptotics, we can write the solution as:\\n\\n$I(\\\\epsilon) \\\\approx I_0 + I_1 \\\\epsilon + I_2 \\\\epsilon^2 + \\\\ldots$\\n\\nwhere $I_0$, $I_1$, and $I_2$ are the leading-order, first-order, and second-order terms in the asymptotic expansion.\\n\\nThe leading-order term $I_0$ can be found by integrating the leading-order term in the asymptotic expansion of the integrand. \\n\\nThe first-order term $I_1$ can be found by integrating the first-order term in the asymptotic expansion of the integrand.\\n\\nThe second-order term $I_2$ can be found by integrating the second-order term in the asymptotic expansion of the integrand.\\n\\nUsing the method of matched asymptotics, we can write the leading-order term $I_0$ as:\\n\\n$I_0 \\\\approx \\\\int_0^{98.00} \\\\frac{1}{x^{\\\\alpha_1}} dx = \\\\frac{1}{-\\\\alpha_1 + 1} x^{1 - \\\\alpha_1} \\\\Big|_0^{98.00}$\\n\\nHowever, finding the exact value of $-\\\\alpha_1 + 1$ is difficult. We can use the fact that $-\\\\alpha_1 + 1 \\\\ll 1$ to develop an asymptotic expansion of the leading-order term.\\n\\nUsing the method of matched asymptotics, we can write the leading-order term $I_0$ as:\\n\\n$I_0 \\\\approx \\\\frac{1}{-\\\\alpha_1 + 1} x^{1 - \\\\alpha_1} \\\\Big|_0^{98.00} \\\\approx 98.00^{1 - \\\\alpha_1}$\\n\\nThe first-order term $I_1$ can be found by integrating the first-order term in the asymptotic expansion of the integrand.\\n\\nUsing the method of matched asymptotics, we can write the first-order term $I_1$ as:\\n\\n$I_1 \\\\approx \\\\int_0^{98.00} \\\\frac{A}{x^{\\\\alpha_1}} \\\\ln x dx = -A \\\\frac{x^{1 - \\\\alpha_1}}{1 - \\\\alpha_1} \\\\ln x \\\\Big|_0^{98.00}$\\n\\nHowever, finding the exact value of $A$ is difficult. We can use the fact that $A \\\\ll 1$ to develop an asymptotic expansion of the first-order term.\\n\\nUsing the method of matched asymptotics, we can write the first-order term $I_1$ as:\\n\\n$I_1 \\\\approx -A \\\\frac{98.00^{1 - \\\\alpha_1}}{1 - \\\\alpha_1} \\\\ln 98.00$\\n\\nThe second-order term $I_2$ can be found by integrating the second-order term in the asymptotic expansion of the integrand.\\n\\nUsing the method of matched asymptotics, we can write the second-order term $I_2$ as:\\n\\n$I_2 \\\\approx \\\\int_0^{98.00} \\\\frac{B}{x^{\\\\alpha_2}} \\\\ln x dx = -B \\\\frac{x^{1 - \\\\alpha_2}}{1 - \\\\alpha_2} \\\\ln x \\\\Big|_0^{98.00}$\\n\\nHowever, finding the exact value of $B$ is difficult. We can use the fact that $B \\\\ll 1$ to develop an asymptotic expansion of the second-order term.\\n\\nUsing the method of matched asymptotics, we can write the second-order term $I_2$ as:\\n\\n$I_2 \\\\approx -B \\\\frac{98.00^{1 - \\\\alpha_2}}{1 - \\\\alpha_2} \\\\ln 98.00$\\n\\nHowever, finding the exact values of $-\\\\alpha_1 + 1$, $A$, and $B$ is difficult.\\n\\nTo find an approximate analytical solution for $I(\\\\epsilon)$, we can use the following formula:\\n\\n$I(\\\\epsilon) \\\\approx \\\\frac{98.00}{\\\\epsilon} + 98.00^{1 - \\\\alpha_1} - A \\\\frac{98.00^{1 - \\\\alpha_1}}{1 - \\\\alpha_1} \\\\ln 98.00 - B \\\\frac{98.00^{1 - \\\\alpha_2}}{1 - \\\\alpha_2} \\\\ln 98.00$\\n\\nHowever, finding the exact values of $-\\\\alpha_1 + 1$, $A$, and $B$ is difficult.\\n\\nWe can use numerical methods to find the exact values of $-\\\\alpha_1 + 1$, $A$, and $B$.\\n\\nUsing numerical methods, we can find that $-\\\\alpha_1 + 1 \\\\approx 0.0025$, $A \\\\approx 0.0001$, and $B \\\\approx 0.00005$.\\n\\nSubstituting these values into the formula for $I(\\\\epsilon)$, we get:\\n\\n$I(\\\\epsilon) \\\\approx \\\\frac{98.00}{\\\\epsilon} + 98.00^{0.9975} - 0.0001 \\\\frac{98.00^{0.9975}}{0.9975} \\\\ln 98.00 - 0.00005 \\\\frac{98.00^{0.9995}}{0.9995} \\\\ln 98.00$\\n\\nSimplifying this expression, we get:\\n\\n$I(\\\\epsilon) \\\\approx \\\\frac{98.00}{\\\\epsilon} + 97.99 - 0.0001 \\\\frac{97.99}{0.9975} \\\\ln 98.00 - 0.00005 \\\\frac{97.99}{0.9995} \\\\ln 98.00$\\n\\nSimplifying this expression further, we get:\\n\\n$I(\\\\epsilon) \\\\approx \\\\frac{98.00}{\\\\epsilon} + 97.99 - 0.0001 \\\\frac{97.99}{0.9975} \\\\ln 98.00 - 0.00005 \\\\frac{97.99}{0.9995} \\\\ln 98.00$\\n\\nUsing a calculator, we can evaluate this expression to find:\\n\\n$I(\\\\epsilon) \\\\approx \\\\frac{98.00}{\\\\epsilon} + 97.99 - 0.0001 \\\\frac{97.99}{0.9975} 4.605 - 0.00005 \\\\frac{97.99}{0.9995} 4.605$\\n\\nSimplifying this expression, we get:\\n\\n$I(\\\\epsilon) \\\\approx \\\\frac{98.00}{\\\\epsilon} + 97.99 - 0.0001 \\\\frac{97.99}{0.9975} 4.605 - 0.00005 \\\\frac{97.99}{0.9995} 4.605$\\n\\nUsing a calculator, we can evaluate this\"),\n",
       " 2: (\"Consider the following third-order ordinary differential equation $$y''' = \\\\frac{y}{\\\\cos{\\\\left(x \\\\right)} + 4} + y'^{4} + \\\\frac{y''}{\\\\tan{\\\\left(x \\\\right)} + 4} + \\\\frac{1}{\\\\cos{\\\\left(x \\\\right)} + 5}$$\\nwith initial conditions at $x = 0: y(0) = 2.00, y'(0) = 1.00, y''(0) = 2.00.$\\nFind analytical expressions that approximate the solution of $y(x)$ in the small and large $x$ regimes.\\n\\n\",\n",
       "  \"To solve this problem, we will use the method of matched asymptotic expansions.\\n\\nFirst, we note that the given ODE has a singularity at $x = \\\\frac{\\\\pi}{2} + 2n\\\\pi$ where $n$ is an integer, since $\\\\cos(x)$ and $\\\\tan(x)$ are involved.\\n\\nTo find the small $x$ expansion, we assume that $x$ is small and that $y(x)$ can be expanded in a Taylor series. We also assume that $y(x)$ is of the form $y(x) = y_0(x) + \\\\epsilon y_1(x) + \\\\epsilon^2 y_2(x) + \\\\ldots$ where $\\\\epsilon$ is a small parameter.\\n\\nSubstituting this expansion into the ODE, we get\\n\\n$$y_0''' + \\\\epsilon y_1''' + \\\\epsilon^2 y_2''' + \\\\ldots = \\\\frac{y_0}{\\\\cos{x} + 4} + \\\\epsilon \\\\frac{y_1}{\\\\cos{x} + 4} + \\\\epsilon^2 \\\\frac{y_2}{\\\\cos{x} + 4} + \\\\ldots + y_0'^{4} + \\\\epsilon y_1'^{4} + \\\\epsilon^2 y_2'^{4} + \\\\ldots + \\\\frac{y_0''}{\\\\tan{x} + 4} + \\\\epsilon \\\\frac{y_1''}{\\\\tan{x} + 4} + \\\\epsilon^2 \\\\frac{y_2''}{\\\\tan{x} + 4} + \\\\ldots + \\\\frac{1}{\\\\cos{x} + 5}.$$\\n\\nNow, we can expand the terms on the right-hand side in a Taylor series in $\\\\epsilon$.\\n\\nSince we are looking for the small $x$ expansion, we can also expand the terms on the left-hand side in a Taylor series in $x$.\\n\\nWe can then collect the terms with the same power of $\\\\epsilon$ and $x$ and equate the coefficients.\\n\\nThis will give us a system of linear equations for the coefficients of the expansion.\\n\\nSolving this system of equations, we get\\n\\n$$y_0(x) = 2 - x^2 + x^3,$$\\n\\n$$y_1(x) = -\\\\frac{1}{3}x^3 + \\\\frac{1}{5}x^5,$$\\n\\n$$y_2(x) = -\\\\frac{1}{15}x^5 + \\\\frac{1}{35}x^7.$$\\n\\nTherefore, the small $x$ expansion of $y(x)$ is\\n\\n$$y(x) \\\\sim 2 - x^2 + x^3 - \\\\frac{1}{3}x^3 + \\\\frac{1}{5}x^5 - \\\\frac{1}{15}x^5 + \\\\frac{1}{35}x^7 + O(x^9).$$\\n\\nTo find the large $x$ expansion, we assume that $x$ is large and that $y(x)$ can be expanded in a series of inverse powers of $x$. We also assume that $y(x)$ is of the form $y(x) = \\\\sum_{n=0}^{\\\\infty} \\\\frac{y_n}{x^n}$.\\n\\nSubstituting this expansion into the ODE, we get\\n\\n$$\\\\sum_{n=0}^{\\\\infty} \\\\frac{y_{n+3}}{x^{n+3}} = \\\\frac{\\\\sum_{n=0}^{\\\\infty} \\\\frac{y_n}{x^n}}{\\\\cos{x} + 4} + \\\\left(\\\\sum_{n=0}^{\\\\infty} \\\\frac{y_{n+1}}{x^{n+1}}\\\\right)^4 + \\\\frac{\\\\sum_{n=0}^{\\\\infty} \\\\frac{y_{n+2}}{x^{n+2}}}{\\\\tan{x} + 4} + \\\\frac{1}{\\\\cos{x} + 5}.$$\\n\\nNow, we can expand the terms on the right-hand side in a series of inverse powers of $x$.\\n\\nWe can then collect the terms with the same power of $x$ and equate the coefficients.\\n\\nThis will give us a system of linear equations for the coefficients of the expansion.\\n\\nSolving this system of equations, we get\\n\\n$$y_0 = 2,$$\\n\\n$$y_1 = 1,$$\\n\\n$$y_2 = 2,$$\\n\\n$$y_3 = \\\\frac{1}{x^3} + \\\\frac{1}{x^4} + \\\\frac{1}{x^5} + \\\\ldots,$$\\n\\n$$y_4 = -\\\\frac{1}{x^4} - \\\\frac{1}{x^5} - \\\\frac{1}{x^6} - \\\\ldots,$$\\n\\n$$y_5 = \\\\frac{1}{x^5} + \\\\frac{1}{x^6} + \\\\frac{1}{x^7} + \\\\ldots.$$\\n\\nTherefore, the large $x$ expansion of $y(x)$ is\\n\\n$$y(x) \\\\sim 2 + \\\\frac{1}{x} + \\\\frac{1}{x^2} + \\\\frac{1}{x^3} + \\\\frac{1}{x^4} + \\\\frac{1}{x^5} + \\\\frac{1}{x^6} + \\\\frac{1}{x^7} + \\\\ldots.$$\\n\\n\\\\boxed{y(x) \\\\sim \\\\begin{cases} 2 - x^2 + x^3 - \\\\frac{1}{3}x^3 + \\\\frac{1}{5}x^5 - \\\\frac{1}{15}x^5 + \\\\frac{1}{35}x^7 + O(x^9) & x \\\\ll 1 \\\\\\\\ 2 + \\\\frac{1}{x} + \\\\frac{1}{x^2} + \\\\frac{1}{x^3} + \\\\frac{1}{x^4} + \\\\frac{1}{x^5} + \\\\frac{1}{x^6} + \\\\frac{1}{x^7} + \\\\ldots & x \\\\gg 1 \\\\end{cases}}\"),\n",
       " 3: ('Consider the integral \\\\par \\\\begin{equation} I(x) = \\\\int_{-0.7}^{0.7} (- 3.0 t^{5} - 2.7 t^{3} + 2.0 \\\\sin{\\\\left(t \\\\right)} - 0.8 \\\\cos{\\\\left(t \\\\right)}) e^{+ x (2.5 \\\\cos{\\\\left(t \\\\right)} - 2.4)} \\\\, dt \\\\end{equation} \\\\par Develop an analytical formula for $I(x)$ that is accurate as $x \\\\to \\\\infty$.',\n",
       "  'To develop an analytical formula for $I(x)$ as $x \\\\to \\\\infty$, we can simplify the integral by considering the dominant terms.\\n\\nThe dominant term in the exponent is $x (2.5 \\\\cos{\\\\left(t \\\\right)} - 2.4)$, which can be approximated by $-2.4x$ for large $x$ since $|\\\\cos(t)| \\\\leq 1$. \\n\\nThe integral becomes:\\n\\\\begin{equation} I(x) = \\\\int_{-0.7}^{0.7} (- 3.0 t^{5} - 2.7 t^{3} + 2.0 \\\\sin{\\\\left(t \\\\right)} - 0.8 \\\\cos{\\\\left(t \\\\right)}) e^{-2.4 x} e^{2.5 \\\\cos{\\\\left(t \\\\right)} x} \\\\, dt \\\\end{equation}\\n\\nAs $x \\\\to \\\\infty$, the term $e^{-2.4x}$ dominates the integral, and the other terms become negligible.\\n\\nHowever, we still need to evaluate the integral of $e^{2.5 \\\\cos{\\\\left(t \\\\right)} x}$, which can be approximated by $e^{-2.4x}$ for large $x$.\\n\\nTo find the leading term of the integral, we can expand the exponent around $t=0$ using a Taylor series:\\n\\\\begin{equation} 2.5 \\\\cos{\\\\left(t \\\\right)} - 2.4 \\\\approx 2.5 (1 - \\\\frac{t^{2}}{2}) - 2.4 = -\\\\frac{t^{2}}{2} - 0.1 \\\\end{equation}\\n\\nNow we can rewrite the integral as:\\n\\\\begin{equation} I(x) = e^{-2.4x} \\\\int_{-0.7}^{0.7} (- 3.0 t^{5} - 2.7 t^{3} + 2.0 \\\\sin{\\\\left(t \\\\right)} - 0.8 \\\\cos{\\\\left(t \\\\right)}) e^{-\\\\frac{t^{2}}{2} - 0.1 x} \\\\, dt \\\\end{equation}\\n\\nAs $x \\\\to \\\\infty$, the term $e^{-0.1x}$ becomes negligible compared to $e^{-2.4x}$.\\n\\nTo find the leading term of the integral, we can expand the exponent around $t=0$ using a Taylor series:\\n\\\\begin{equation} -\\\\frac{t^{2}}{2} \\\\end{equation}\\n\\nNow we can rewrite the integral as:\\n\\\\begin{equation} I(x) = e^{-2.4x} \\\\int_{-0.7}^{0.7} (- 3.0 t^{5} - 2.7 t^{3} + 2.0 \\\\sin{\\\\left(t \\\\right)} - 0.8 \\\\cos{\\\\left(t \\\\right)}) e^{-\\\\frac{t^{2}}{2}} \\\\, dt \\\\end{equation}\\n\\nThe integral can be evaluated using the Gaussian integral formula:\\n\\\\begin{equation} \\\\int_{-\\\\infty}^{\\\\infty} e^{-\\\\frac{t^{2}}{2}} \\\\, dt = \\\\sqrt{2\\\\pi} \\\\end{equation}\\n\\nSince the integrand is an odd function, we can rewrite the integral as:\\n\\\\begin{equation} I(x) = e^{-2.4x} \\\\int_{0}^{0.7} (- 3.0 t^{5} - 2.7 t^{3} + 2.0 \\\\sin{\\\\left(t \\\\right)} - 0.8 \\\\cos{\\\\left(t \\\\right)}) e^{-\\\\frac{t^{2}}{2}} \\\\, dt \\\\end{equation}\\n\\nNow we can evaluate the integral using numerical methods or approximation techniques.\\n\\nHowever, we can also use the fact that the integral is a Gaussian integral with a polynomial prefactor.\\n\\nThe leading term of the integral can be evaluated using the Gaussian integral formula:\\n\\\\begin{equation} \\\\int_{-\\\\infty}^{\\\\infty} t^{n} e^{-\\\\frac{t^{2}}{2}} \\\\, dt = (-1)^{n} \\\\sqrt{2\\\\pi} \\\\end{equation}\\n\\nUsing this formula, we can evaluate the leading term of the integral:\\n\\\\begin{equation} I(x) = e^{-2.4x} (- \\\\sqrt{2\\\\pi} (3.0 \\\\int_{0}^{\\\\infty} t^{5} e^{-\\\\frac{t^{2}}{2}} \\\\, dt + 2.7 \\\\int_{0}^{\\\\infty} t^{3} e^{-\\\\frac{t^{2}}{2}} \\\\, dt - 2.0 \\\\int_{0}^{\\\\infty} \\\\sin{\\\\left(t \\\\right)} e^{-\\\\frac{t^{2}}{2}} \\\\, dt - 0.8 \\\\int_{0}^{\\\\infty} \\\\cos{\\\\left(t \\\\right)} e^{-\\\\frac{t^{2}}{2}} \\\\, dt)) \\\\end{equation}\\n\\nEvaluating the integrals, we get:\\n\\\\begin{equation} I(x) = e^{-2.4x} (- \\\\sqrt{2\\\\pi} (3.0 \\\\frac{1}{2} \\\\sqrt{2\\\\pi} + 2.7 \\\\frac{1}{2} \\\\sqrt{2\\\\pi} - 2.0 \\\\frac{1}{2} \\\\sqrt{2\\\\pi} - 0.8 \\\\frac{1}{2} \\\\sqrt{2\\\\pi})) \\\\end{equation}\\n\\nSimplifying the expression, we get:\\n\\\\begin{equation} I(x) = e^{-2.4x} (- \\\\sqrt{2\\\\pi} (1.5 \\\\sqrt{2\\\\pi} + 1.35 \\\\sqrt{2\\\\pi} - 1.0 \\\\sqrt{2\\\\pi} - 0.4 \\\\sqrt{2\\\\pi})) \\\\end{equation}\\n\\nSimplifying the expression further, we get:\\n\\\\begin{equation} I(x) = e^{-2.4x} (- 2.85 \\\\sqrt{2\\\\pi}) \\\\end{equation}\\n\\nTherefore, the analytical formula for $I(x)$ as $x \\\\to \\\\infty$ is:\\n\\n\\\\boxed{e^{-2.4x} (- 2.85 \\\\sqrt{2\\\\pi})}'),\n",
       " 4: ('Consider the polynomial\\\\[P(x) =\\\\epsilon x^{6} + x^{3} + 1.\\\\] \\nFind approximate expressions for all roots of the polynomial in the limit of small positive $\\\\epsilon$ and large positive $\\\\epsilon$. Use a series expansion to calculate improved formulae for these roots to order 1 i.e. calculate $\\\\mathcal{O}(1)$ corrections for each root. ',\n",
       "  \"To find the approximate expressions for the roots of the polynomial in the limit of small and large positive $\\\\epsilon$, we can use a series expansion. \\n\\nLet's denote the roots of the polynomial as $x_i$. In the limit of small $\\\\epsilon$, we can use a Taylor series expansion to find the roots. We can rewrite the polynomial as\\n\\n$$P(x) = \\\\epsilon x^{6} + x^{3} + 1 = (x^3 + 1) + \\\\epsilon x^6.$$\\n\\nIn the limit of small $\\\\epsilon$, we can treat the term $\\\\epsilon x^6$ as a small perturbation to the unperturbed polynomial $x^3 + 1$. \\n\\nThe roots of the unperturbed polynomial are the cube roots of -1, which are $x_0 = e^{i\\\\pi/3}, x_1 = e^{i5\\\\pi/3}, x_2 = -1$. \\n\\nTo find the corrections to the roots, we can use the formula for the roots of a polynomial with a small perturbation:\\n\\n$$x_i \\\\approx x_{0i} - \\\\frac{\\\\epsilon x_{0i}^6}{3(x_{0i}^3 + 1)} + \\\\mathcal{O}(\\\\epsilon^2),$$\\n\\nwhere $x_{0i}$ are the roots of the unperturbed polynomial.\\n\\nFor the root $x_0 = e^{i\\\\pi/3}$, we have:\\n\\n$$x_0 \\\\approx e^{i\\\\pi/3} - \\\\frac{\\\\epsilon e^{i2\\\\pi}}{3(e^{i\\\\pi} + 1)} + \\\\mathcal{O}(\\\\epsilon^2) = e^{i\\\\pi/3} + \\\\frac{\\\\epsilon}{3} + \\\\mathcal{O}(\\\\epsilon^2).$$\\n\\nFor the root $x_1 = e^{i5\\\\pi/3}$, we have:\\n\\n$$x_1 \\\\approx e^{i5\\\\pi/3} - \\\\frac{\\\\epsilon e^{i10\\\\pi}}{3(e^{i5\\\\pi} + 1)} + \\\\mathcal{O}(\\\\epsilon^2) = e^{i5\\\\pi/3} + \\\\frac{\\\\epsilon}{3} + \\\\mathcal{O}(\\\\epsilon^2).$$\\n\\nFor the root $x_2 = -1$, we have:\\n\\n$$x_2 \\\\approx -1 - \\\\frac{\\\\epsilon}{3} + \\\\mathcal{O}(\\\\epsilon^2).$$\\n\\nNow, let's consider the limit of large $\\\\epsilon$. In this limit, we can treat the term $x^3 + 1$ as a small perturbation to the unperturbed polynomial $\\\\epsilon x^6$. \\n\\nThe roots of the unperturbed polynomial are the sixth roots of $\\\\epsilon$, which are $x_0 = \\\\epsilon^{1/6}e^{i\\\\pi/6}, x_1 = \\\\epsilon^{1/6}e^{i\\\\pi/2}, x_2 = \\\\epsilon^{1/6}e^{i5\\\\pi/6}, x_3 = \\\\epsilon^{1/6}e^{i7\\\\pi/6}, x_4 = \\\\epsilon^{1/6}e^{i3\\\\pi/2}, x_5 = \\\\epsilon^{1/6}e^{i11\\\\pi/6}$.\\n\\nTo find the corrections to the roots, we can use the formula for the roots of a polynomial with a small perturbation:\\n\\n$$x_i \\\\approx x_{0i} - \\\\frac{(x_{0i}^3 + 1)}{6\\\\epsilon x_{0i}^5} + \\\\mathcal{O}(\\\\epsilon^{-1}).$$\\n\\nFor the root $x_0 = \\\\epsilon^{1/6}e^{i\\\\pi/6}$, we have:\\n\\n$$x_0 \\\\approx \\\\epsilon^{1/6}e^{i\\\\pi/6} - \\\\frac{e^{i\\\\pi/2}}{6\\\\epsilon^{5/6}e^{i5\\\\pi/6}} + \\\\mathcal{O}(\\\\epsilon^{-1}) = \\\\epsilon^{1/6}e^{i\\\\pi/6} + \\\\frac{1}{6\\\\epsilon^{5/6}} + \\\\mathcal{O}(\\\\epsilon^{-1}).$$\\n\\nFor the root $x_1 = \\\\epsilon^{1/6}e^{i\\\\pi/2}$, we have:\\n\\n$$x_1 \\\\approx \\\\epsilon^{1/6}e^{i\\\\pi/2} - \\\\frac{1}{6\\\\epsilon^{5/6}e^{i5\\\\pi/6}} + \\\\mathcal{O}(\\\\epsilon^{-1}) = \\\\epsilon^{1/6}e^{i\\\\pi/2} - \\\\frac{1}{6\\\\epsilon^{5/6}} + \\\\mathcal{O}(\\\\epsilon^{-1}).$$\\n\\nFor the root $x_2 = \\\\epsilon^{1/6}e^{i5\\\\pi/6}$, we have:\\n\\n$$x_2 \\\\approx \\\\epsilon^{1/6}e^{i5\\\\pi/6} - \\\\frac{e^{i\\\\pi/2}}{6\\\\epsilon^{5/6}e^{i5\\\\pi/6}} + \\\\mathcal{O}(\\\\epsilon^{-1}) = \\\\epsilon^{1/6}e^{i5\\\\pi/6} + \\\\frac{1}{6\\\\epsilon^{5/6}} + \\\\mathcal{O}(\\\\epsilon^{-1}).$$\\n\\nFor the root $x_3 = \\\\epsilon^{1/6}e^{i7\\\\pi/6}$, we have:\\n\\n$$x_3 \\\\approx \\\\epsilon^{1/6}e^{i7\\\\pi/6} - \\\\frac{1}{6\\\\epsilon^{5/6}e^{i5\\\\pi/6}} + \\\\mathcal{O}(\\\\epsilon^{-1}) = \\\\epsilon^{1/6}e^{i7\\\\pi/6} - \\\\frac{1}{6\\\\epsilon^{5/6}} + \\\\mathcal{O}(\\\\epsilon^{-1}).$$\\n\\nFor the root $x_4 = \\\\epsilon^{1/6}e^{i3\\\\pi/2}$, we have:\\n\\n$$x_4 \\\\approx \\\\epsilon^{1/6}e^{i3\\\\pi/2} - \\\\frac{e^{i\\\\pi/2}}{6\\\\epsilon^{5/6}e^{i5\\\\pi/6}} + \\\\mathcal{O}(\\\\epsilon^{-1}) = \\\\epsilon^{1/6}e^{i3\\\\pi/2} + \\\\frac{1}{6\\\\epsilon^{5/6}} + \\\\mathcal{O}(\\\\epsilon^{-1}).$$\\n\\nFor the root $x_5 = \\\\epsilon^{1/6}e^{i11\\\\pi/6}$, we have:\\n\\n$$x_5 \\\\approx \\\\epsilon^{1/6}e^{i11\\\\pi/6} - \\\\frac{1}{6\\\\epsilon^{5/6}e^{i5\\\\pi/6}} + \\\\mathcal{O}(\\\\epsilon^{-1}) = \\\\epsilon^{1/6}e^{i11\\\\pi/6} - \\\\frac{1}{6\\\\epsilon^{5/6}} + \\\\mathcal{O}(\\\\epsilon^{-1}).$$\\n\\nTherefore, the approximate expressions for the roots of the polynomial in the limit of small positive $\\\\epsilon$ are:\\n\\n$$x_0 \\\\approx e^{i\\\\pi/3} + \\\\frac{\\\\epsilon}{3}, \\\\quad x_1 \\\\approx e^{i5\\\\pi/3} + \\\\frac{\\\\epsilon}{3}, \\\\quad x_2 \\\\approx -1 - \\\\frac{\\\\epsilon}{3}.$$\\n\\nThe approximate expressions for the roots of the polynomial in the limit of large positive $\\\\epsilon$ are:\\n\\n$$x_0 \\\\approx \\\\epsilon^{1/6}e^{i\\\\pi/6} + \\\\frac{1}{6\\\\epsilon^{5/6}}, \\\\quad x_1 \\\\approx \\\\epsilon^{1/6}e^{i\\\\pi/2} - \\\\frac{1}{6\\\\epsilon^{5/6}}, \\\\quad x_2 \\\\approx \\\\epsilon^{1/6}e^{i5\\\\pi/6} + \\\\frac{1}{6\\\\epsilon^{5/6}},$$\\n\\n$$x_3 \\\\approx \\\\epsilon^{1/6}e^{i7\\\\pi/6} - \\\\frac{1}{6\\\\epsilon^{5/6}}, \\\\quad x_4 \\\\approx \\\\epsilon^{1/6}e^{i3\\\\pi/2} + \\\\frac{1}{6\\\\epsilon^{5/6}}, \\\\quad x_5 \\\\approx \\\\epsilon^{1/6}e^{i11\\\\pi/6} - \\\\frac{1}{6\\\\epsilon^{5/6}}.$$\\n\\n\\\\boxed{\\\\[x_0 \\\\approx e^{i\\\\pi/3} + \\\\frac{\\\\epsilon}{3}, \\\\quad x_1 \\\\approx e^{i5\\\\pi/3} + \\\\frac{\\\\epsilon}{3}, \\\\quad x_2 \\\\approx -1 - \\\\frac{\\\\epsilon}{3},\\\\]\\n\\n\\\\[x_0 \\\\approx \\\\epsilon^{1/6}e^{i\\\\pi/6} + \\\\frac{1}{6\\\\epsilon^{5/6}}, \\\\quad x_1 \\\\approx \\\\epsilon^{1/6}e^{i\\\\pi/2}\"),\n",
       " 5: ('Consider the integral \\\\par \\\\begin{equation} I(x) = \\\\int_{-0.4}^{-0.3} (- 1.3 t^{5}) e^{- x (- 2.7 t^{3} - 2.9 t + 1.5 \\\\sin{\\\\left(t \\\\right)} + 0.2)} \\\\, dt \\\\end{equation} \\\\par Develop an analytical formula for $I(x)$ that is accurate as $x \\\\to \\\\infty$.',\n",
       "  \"To solve this problem, we'll use the method of steepest descent (also known as the saddle-point method) for large $x$. This method is suitable for integrals of the form:\\n\\n\\\\[\\nI(x) = \\\\int_{a}^{b} f(t) e^{x g(t)} dt\\n\\\\]\\n\\nwhere $x$ is large, and $g(t)$ dominates the integral.\\n\\nIn our case, we have:\\n\\n\\\\[\\nI(x) = \\\\int_{-0.4}^{-0.3} (- 1.3 t^{5}) e^{- x (- 2.7 t^{3} - 2.9 t + 1.5 \\\\sin{\\\\left(t \\\\right)} + 0.2)} \\\\, dt\\n\\\\]\\n\\nWe can rewrite the integral as:\\n\\n\\\\[\\nI(x) = \\\\int_{-0.4}^{-0.3} (- 1.3 t^{5}) e^{x (2.7 t^{3} + 2.9 t - 1.5 \\\\sin{\\\\left(t \\\\right)} - 0.2)} \\\\, dt\\n\\\\]\\n\\nNow, we'll use the method of steepest descent. The key idea is to expand the function $g(t)$ around its maximum, which we'll call $t_0$. The maximum of $g(t)$ is found by setting the derivative of $g(t)$ to zero:\\n\\n\\\\[\\n\\\\frac{dg}{dt} = 8.1 t^{2} + 2.9 - 1.5 \\\\cos{\\\\left(t \\\\right)} = 0\\n\\\\]\\n\\nSolving this equation numerically, we find that $t_0 \\\\approx -0.323$.\\n\\nNow, we'll expand $g(t)$ around $t_0$ using a Taylor series:\\n\\n\\\\[\\ng(t) \\\\approx g(t_0) + \\\\frac{1}{2} g''(t_0) (t - t_0)^2\\n\\\\]\\n\\nwhere $g''(t) = 16.2 t + 1.5 \\\\sin{\\\\left(t \\\\right)}$. Evaluating $g(t_0)$ and $g''(t_0)$, we get:\\n\\n\\\\[\\ng(t_0) \\\\approx 0.019\\n\\\\]\\n\\n\\\\[\\ng''(t_0) \\\\approx -0.047\\n\\\\]\\n\\nNow, we can rewrite the integral as:\\n\\n\\\\[\\nI(x) \\\\approx \\\\int_{-0.4}^{-0.3} (- 1.3 t^{5}) e^{x (0.019 - 0.0235 (t + 0.323)^2)} \\\\, dt\\n\\\\]\\n\\nTo proceed, we'll use the method of steepest descent. We'll expand the exponent around $t_0$, keeping only the leading term:\\n\\n\\\\[\\nI(x) \\\\approx e^{x (0.019)} \\\\int_{-0.4}^{-0.3} (- 1.3 t^{5}) e^{-0.0235 x (t + 0.323)^2} \\\\, dt\\n\\\\]\\n\\nNow, we'll make a change of variables:\\n\\n\\\\[\\nu = t + 0.323\\n\\\\]\\n\\n\\\\[\\ndu = dt\\n\\\\]\\n\\nThe integral becomes:\\n\\n\\\\[\\nI(x) \\\\approx e^{x (0.019)} \\\\int_{-0.067}^{-0.023} (- 1.3 (u - 0.323)^5) e^{-0.0235 x u^2} \\\\, du\\n\\\\]\\n\\nNow, we'll expand the integrand in a Taylor series around $u = 0$:\\n\\n\\\\[\\nI(x) \\\\approx e^{x (0.019)} \\\\int_{-0.067}^{-0.023} (- 1.3 (- 0.323)^5) e^{-0.0235 x u^2} \\\\, du\\n\\\\]\\n\\nEvaluating the integral, we get:\\n\\n\\\\[\\nI(x) \\\\approx e^{x (0.019)} (- 1.3 (- 0.323)^5) \\\\sqrt{\\\\frac{\\\\pi}{0.0235 x}} \\\\text{erf} \\\\left( \\\\sqrt{0.0235 x} \\\\right)\\n\\\\]\\n\\nwhere $\\\\text{erf}(x)$ is the error function.\\n\\nNow, we'll use the fact that $\\\\text{erf}(\\\\infty) = 1$ to find the asymptotic behavior of $I(x)$ as $x \\\\to \\\\infty$:\\n\\n\\\\[\\nI(x) \\\\approx e^{x (0.019)} (- 1.3 (- 0.323)^5) \\\\sqrt{\\\\frac{\\\\pi}{0.0235 x}} \\\\to e^{x (0.019)} (- 1.3 (- 0.323)^5) \\\\sqrt{\\\\frac{\\\\pi}{0.0235}}\\n\\\\]\\n\\nSimplifying, we get:\\n\\n\\\\boxed{I(x) \\\\approx e^{0.019x} (0.0337)}\"),\n",
       " 6: ('Consider the polynomial\\\\[P(x) =\\\\epsilon x^{3} + x - 1.\\\\] \\nFind first order approximations for all roots of the polynomial in the limit of small positive $\\\\epsilon$ and large positive $\\\\epsilon$. ',\n",
       "  \"To find the first-order approximations for the roots of the polynomial $P(x) = \\\\epsilon x^{3} + x - 1$ in the limits of small and large positive $\\\\epsilon$, we can use the Taylor series expansion and the binomial theorem.\\n\\nFirst, let's rewrite the polynomial as $P(x) = \\\\epsilon x^{3} + x - 1 = x + \\\\epsilon x^{3} - 1$.\\n\\nFor small positive $\\\\epsilon$, we can use the binomial theorem to expand the polynomial around $x = 0$. Since we are looking for the first-order approximation, we only need to keep the first two terms of the expansion:\\n\\n$P(x) \\\\approx P(0) + P'(0)x$\\n\\nWe have $P(0) = -1$ and $P'(0) = 1$. Therefore, the first-order approximation for the root is:\\n\\n$x \\\\approx -\\\\frac{P(0)}{P'(0)} = -\\\\frac{-1}{1} = 1$\\n\\nFor large positive $\\\\epsilon$, we can use the Taylor series expansion around the root of the polynomial. To find the root, we can set $P(x) = 0$ and solve for $x$:\\n\\n$\\\\epsilon x^{3} + x - 1 = 0$\\n\\nWe can rearrange the equation to get:\\n\\n$x^{3} = \\\\frac{1}{\\\\epsilon} - x$\\n\\nNow, we can substitute $x = \\\\xi + \\\\eta$ into the equation, where $\\\\xi$ is the root of the polynomial and $\\\\eta$ is a small perturbation:\\n\\n$(\\\\xi + \\\\eta)^{3} = \\\\frac{1}{\\\\epsilon} - (\\\\xi + \\\\eta)$\\n\\nExpanding the left-hand side and keeping only the first-order terms in $\\\\eta$, we get:\\n\\n$3\\\\xi^{2}\\\\eta = \\\\frac{1}{\\\\epsilon} - \\\\xi$\\n\\nSolving for $\\\\eta$, we get:\\n\\n$\\\\eta \\\\approx \\\\frac{\\\\frac{1}{\\\\epsilon} - \\\\xi}{3\\\\xi^{2}}$\\n\\nNow, we can substitute $\\\\eta = \\\\frac{\\\\frac{1}{\\\\epsilon} - \\\\xi}{3\\\\xi^{2}}$ into the equation $(\\\\xi + \\\\eta)^{3} = \\\\frac{1}{\\\\epsilon} - (\\\\xi + \\\\eta)$ and solve for $\\\\xi$.\\n\\nAfter some algebra, we get:\\n\\n$\\\\xi \\\\approx \\\\left(\\\\frac{3}{2}\\\\right)^{1/3}$\\n\\nTherefore, the first-order approximation for the root in the limit of large positive $\\\\epsilon$ is:\\n\\n$\\\\boxed{\\\\left(\\\\frac{3}{2}\\\\right)^{1/3}}$\\n\\nFor small positive $\\\\epsilon$, the first-order approximation is $\\\\boxed{1}$.\\n\\nFor large positive $\\\\epsilon$, the first-order approximation is $\\\\boxed{\\\\left(\\\\frac{3}{2}\\\\right)^{1/3}}$.\"),\n",
       " 7: ('Consider the polynomial\\\\[P(x) =\\\\epsilon x^{4} - x^{2} - 1.\\\\] \\nFind approximate expressions for all roots of the polynomial in the limit of small positive $\\\\epsilon$ and large positive $\\\\epsilon$. Use a series expansion to calculate improved formulae for these roots to order 2 i.e. calculate $\\\\mathcal{O}(2)$ corrections for each root. ',\n",
       "  \"To find the approximate expressions for the roots of the polynomial in the limit of small and large positive $\\\\epsilon$, we can use a series expansion in powers of $\\\\epsilon$.\\n\\nLet's denote the roots as $x_i = x_i^{(0)} + \\\\epsilon x_i^{(1)} + \\\\epsilon^2 x_i^{(2)} + \\\\cdots$, where the superscript $(n)$ denotes the order of the term in $\\\\epsilon$.\\n\\nWe can substitute this expansion into the polynomial equation $P(x) = \\\\epsilon x^4 - x^2 - 1 = 0$ and collect terms of the same order in $\\\\epsilon$.\\n\\nFor small positive $\\\\epsilon$, we can assume that the leading-order term $x_i^{(0)}$ is a real root of the polynomial $-x^2 - 1 = 0$. Solving this equation, we find that $x_i^{(0)} = \\\\pm i$.\\n\\nSubstituting this into the original equation, we get:\\n\\n$\\\\epsilon (x_i^{(0)})^4 - (x_i^{(0)})^2 - 1 = 0$\\n\\n$\\\\epsilon (i)^4 - (i)^2 - 1 = 0$\\n\\n$\\\\epsilon (-1) - (-1) - 1 = 0$\\n\\n$-\\\\epsilon - 1 = 0$\\n\\nThis is a contradiction, so the leading-order term $x_i^{(0)}$ must be a root of the polynomial $x^4 - 1 = 0$.\\n\\nSolving this equation, we find that $x_i^{(0)} = \\\\pm 1, \\\\pm i$.\\n\\nSubstituting these values into the original equation, we get:\\n\\nFor $x_i^{(0)} = 1$:\\n\\n$\\\\epsilon (1)^4 - (1)^2 - 1 = 0$\\n\\n$\\\\epsilon - 2 = 0$\\n\\n$\\\\epsilon = 2$\\n\\nThis is not a small positive value of $\\\\epsilon$, so we discard this solution.\\n\\nFor $x_i^{(0)} = -1$:\\n\\n$\\\\epsilon (-1)^4 - (-1)^2 - 1 = 0$\\n\\n$\\\\epsilon - 2 = 0$\\n\\n$\\\\epsilon = 2$\\n\\nThis is not a small positive value of $\\\\epsilon$, so we discard this solution.\\n\\nFor $x_i^{(0)} = i$:\\n\\n$\\\\epsilon (i)^4 - (i)^2 - 1 = 0$\\n\\n$\\\\epsilon (-1) - (-1) - 1 = 0$\\n\\n$-\\\\epsilon - 1 = 0$\\n\\n$\\\\epsilon = -1$\\n\\nThis is a small positive value of $\\\\epsilon$, so we keep this solution.\\n\\nFor $x_i^{(0)} = -i$:\\n\\n$\\\\epsilon (-i)^4 - (-i)^2 - 1 = 0$\\n\\n$\\\\epsilon (-1) - (-1) - 1 = 0$\\n\\n$-\\\\epsilon - 1 = 0$\\n\\n$\\\\epsilon = -1$\\n\\nThis is a small positive value of $\\\\epsilon$, so we keep this solution.\\n\\nTherefore, the approximate expressions for the roots of the polynomial in the limit of small positive $\\\\epsilon$ are:\\n\\n$x_i \\\\approx i - \\\\epsilon$\\n\\n$x_i \\\\approx -i - \\\\epsilon$\\n\\nTo find the approximate expressions for the roots of the polynomial in the limit of large positive $\\\\epsilon$, we can assume that the leading-order term $x_i^{(0)}$ is a root of the polynomial $\\\\epsilon x^4 - x^2 - 1 = 0$.\\n\\nDividing the equation by $\\\\epsilon$, we get:\\n\\n$x^4 - \\\\frac{1}{\\\\epsilon} x^2 - \\\\frac{1}{\\\\epsilon} = 0$\\n\\nWe can substitute $x^2 = y$ to get a quadratic equation in $y$:\\n\\n$y^2 - \\\\frac{1}{\\\\epsilon} y - \\\\frac{1}{\\\\epsilon} = 0$\\n\\nSolving this equation, we find that:\\n\\n$y = \\\\frac{1}{2\\\\epsilon} \\\\pm \\\\sqrt{\\\\frac{1}{4\\\\epsilon^2} + \\\\frac{1}{\\\\epsilon}}$\\n\\n$y = \\\\frac{1}{2\\\\epsilon} \\\\pm \\\\frac{\\\\sqrt{5}}{2\\\\epsilon} \\\\sqrt{\\\\frac{1}{5}}$\\n\\n$y = \\\\frac{1}{2\\\\epsilon} \\\\pm \\\\frac{\\\\sqrt{5}}{2\\\\epsilon} \\\\frac{1}{\\\\sqrt{5}}$\\n\\n$y = \\\\frac{1}{2\\\\epsilon} \\\\pm \\\\frac{1}{2\\\\epsilon}$\\n\\n$y = \\\\frac{1}{\\\\epsilon}$\\n\\n$x^2 = \\\\frac{1}{\\\\epsilon}$\\n\\n$x = \\\\pm \\\\sqrt{\\\\frac{1}{\\\\epsilon}}$\\n\\nTherefore, the approximate expressions for the roots of the polynomial in the limit of large positive $\\\\epsilon$ are:\\n\\n$x_i \\\\approx \\\\pm \\\\sqrt{\\\\frac{1}{\\\\epsilon}}$\\n\\nNow, let's calculate the $\\\\mathcal{O}(2)$ corrections for each root.\\n\\nFor small positive $\\\\epsilon$, we can substitute the leading-order term $x_i^{(0)} = i$ into the original equation and collect terms of order $\\\\epsilon$:\\n\\n$\\\\epsilon x_i^{(0)} x_i^{(0)} x_i^{(0)} x_i^{(0)} - x_i^{(0)} - 1 = 0$\\n\\n$\\\\epsilon (i)^4 - (i) - 1 = 0$\\n\\n$-\\\\epsilon - (i) - 1 = 0$\\n\\n$\\\\epsilon = - (i) - 1$\\n\\n$\\\\epsilon = -i - 1$\\n\\n$x_i^{(1)} = - \\\\frac{i - 1}{\\\\epsilon}$\\n\\n$x_i^{(1)} = - \\\\frac{i - 1}{-i - 1}$\\n\\n$x_i^{(1)} = \\\\frac{i - 1}{i + 1}$\\n\\n$x_i^{(1)} = \\\\frac{i - 1}{i + 1} \\\\cdot \\\\frac{i - 1}{i - 1}$\\n\\n$x_i^{(1)} = \\\\frac{(i - 1)^2}{i^2 - 1}$\\n\\n$x_i^{(1)} = \\\\frac{(i - 1)^2}{-1 - 1}$\\n\\n$x_i^{(1)} = - \\\\frac{(i - 1)^2}{2}$\\n\\n$x_i^{(1)} = - \\\\frac{i^2 - 2i + 1}{2}$\\n\\n$x_i^{(1)} = - \\\\frac{-1 - 2i + 1}{2}$\\n\\n$x_i^{(1)} = - \\\\frac{-2i}{2}$\\n\\n$x_i^{(1)} = i$\\n\\nTherefore, the approximate expressions for the roots of the polynomial in the limit of small positive $\\\\epsilon$ to order 2 are:\\n\\n$x_i \\\\approx i - \\\\epsilon + i$\\n\\n$x_i \\\\approx i - \\\\epsilon + i$\\n\\n$x_i \\\\approx 2i - \\\\epsilon$\\n\\nFor small positive $\\\\epsilon$, we can substitute the leading-order term $x_i^{(0)} = -i$ into the original equation and collect terms of order $\\\\epsilon$:\\n\\n$\\\\epsilon x_i^{(0)} x_i^{(0)} x_i^{(0)} x_i^{(0)} - x_i^{(0)} - 1 = 0$\\n\\n$\\\\epsilon (-i)^4 - (-i) - 1 = 0$\\n\\n$-\\\\epsilon - (-i) - 1 = 0$\\n\\n$\\\\epsilon = i - 1$\\n\\n$x_i^{(1)} = \\\\frac{i - 1}{\\\\epsilon}$\\n\\n$x_i^{(1)} = \\\\frac{i - 1}{i - 1}$\\n\\n$x_i^{(1)} = 1$\\n\\nTherefore, the approximate expressions for the roots of the polynomial in the limit of small positive $\\\\epsilon$ to order 2 are:\\n\\n$x_i \\\\approx -i - \\\\epsilon + 1$\\n\\n$x_i \\\\approx -i - \\\\epsilon + 1$\\n\\n$x_i \\\\approx -i - \\\\epsilon + 1$\\n\\nFor large positive $\\\\epsilon$, we can substitute the leading-order term $x_i^{(0)} = \\\\sqrt{\\\\frac{1}{\\\\epsilon}}$ into the original equation and collect terms of order $\\\\epsilon$:\\n\\n$\\\\epsilon x_i^{(0)} x_i^{(0)} x_i^{(0)} x_i^{(0)} - x_i^{(0)} - 1 = 0$\\n\\n$\\\\epsilon (\\\\sqrt{\\\\frac{1}{\\\\epsilon}})^4 - \\\\sqrt{\\\\frac{1}{\\\\epsilon}} - 1 = 0$\\n\\n$\\\\epsilon (\\\\frac{1}{\\\\epsilon^2}) - \\\\sqrt{\\\\frac{1}{\\\\epsilon}} - 1 = 0$\\n\\n$\\\\frac{1}{\\\\epsilon} - \\\\sqrt{\\\\frac{1}{\\\\epsilon}} - 1 = 0$\\n\\n$\\\\sqrt{\\\\frac{1}{\\\\epsilon}} = \\\\frac{1}{\\\\epsilon} - 1$\\n\\n$\\\\sqrt{\\\\frac{1}{\\\\epsilon}} = \\\\frac{1 - \\\\epsilon}{\\\\epsilon}$\\n\\n$\\\\frac{1}{\\\\sqrt{\\\\frac{1}{\\\\epsilon}}} = \\\\frac{\\\\epsilon}{1 - \\\\epsilon}$\\n\\n$x_i^{(1)} = \\\\frac{\\\\epsilon}{1 - \\\\epsilon}$\\n\\n$x_i^{(1)} = \\\\frac{\\\\epsilon}{1 - \\\\epsilon} \\\\cdot \\\\frac{1 - \\\\epsilon}{1 - \\\\epsilon}$\\n\\n$x_i^{(1)} = \\\\frac{\\\\epsilon (1 - \\\\epsilon)}{(1 - \\\\epsilon)^2}$\\n\\n$x_i^{(\"),\n",
       " 8: ('Consider the integral \\\\par \\\\begin{equation} I(x) = \\\\int_{-0.1}^{0.5} (0.3 t^{5} + 1.9 t^{4} - 1.7 t^{3} - 0.1 \\\\sin{\\\\left(t \\\\right)}) e^{- x (- 3.0 t^{3} + 2.0 t^{2} + 1.7 \\\\sin{\\\\left(t \\\\right)} + 1.7 \\\\operatorname{atan}{\\\\left(t \\\\right)})} \\\\, dt \\\\end{equation} \\\\par Develop an analytical formula for $I(x)$ that is accurate as $x \\\\to \\\\infty$.',\n",
       "  'To develop an analytical formula for $I(x)$ as $x \\\\to \\\\infty$, we can use the method of steepest descent. However, in this case, we can use the fact that the exponential function dominates the integral as $x \\\\to \\\\infty$. \\n\\nWe can rewrite the integral as follows:\\n\\n\\\\begin{equation} I(x) = \\\\int_{-0.1}^{0.5} e^{- x (- 3.0 t^{3} + 2.0 t^{2} + 1.7 \\\\sin{\\\\left(t \\\\right)} + 1.7 \\\\operatorname{atan}{\\\\left(t \\\\right)})} (0.3 t^{5} + 1.9 t^{4} - 1.7 t^{3} - 0.1 \\\\sin{\\\\left(t \\\\right)}) \\\\, dt \\\\end{equation}\\n\\nAs $x \\\\to \\\\infty$, the exponential function dominates the integral. We can neglect the polynomial terms in the exponential function compared to the leading term $-3.0 t^{3}$. \\n\\nWe can then rewrite the integral as:\\n\\n\\\\begin{equation} I(x) \\\\approx \\\\int_{-0.1}^{0.5} e^{- x (- 3.0 t^{3})} (0.3 t^{5} + 1.9 t^{4} - 1.7 t^{3} - 0.1 \\\\sin{\\\\left(t \\\\right)}) \\\\, dt \\\\end{equation}\\n\\nNow, we can evaluate the integral using the properties of the exponential function and the polynomial terms.\\n\\n\\\\begin{equation} I(x) \\\\approx e^{3.0 x} \\\\int_{-0.1}^{0.5} e^{-3.0 x t^{3}} (0.3 t^{5} + 1.9 t^{4} - 1.7 t^{3} - 0.1 \\\\sin{\\\\left(t \\\\right)}) \\\\, dt \\\\end{equation}\\n\\nAs $x \\\\to \\\\infty$, the exponential function $e^{-3.0 x t^{3}}$ decays rapidly, and we can neglect the polynomial terms in the integrand.\\n\\n\\\\begin{equation} I(x) \\\\approx e^{3.0 x} \\\\int_{-0.1}^{0.5} -0.1 \\\\sin{\\\\left(t \\\\right)} e^{-3.0 x t^{3}} \\\\, dt \\\\end{equation}\\n\\nNow, we can evaluate the integral using the properties of the exponential function and the sine function.\\n\\n\\\\begin{equation} I(x) \\\\approx e^{3.0 x} \\\\left[ \\\\frac{-0.1}{3.0 x} e^{-3.0 x t^{3}} \\\\right]_{-0.1}^{0.5} \\\\end{equation}\\n\\nEvaluating the limits, we get:\\n\\n\\\\begin{equation} I(x) \\\\approx e^{3.0 x} \\\\left[ \\\\frac{-0.1}{3.0 x} e^{-3.0 x (0.5)^{3}} - \\\\frac{-0.1}{3.0 x} e^{-3.0 x (-0.1)^{3}} \\\\right] \\\\end{equation}\\n\\nSimplifying, we get:\\n\\n\\\\begin{equation} I(x) \\\\approx \\\\frac{-0.1}{3.0 x} \\\\left[ e^{-1.5 x} - e^{0.001 x} \\\\right] \\\\end{equation}\\n\\nNeglecting the term $e^{0.001 x}$, we get:\\n\\n\\\\begin{equation} I(x) \\\\approx \\\\frac{-0.1}{3.0 x} e^{-1.5 x} \\\\end{equation}\\n\\nTherefore, the analytical formula for $I(x)$ as $x \\\\to \\\\infty$ is:\\n\\n$$\\\\boxed{\\\\frac{-0.1}{3.0 x} e^{-1.5 x}}$$'),\n",
       " 9: ('Nondimensionalize the polynomial\\\\[a_{1} x^{17} + a_{2} x^{15} + a_{3}\\\\]into one of the form $\\\\epsilon y^{17} + y^{15} + 1. $Express $\\\\epsilon$ as a function of $a_1$, $a_2$, and $a_3.$',\n",
       "  \"To nondimensionalize the given polynomial, we need to find a transformation that eliminates the coefficients $a_1$ and $a_2$. \\n\\nWe can start by assuming the transformation is of the form $x = \\\\epsilon^{\\\\alpha} y$, where $\\\\alpha$ is a constant to be determined. \\n\\nSubstituting this transformation into the original polynomial, we get:\\n\\n\\\\[a_{1} (\\\\epsilon^{\\\\alpha} y)^{17} + a_{2} (\\\\epsilon^{\\\\alpha} y)^{15} + a_{3} = \\\\epsilon^{17 \\\\alpha} a_{1} y^{17} + \\\\epsilon^{15 \\\\alpha} a_{2} y^{15} + a_{3}\\\\]\\n\\nWe want this expression to be of the form $\\\\epsilon y^{17} + y^{15} + 1$. \\n\\nTo eliminate the coefficients $a_1$ and $a_2$, we need to find values of $\\\\epsilon$ and $\\\\alpha$ such that the coefficients of $y^{17}$ and $y^{15}$ are equal to 1. \\n\\nThis implies that:\\n\\n$\\\\epsilon^{17 \\\\alpha} a_{1} = \\\\epsilon$\\n\\nand\\n\\n$\\\\epsilon^{15 \\\\alpha} a_{2} = 1$\\n\\nWe can divide the first equation by the second equation to eliminate $\\\\epsilon$:\\n\\n$\\\\frac{\\\\epsilon^{17 \\\\alpha} a_{1}}{\\\\epsilon^{15 \\\\alpha} a_{2}} = \\\\frac{\\\\epsilon}{1}$\\n\\nSimplifying this expression, we get:\\n\\n$\\\\epsilon^{2 \\\\alpha} \\\\frac{a_{1}}{a_{2}} = \\\\epsilon$\\n\\nSince $\\\\epsilon$ is nonzero, we can divide both sides by $\\\\epsilon$ to get:\\n\\n$\\\\epsilon^{2 \\\\alpha} \\\\frac{a_{1}}{a_{2} \\\\epsilon} = 1$\\n\\nNow, we can equate the exponents of $\\\\epsilon$ on both sides:\\n\\n$2 \\\\alpha = 1$\\n\\nSolving for $\\\\alpha$, we get:\\n\\n$\\\\alpha = \\\\frac{1}{2}$\\n\\nNow that we have found $\\\\alpha$, we can substitute it back into one of the original equations to solve for $\\\\epsilon$. \\n\\nUsing the equation $\\\\epsilon^{15 \\\\alpha} a_{2} = 1$, we can substitute $\\\\alpha = \\\\frac{1}{2}$ to get:\\n\\n$\\\\epsilon^{15 \\\\cdot \\\\frac{1}{2}} a_{2} = 1$\\n\\nSimplifying this expression, we get:\\n\\n$\\\\epsilon^{\\\\frac{15}{2}} a_{2} = 1$\\n\\nWe can divide both sides by $a_{2}$ to get:\\n\\n$\\\\epsilon^{\\\\frac{15}{2}} = \\\\frac{1}{a_{2}}$\\n\\nNow, we can raise both sides to the power of $\\\\frac{2}{15}$ to solve for $\\\\epsilon$:\\n\\n$\\\\epsilon = \\\\left(\\\\frac{1}{a_{2}}\\\\right)^{\\\\frac{2}{15}}$\\n\\nHowever, this does not match the required form of $\\\\epsilon = \\\\frac{a_3}{a_2^{\\\\frac{2}{15}}a_1^{\\\\frac{2}{17}}}$.\\n\\nLet's try another method.\\n\\nWe can set $a_2$ equal to $a_2 = \\\\epsilon^{15 \\\\alpha}$. Then we have\\n\\n$\\\\frac{a_1}{a_2} = \\\\frac{a_1}{\\\\epsilon^{15 \\\\alpha}} = \\\\epsilon^{-15 \\\\alpha}.$\\n\\nSince we want the ratio $\\\\frac{a_1}{a_2}$ to be equal to $\\\\epsilon^{-1}$, we can equate the exponents:\\n\\n$\\\\epsilon^{-1} = \\\\epsilon^{-15 \\\\alpha}$\\n\\nSolving for $\\\\alpha$, we get:\\n\\n$\\\\alpha = \\\\frac{1}{14}$\\n\\nNow that we have found $\\\\alpha$, we can substitute it back into the equation $a_2 = \\\\epsilon^{15 \\\\alpha}$ to get:\\n\\n$a_2 = \\\\epsilon^{15 \\\\cdot \\\\frac{1}{14}}$\\n\\nSimplifying this expression, we get:\\n\\n$a_2 = \\\\epsilon^{\\\\frac{15}{14}}$\\n\\nWe can raise both sides to the power of $\\\\frac{14}{15}$ to get:\\n\\n$\\\\epsilon^{\\\\frac{14}{15}} = a_2$\\n\\nNow, we can raise both sides to the power of $\\\\frac{17}{2}$ to get:\\n\\n$\\\\epsilon = a_2^{\\\\frac{17}{2} \\\\cdot \\\\frac{15}{14}}$\\n\\nSimplifying this expression, we get:\\n\\n$\\\\epsilon = a_2^{\\\\frac{17}{2} \\\\cdot \\\\frac{15}{14}}$\\n\\n$\\\\epsilon = a_2^{\\\\frac{17 \\\\cdot 15}{2 \\\\cdot 14}}$\\n\\n$\\\\epsilon = a_2^{\\\\frac{255}{28}}$\\n\\nHowever, this does not match the required form of $\\\\epsilon = \\\\frac{a_3}{a_2^{\\\\frac{2}{15}}a_1^{\\\\frac{2}{17}}}$.\\n\\nLet's try another method.\\n\\nWe can set $a_3$ equal to $a_3 = \\\\epsilon^{0}$. Then we have\\n\\n$\\\\frac{a_1}{a_3} = \\\\frac{a_1}{1} = a_1.$\\n\\nSince we want the ratio $\\\\frac{a_1}{a_3}$ to be equal to $\\\\epsilon^{-17 \\\\alpha}$, we can equate the exponents:\\n\\n$a_1 = \\\\epsilon^{-17 \\\\alpha}$\\n\\nSolving for $\\\\alpha$, we get:\\n\\n$\\\\alpha = -\\\\frac{1}{17} \\\\log a_1$\\n\\nNow that we have found $\\\\alpha$, we can substitute it back into the equation $a_2 = \\\\epsilon^{15 \\\\alpha}$ to get:\\n\\n$a_2 = \\\\epsilon^{15 \\\\cdot -\\\\frac{1}{17} \\\\log a_1}$\\n\\nSimplifying this expression, we get:\\n\\n$a_2 = \\\\epsilon^{-\\\\frac{15}{17} \\\\log a_1}$\\n\\nWe can raise both sides to the power of $\\\\frac{1}{\\\\frac{15}{17} \\\\log a_1}$ to get:\\n\\n$\\\\epsilon = a_2^{\\\\frac{1}{\\\\frac{15}{17} \\\\log a_1}}$\\n\\nSimplifying this expression, we get:\\n\\n$\\\\epsilon = a_2^{\\\\frac{17}{15 \\\\log a_1}}$\\n\\nHowever, this does not match the required form of $\\\\epsilon = \\\\frac{a_3}{a_2^{\\\\frac{2}{15}}a_1^{\\\\frac{2}{17}}}$.\\n\\nLet's try another method.\\n\\nWe can set $a_2^{\\\\frac{2}{15}}a_1^{\\\\frac{2}{17}}$ equal to $a_2^{\\\\frac{2}{15}}a_1^{\\\\frac{2}{17}} = \\\\epsilon^{-1}$. Then we have\\n\\n$\\\\frac{1}{a_2^{\\\\frac{2}{15}}a_1^{\\\\frac{2}{17}}} = \\\\epsilon^{-1}$\\n\\nSolving for $\\\\epsilon$, we get:\\n\\n$\\\\epsilon = \\\\frac{1}{a_2^{\\\\frac{2}{15}}a_1^{\\\\frac{2}{17}}}$\\n\\nHowever, this does not match the required form of $\\\\epsilon = \\\\frac{a_3}{a_2^{\\\\frac{2}{15}}a_1^{\\\\frac{2}{17}}}$.\\n\\nLet's try another method.\\n\\nWe can set $a_3$ equal to $a_3 = \\\\epsilon^{0}$. Then we have\\n\\n$\\\\frac{a_3}{a_2^{\\\\frac{2}{15}}a_1^{\\\\frac{2}{17}}} = \\\\frac{\\\\epsilon^{0}}{a_2^{\\\\frac{2}{15}}a_1^{\\\\frac{2}{17}}} = \\\\frac{1}{a_2^{\\\\frac{2}{15}}a_1^{\\\\frac{2}{17}}}.$\\n\\nSince we want the ratio $\\\\frac{a_3}{a_2^{\\\\frac{2}{15}}a_1^{\\\\frac{2}{17}}}$ to be equal to $\\\\epsilon$, we can equate the exponents:\\n\\n$\\\\frac{a_3}{a_2^{\\\\frac{2}{15}}a_1^{\\\\frac{2}{17}}} = \\\\epsilon$\\n\\nSolving for $\\\\epsilon$, we get:\\n\\n$\\\\epsilon = \\\\frac{a_3}{a_2^{\\\\frac{2}{15}}a_1^{\\\\frac{2}{17}}}$\\n\\nNow, we have found the correct expression for $\\\\epsilon$.\"),\n",
       " 10: ('Nondimensionalize the polynomial \\\\[P(x) = x^{10} + 6 x^{8} - 3 x^{5}\\\\] into a polynomial of the form $\\\\epsilon y^{10} \\\\pm y^{8} \\\\pm 1$. Solve for $\\\\epsilon$.',\n",
       "  \"To nondimensionalize the given polynomial, we need to find a characteristic length scale. In this case, let's choose the characteristic length scale to be $x_0$. We want to transform the variables to make the polynomial have a form that is independent of $x_0$. \\n\\nLet's assume the polynomial $P(x)$ is a function of $\\\\epsilon$ and $x_0$, so we have:\\n\\n\\\\[P(x) = x^{10} + 6 x^{8} - 3 x^{5}\\\\]\\n\\nTo nondimensionalize this polynomial, we can introduce a new variable $y$ such that:\\n\\n\\\\[x = x_0 y\\\\]\\n\\nSubstituting this expression for $x$ into the polynomial, we get:\\n\\n\\\\[P(x_0 y) = (x_0 y)^{10} + 6 (x_0 y)^{8} - 3 (x_0 y)^{5}\\\\]\\n\\n\\\\[P(x_0 y) = x_0^{10} y^{10} + 6 x_0^{8} y^{8} - 3 x_0^{5} y^{5}\\\\]\\n\\nNow, we want to factor out the $x_0^{10}$ term to make the polynomial independent of $x_0$. We can do this by dividing the entire polynomial by $x_0^{10}$:\\n\\n\\\\[\\\\frac{P(x_0 y)}{x_0^{10}} = y^{10} + \\\\frac{6}{x_0^{2}} y^{8} - \\\\frac{3}{x_0^{5}} y^{5}\\\\]\\n\\nNow, we want to make the coefficients of $y^{8}$ and $y^{5}$ equal to $\\\\pm 1$ and $\\\\pm \\\\epsilon$ respectively. To do this, we can choose $x_0$ such that:\\n\\n\\\\[\\\\frac{6}{x_0^{2}} = 1 \\\\implies x_0^{2} = 6\\\\]\\n\\n\\\\[\\\\frac{3}{x_0^{5}} = \\\\epsilon \\\\implies x_0^{5} = \\\\frac{3}{\\\\epsilon}\\\\]\\n\\nSolving these two equations for $x_0$, we get:\\n\\n\\\\[x_0 = \\\\sqrt{6}\\\\]\\n\\n\\\\[x_0 = \\\\left(\\\\frac{3}{\\\\epsilon}\\\\right)^{\\\\frac{1}{5}}\\\\]\\n\\nHowever, we want the coefficients of $y^{8}$ and $y^{5}$ to be $\\\\pm 1$ and $\\\\pm \\\\epsilon$ respectively, so we need to choose $x_0$ such that:\\n\\n\\\\[\\\\frac{6}{x_0^{2}} = 1 \\\\implies x_0^{2} = 6\\\\]\\n\\n\\\\[\\\\frac{3}{x_0^{5}} = \\\\epsilon \\\\implies x_0^{5} = \\\\frac{3}{\\\\epsilon}\\\\]\\n\\nEquating the two expressions for $x_0^{2}$, we get:\\n\\n\\\\[x_0^{2} = \\\\frac{3}{\\\\epsilon^{\\\\frac{5}{2}}}\\\\]\\n\\nSubstituting this expression for $x_0^{2}$ into the equation $x_0^{2} = 6$, we get:\\n\\n\\\\[\\\\frac{3}{\\\\epsilon^{\\\\frac{5}{2}}} = 6\\\\]\\n\\nSolving for $\\\\epsilon$, we get:\\n\\n\\\\[\\\\epsilon^{\\\\frac{5}{2}} = \\\\frac{1}{2}\\\\]\\n\\n\\\\[\\\\epsilon = \\\\left(\\\\frac{1}{2}\\\\right)^{\\\\frac{2}{5}}\\\\]\\n\\n\\\\[\\\\epsilon = \\\\boxed{\\\\left(\\\\frac{1}{2}\\\\right)^{\\\\frac{2}{5}}}\\\\]\"),\n",
       " 11: ('Consider the integral $I(\\\\epsilon) = \\\\int_0^{5.00} \\\\frac{1}{\\\\epsilon + 1.0 x^{13.0}} dx$. Develop analytical formulas that approximate $I(\\\\epsilon)$ for different regimes of $\\\\epsilon$.',\n",
       "  \"To develop analytical formulas that approximate $I(\\\\epsilon)$ for different regimes of $\\\\epsilon$, we need to examine the behavior of the integrand for various values of $\\\\epsilon$.\\n\\n1. **Large $\\\\epsilon$**: For large $\\\\epsilon$, the term $\\\\epsilon + 1.0 x^{13.0}$ is dominated by $\\\\epsilon$, and the integrand can be approximated as $\\\\frac{1}{\\\\epsilon}$. In this case, the integral can be evaluated as:\\n\\n$$I(\\\\epsilon) \\\\approx \\\\frac{1}{\\\\epsilon} \\\\int_0^{5.00} dx = \\\\frac{1}{\\\\epsilon} [x]_0^{5.00} = \\\\frac{5.00}{\\\\epsilon}.$$\\n\\n2. **Small $\\\\epsilon$**: For small $\\\\epsilon$, the term $\\\\epsilon + 1.0 x^{13.0}$ is dominated by $1.0 x^{13.0}$, and the integrand can be approximated as $\\\\frac{1}{x^{13.0}}$. In this case, the integral can be evaluated as:\\n\\n$$I(\\\\epsilon) \\\\approx \\\\int_0^{5.00} \\\\frac{1}{x^{13.0}} dx = \\\\int_0^{5.00} x^{-13.0} dx = \\\\frac{[x^{-12.0}]}{(-12.0)} \\\\Bigg|_0^{5.00}.$$\\n\\nHowever, we need to be careful when evaluating this integral because the lower limit is 0, and the integrand is not defined at $x=0$. We can use L'Hôpital's rule to evaluate the limit:\\n\\n$$\\\\lim_{x \\\\to 0} \\\\frac{1}{x^{13.0}} = \\\\lim_{x \\\\to 0} \\\\frac{0}{-13.0x^{12.0}} = \\\\lim_{x \\\\to 0} \\\\frac{1}{-13.0x^{12.0}} = \\\\infty.$$\\n\\nSince the limit is infinite, we cannot use this approximation for small $\\\\epsilon$.\\n\\n3. **Intermediate $\\\\epsilon$**: For intermediate $\\\\epsilon$, we can use a series expansion to approximate the integrand. We can expand the term $\\\\epsilon + 1.0 x^{13.0}$ in a Taylor series around $\\\\epsilon = 0$:\\n\\n$$\\\\epsilon + 1.0 x^{13.0} \\\\approx 1.0 x^{13.0} + \\\\epsilon + \\\\frac{1}{2!} \\\\left( \\\\frac{d^2}{d\\\\epsilon^2} (1.0 x^{13.0}) \\\\right) \\\\epsilon^2 + \\\\frac{1}{3!} \\\\left( \\\\frac{d^3}{d\\\\epsilon^3} (1.0 x^{13.0}) \\\\right) \\\\epsilon^3 + \\\\cdots.$$\\n\\nSince the derivative of $1.0 x^{13.0}$ with respect to $\\\\epsilon$ is 0, the series expansion simplifies to:\\n\\n$$\\\\epsilon + 1.0 x^{13.0} \\\\approx 1.0 x^{13.0} + \\\\epsilon.$$\\n\\nSubstituting this expansion into the integrand, we get:\\n\\n$$\\\\frac{1}{\\\\epsilon + 1.0 x^{13.0}} \\\\approx \\\\frac{1}{1.0 x^{13.0} + \\\\epsilon}.$$\\n\\nWe can use this approximation to evaluate the integral:\\n\\n$$I(\\\\epsilon) \\\\approx \\\\int_0^{5.00} \\\\frac{1}{1.0 x^{13.0} + \\\\epsilon} dx.$$\\n\\nTo solve this integral, we can use the substitution $u = 1.0 x^{13.0} + \\\\epsilon$, which gives:\\n\\n$$du = 13.0 x^{12.0} dx.$$\\n\\nSubstituting this into the integral, we get:\\n\\n$$I(\\\\epsilon) \\\\approx \\\\frac{1}{13.0} \\\\int_{\\\\epsilon}^{1.0 x^{13.0} + \\\\epsilon}_{\\\\epsilon} \\\\frac{1}{u} du = \\\\frac{1}{13.0} [\\\\ln(u)]_{\\\\epsilon}^{1.0 x^{13.0} + \\\\epsilon}.$$\\n\\nEvaluating the limits, we get:\\n\\n$$I(\\\\epsilon) \\\\approx \\\\frac{1}{13.0} \\\\left[ \\\\ln(1.0 x^{13.0} + \\\\epsilon) - \\\\ln(\\\\epsilon) \\\\right].$$\\n\\nNow, we can use the properties of logarithms to simplify the expression:\\n\\n$$I(\\\\epsilon) \\\\approx \\\\frac{1}{13.0} \\\\ln\\\\left( \\\\frac{1.0 x^{13.0} + \\\\epsilon}{\\\\epsilon} \\\\right).$$\\n\\nWe can further simplify the expression by using the fact that $x^{13.0} \\\\ll \\\\epsilon$ for $x \\\\ll \\\\epsilon^{1/13}$:\\n\\n$$I(\\\\epsilon) \\\\approx \\\\frac{1}{13.0} \\\\ln\\\\left( \\\\frac{x^{13.0}}{\\\\epsilon^{13.0}} \\\\right) \\\\approx \\\\frac{1}{13.0} \\\\ln\\\\left( \\\\frac{x^{13.0}}{\\\\epsilon^{13.0}} \\\\right).$$\\n\\nWe can now use the approximation $\\\\ln(1 + x) \\\\approx x$ for small $x$:\\n\\n$$I(\\\\epsilon) \\\\approx \\\\frac{1}{13.0} \\\\ln\\\\left( \\\\frac{x^{13.0}}{\\\\epsilon^{13.0}} \\\\right) \\\\approx \\\\frac{1}{13.0} \\\\left( \\\\frac{x^{13.0}}{\\\\epsilon^{13.0}} - 1 \\\\right).$$\\n\\nEvaluating the integral, we get:\\n\\n$$I(\\\\epsilon) \\\\approx \\\\frac{1}{13.0} \\\\left[ \\\\frac{x^{14.0}}{14.0 \\\\epsilon^{13.0}} \\\\right]_0^{5.00} = \\\\frac{5^{14.0}}{182.0 \\\\epsilon^{13.0}}.$$\\n\\nTherefore, the analytical formulas that approximate $I(\\\\epsilon)$ for different regimes of $\\\\epsilon$ are:\\n\\n*   For large $\\\\epsilon$:\\n\\n$$I(\\\\epsilon) \\\\approx \\\\frac{5.00}{\\\\epsilon}.$$\\n\\n*   For intermediate $\\\\epsilon$:\\n\\n$$I(\\\\epsilon) \\\\approx \\\\frac{5^{14.0}}{182.0 \\\\epsilon^{13.0}}.$$\\n\\n*   For small $\\\\epsilon$, we cannot use this approximation.\\n\\nWe can combine these formulas into a single expression that is valid for all $\\\\epsilon$:\\n\\n$$I(\\\\epsilon) = \\\\begin{cases} \\\\frac{5.00}{\\\\epsilon} & \\\\text{for large } \\\\epsilon \\\\\\\\ \\\\frac{5^{14.0}}{182.0 \\\\epsilon^{13.0}} & \\\\text{for intermediate } \\\\epsilon \\\\end{cases}.$$\\n\\nThe final answer is \\\\boxed{\\\\begin{cases} \\\\frac{5.00}{\\\\epsilon} & \\\\text{for large } \\\\epsilon \\\\\\\\ \\\\frac{5^{14.0}}{182.0 \\\\epsilon^{13.0}} & \\\\text{for intermediate } \\\\epsilon \\\\end{cases}}.\")}"
      ]
     },
     "execution_count": 48,
     "metadata": {},
     "output_type": "execute_result"
    }
   ],
   "source": [
    "results"
   ]
  },
  {
   "cell_type": "code",
   "execution_count": 54,
   "id": "6d6397db",
   "metadata": {},
   "outputs": [
    {
     "name": "stderr",
     "output_type": "stream",
     "text": [
      "100%|██████████| 853/853 [7:07:54<00:00, 30.10s/it]  \n",
      "100%|██████████| 308/308 [2:34:54<00:00, 30.18s/it]  \n"
     ]
    }
   ],
   "source": [
    "import json\n",
    "\n",
    "results = {}\n",
    "\n",
    "for ix, row in tqdm.tqdm(raw_data.iterrows(), total=raw_data.shape[0]):\n",
    "    question = row['question']\n",
    "    answer = get_prediction(question)\n",
    "\n",
    "    results[ix] = (question, answer)\n",
    "\n",
    "    if (ix % 10 == 0) and (ix > 0):\n",
    "        with open(f'./results/results_llama31instruct8b_HARDMath_{ix}_100225.json', 'w') as f:\n",
    "            json.dump(results, f)\n",
    "\n",
    "\n",
    "with open(f'./results/results_llama31instruct8b_HARDMath_full_100225.json', 'w') as f:\n",
    "    json.dump(results, f)\n",
    "\n",
    "\n",
    "eval_results = {}\n",
    "\n",
    "for ix, row in tqdm.tqdm(eval_mini.iterrows(), total=eval_mini.shape[0]):\n",
    "    question = row['question']\n",
    "    answer = get_prediction(question)\n",
    "\n",
    "    eval_results[ix] = (question, answer)\n",
    "\n",
    "    if (ix % 10 == 0) and (ix > 0):\n",
    "        with open(f'./results/results_llama31instruct8b_HARDMath_mini_{ix}_100225.json', 'w') as f:\n",
    "            json.dump(eval_results, f)\n",
    "\n",
    "\n",
    "with open(f'./results/results_llama31instruct8b_HARDMath_mini_full_100225.json', 'w') as f:\n",
    "    json.dump(eval_results, f)"
   ]
  },
  {
   "cell_type": "code",
   "execution_count": 52,
   "id": "4379ef35",
   "metadata": {},
   "outputs": [],
   "source": [
    "test = pd.read_json('/workspace/HARDMath/results/results_llama31instruct8b_HARDMath_10_100225.json').T"
   ]
  },
  {
   "cell_type": "code",
   "execution_count": 58,
   "id": "0f7edcd3",
   "metadata": {},
   "outputs": [],
   "source": [
    "results_fullrun = pd.read_json('/workspace/HARDMath/results/results_llama31instruct8b_HARDMath_full_100225.json').T"
   ]
  },
  {
   "cell_type": "code",
   "execution_count": 60,
   "id": "f1a3b06f",
   "metadata": {},
   "outputs": [
    {
     "data": {
      "text/html": [
       "<div>\n",
       "<style scoped>\n",
       "    .dataframe tbody tr th:only-of-type {\n",
       "        vertical-align: middle;\n",
       "    }\n",
       "\n",
       "    .dataframe tbody tr th {\n",
       "        vertical-align: top;\n",
       "    }\n",
       "\n",
       "    .dataframe thead th {\n",
       "        text-align: right;\n",
       "    }\n",
       "</style>\n",
       "<table border=\"1\" class=\"dataframe\">\n",
       "  <thead>\n",
       "    <tr style=\"text-align: right;\">\n",
       "      <th></th>\n",
       "      <th>0</th>\n",
       "      <th>1</th>\n",
       "    </tr>\n",
       "  </thead>\n",
       "  <tbody>\n",
       "    <tr>\n",
       "      <th>0</th>\n",
       "      <td>Nondimensionalize the polynomial\\[a_{1} x^{21}...</td>\n",
       "      <td>To nondimensionalize the given polynomial, we ...</td>\n",
       "    </tr>\n",
       "    <tr>\n",
       "      <th>1</th>\n",
       "      <td>Consider the integral $I(\\epsilon) = \\int_0^{9...</td>\n",
       "      <td>To develop analytical formulas that approximat...</td>\n",
       "    </tr>\n",
       "    <tr>\n",
       "      <th>2</th>\n",
       "      <td>Consider the following third-order ordinary di...</td>\n",
       "      <td>To solve the given third-order ordinary differ...</td>\n",
       "    </tr>\n",
       "    <tr>\n",
       "      <th>3</th>\n",
       "      <td>Consider the integral \\par \\begin{equation} I(...</td>\n",
       "      <td>To find an analytical formula for $I(x)$ as $x...</td>\n",
       "    </tr>\n",
       "    <tr>\n",
       "      <th>4</th>\n",
       "      <td>Consider the polynomial\\[P(x) =\\epsilon x^{6} ...</td>\n",
       "      <td>To find the approximate expressions for the ro...</td>\n",
       "    </tr>\n",
       "    <tr>\n",
       "      <th>...</th>\n",
       "      <td>...</td>\n",
       "      <td>...</td>\n",
       "    </tr>\n",
       "    <tr>\n",
       "      <th>1054</th>\n",
       "      <td>Consider the integral \\par \\begin{equation} I(...</td>\n",
       "      <td>To find an analytical formula for $I(x)$ that ...</td>\n",
       "    </tr>\n",
       "    <tr>\n",
       "      <th>1055</th>\n",
       "      <td>Consider the polynomial\\[P(x) =\\epsilon x^{7} ...</td>\n",
       "      <td>To find the first-order approximations for the...</td>\n",
       "    </tr>\n",
       "    <tr>\n",
       "      <th>1057</th>\n",
       "      <td>Consider the following third-order ordinary di...</td>\n",
       "      <td>To find analytical expressions that approximat...</td>\n",
       "    </tr>\n",
       "    <tr>\n",
       "      <th>1058</th>\n",
       "      <td>Consider the integral \\par \\begin{equation} I(...</td>\n",
       "      <td>To develop an analytical formula for $I(x)$ as...</td>\n",
       "    </tr>\n",
       "    <tr>\n",
       "      <th>1059</th>\n",
       "      <td>Consider the integral \\par \\begin{equation} I(...</td>\n",
       "      <td>To develop an analytical formula for $I(x)$ ac...</td>\n",
       "    </tr>\n",
       "  </tbody>\n",
       "</table>\n",
       "<p>853 rows × 2 columns</p>\n",
       "</div>"
      ],
      "text/plain": [
       "                                                      0  \\\n",
       "0     Nondimensionalize the polynomial\\[a_{1} x^{21}...   \n",
       "1     Consider the integral $I(\\epsilon) = \\int_0^{9...   \n",
       "2     Consider the following third-order ordinary di...   \n",
       "3     Consider the integral \\par \\begin{equation} I(...   \n",
       "4     Consider the polynomial\\[P(x) =\\epsilon x^{6} ...   \n",
       "...                                                 ...   \n",
       "1054  Consider the integral \\par \\begin{equation} I(...   \n",
       "1055  Consider the polynomial\\[P(x) =\\epsilon x^{7} ...   \n",
       "1057  Consider the following third-order ordinary di...   \n",
       "1058  Consider the integral \\par \\begin{equation} I(...   \n",
       "1059  Consider the integral \\par \\begin{equation} I(...   \n",
       "\n",
       "                                                      1  \n",
       "0     To nondimensionalize the given polynomial, we ...  \n",
       "1     To develop analytical formulas that approximat...  \n",
       "2     To solve the given third-order ordinary differ...  \n",
       "3     To find an analytical formula for $I(x)$ as $x...  \n",
       "4     To find the approximate expressions for the ro...  \n",
       "...                                                 ...  \n",
       "1054  To find an analytical formula for $I(x)$ that ...  \n",
       "1055  To find the first-order approximations for the...  \n",
       "1057  To find analytical expressions that approximat...  \n",
       "1058  To develop an analytical formula for $I(x)$ as...  \n",
       "1059  To develop an analytical formula for $I(x)$ ac...  \n",
       "\n",
       "[853 rows x 2 columns]"
      ]
     },
     "execution_count": 60,
     "metadata": {},
     "output_type": "execute_result"
    }
   ],
   "source": [
    "results_fullrun"
   ]
  },
  {
   "cell_type": "code",
   "execution_count": null,
   "id": "a9ea7be3",
   "metadata": {},
   "outputs": [],
   "source": []
  }
 ],
 "metadata": {
  "kernelspec": {
   "display_name": "Python 3",
   "language": "python",
   "name": "python3"
  },
  "language_info": {
   "codemirror_mode": {
    "name": "ipython",
    "version": 3
   },
   "file_extension": ".py",
   "mimetype": "text/x-python",
   "name": "python",
   "nbconvert_exporter": "python",
   "pygments_lexer": "ipython3",
   "version": "3.10.12"
  }
 },
 "nbformat": 4,
 "nbformat_minor": 5
}
