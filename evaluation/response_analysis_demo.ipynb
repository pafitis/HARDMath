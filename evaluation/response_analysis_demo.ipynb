{
 "cells": [
  {
   "cell_type": "code",
   "execution_count": 56,
   "metadata": {},
   "outputs": [],
   "source": [
    "import numpy as np\n",
    "import os\n",
    "import utils\n",
    "import matplotlib.pyplot as plt"
   ]
  },
  {
   "cell_type": "code",
   "execution_count": 72,
   "metadata": {},
   "outputs": [],
   "source": [
    "# load response \n",
    "question_type = 'ode'\n",
    "json_name = '10shot_llama3'\n",
    "json_path = f'results/responses/{question_type}/{question_type}_{json_name}.json'\n",
    "        \n",
    "if os.path.exists(json_path):\n",
    "    problem_response = utils.read_json(json_path)"
   ]
  },
  {
   "cell_type": "code",
   "execution_count": 73,
   "metadata": {},
   "outputs": [
    {
     "name": "stdout",
     "output_type": "stream",
     "text": [
      "Error: float() argument must be a string or a number, not 'NoneType'\n",
      "Error: could not convert string to float: '- \\\\sqrt{2} \\\\cdot \\\\sqrt[4]{3} (x - 3.77037703770377)^{\\\\frac{1}{2}} + (2.79383708116537)]'\n",
      "accuracy: 0.3472\n"
     ]
    }
   ],
   "source": [
    "# score calculation\n",
    "\n",
    "scores = [v['score'] for v in problem_response.values()]\n",
    "if type(scores[0]) == str:\n",
    "    scores = utils.convert_to_numbers(scores)\n",
    "accuracy = np.mean([0 if score==None else score for score in scores])\n",
    "print(f'accuracy: {accuracy:.4f}')"
   ]
  },
  {
   "cell_type": "code",
   "execution_count": null,
   "metadata": {},
   "outputs": [],
   "source": []
  }
 ],
 "metadata": {
  "kernelspec": {
   "display_name": "llm201",
   "language": "python",
   "name": "python3"
  },
  "language_info": {
   "codemirror_mode": {
    "name": "ipython",
    "version": 3
   },
   "file_extension": ".py",
   "mimetype": "text/x-python",
   "name": "python",
   "nbconvert_exporter": "python",
   "pygments_lexer": "ipython3",
   "version": "3.9.18"
  },
  "orig_nbformat": 4
 },
 "nbformat": 4,
 "nbformat_minor": 2
}
