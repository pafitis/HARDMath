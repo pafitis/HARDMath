{
 "cells": [
  {
   "cell_type": "code",
   "execution_count": null,
   "metadata": {},
   "outputs": [],
   "source": [
    "import numpy as np\n",
    "import matplotlib.pyplot as plt\n",
    "import pandas as pd\n",
    "import csv\n",
    "import random\n",
    "import json\n",
    "import os\n",
    "import re\n",
    "import openai\n",
    "from dotenv import load_dotenv\n",
    "import time\n",
    "import sys\n",
    "from IPython.display import display, Markdown, Latex\n",
    "import pandas as pd\n",
    "import sympy as sp\n",
    "#from latex2sympy2 import latex2sympy, latex2latex \n",
    "from sympy import simplify, cos, sin, expand, Eq\n",
    "import eval_functions\n",
    "import openai_model\n",
    "from sympy import Mul, symbols\n",
    "from sympy import symbols, lambdify\n",
    "from sympy.parsing.latex import parse_latex\n",
    "from math import pi"
   ]
  },
  {
   "cell_type": "code",
   "execution_count": null,
   "metadata": {},
   "outputs": [],
   "source": [
    "# TODO: make file and load in function \n",
    "evalsum_df = pd.DataFrame()\n",
    "evalsum_df['problem_type'] = np.array(['overall','nondimensionalization','root_finding','ode','integral'])\n",
    "evalsum_df['problem_num'] = np.array([437,200,63,54,120])\n",
    "evalsum_df['gpt4turbo_0shot'] = np.array([13.4, 6.04, 32.1, 15.7, 14.9])\n",
    "evalsum_df['gpt4turbo_1shot'] = np.array([37.6, 36.5, 50.4, 20.3, 40.5])\n",
    "evalsum_df['gpt4turbo_5shot'] = np.array([46.3, 48.6, 58.1, 34.7, 41.4])\n",
    "evalsum_df['gpt3.5turbo_0shot'] = np.array([4.54, 5.05, 17.2, 7.41, 3.33])\n",
    "evalsum_df['gpt3.5turbo_1shot'] = np.array([14.8, 6.11, 28.9, 22.6, 18.2])\n",
    "evalsum_df['gpt3.5turbo_5shot'] = np.array([25.6, 24.3, 29.3, 32.1, 23.1])\n",
    "evalsum_df['llama3_0shot'] = np.array([3.98, 0.50, 11.3, 11.6, 2.52])\n",
    "evalsum_df['llama3_5shot'] = np.array([21.1, 17.9, 17.5, 21.9, 28.1])\n",
    "evalsum_df['codellama_0shot'] = np.array([3.13, 0.00, 8.0, 14.1, 0.50])\n",
    "evalsum_df['codellama_5shot'] = np.array([10.3, 8.41, 13.1, 15.3, 9.57])"
   ]
  },
  {
   "cell_type": "code",
   "execution_count": null,
   "metadata": {},
   "outputs": [],
   "source": [
    "# by model\n",
    "fig, ax  = plt.subplots(figsize=(5,5))\n",
    "ax.plot(np.arange(3),evalsum_df.iloc[0,2:5],color = 'tab:blue',marker='o',label ='gpt-4')\n",
    "for i in range(1,5):\n",
    "    ax.plot(np.arange(3),evalsum_df.iloc[i,2:5],'--',color = 'tab:blue',marker='o',alpha=0.3)\n",
    "ax.plot(np.arange(3),evalsum_df.iloc[0,5:8],color = 'tab:purple',marker='o',label ='gpt-3.5')\n",
    "for i in range(1,5):\n",
    "    ax.plot(np.arange(3),evalsum_df.iloc[i,5:8],'--',color = 'tab:purple',marker='o',alpha=0.3)\n",
    "ax.plot([0,2],evalsum_df.iloc[0,8:10],color = 'tab:orange',marker='o',label ='llama3-7b')\n",
    "for i in range(1,5):\n",
    "    ax.plot([0,2],evalsum_df.iloc[i,8:10],'--',color = 'tab:orange',marker='o',alpha=0.3)\n",
    "ax.plot([0,2],evalsum_df.iloc[0,10:12],color = 'tab:red',marker='o',label ='codellama-13b')\n",
    "for i in range(1,5):\n",
    "    ax.plot([0,2],evalsum_df.iloc[i,10:12],'--',color = 'tab:red',marker='o',alpha=0.3)\n",
    "ax.set_xticks(np.arange(3))\n",
    "ax.set_xticklabels(['0-shot','1-shot','5-shot'])\n",
    "ax.set_ylabel('Accuracy (%)')\n",
    "#ax.legend()\n",
    "ax.legend(loc='upper center', bbox_to_anchor=(0.5, -0.05),\n",
    "          fancybox=True, shadow=True, ncol=5)"
   ]
  }
 ],
 "metadata": {
  "language_info": {
   "name": "python"
  },
  "orig_nbformat": 4
 },
 "nbformat": 4,
 "nbformat_minor": 2
}
