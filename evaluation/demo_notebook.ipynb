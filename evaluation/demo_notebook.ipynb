{
 "cells": [
  {
   "cell_type": "code",
   "execution_count": 2,
   "metadata": {},
   "outputs": [],
   "source": [
    "import create_problem_metadata\n",
    "import pandas as pd\n",
    "import numpy as np\n",
    "import utils"
   ]
  },
  {
   "cell_type": "code",
   "execution_count": 3,
   "metadata": {},
   "outputs": [
    {
     "name": "stdout",
     "output_type": "stream",
     "text": [
      "Saved 430 problems to data/eval_HARDMath.json\n",
      "Saved 6 examples to data/examples_HARDMath.json\n"
     ]
    }
   ],
   "source": [
    "# problem metadata creation\n",
    "# nondim_symbolic # 0\n",
    "# nondim_numeric # 100\n",
    "# polynomial_roots # 199\n",
    "# ODE # 262\n",
    "# laplace integral # 316\n",
    "# traditional integral # 376\n",
    "example_list = [0, 100, 199, 262, 316, 376]\n",
    "eval_df = utils.read_clean_csv(\"data/eval_HARDMath.csv\") # load in .csv file of problems\n",
    "problem_dict_all,example_dict_all = create_problem_metadata.create_problem_example_dict_all(eval_df,example_list) # get a .json file with fields"
   ]
  },
  {
   "cell_type": "code",
   "execution_count": null,
   "metadata": {},
   "outputs": [],
   "source": []
  }
 ],
 "metadata": {
  "kernelspec": {
   "display_name": "llm201",
   "language": "python",
   "name": "python3"
  },
  "language_info": {
   "codemirror_mode": {
    "name": "ipython",
    "version": 3
   },
   "file_extension": ".py",
   "mimetype": "text/x-python",
   "name": "python",
   "nbconvert_exporter": "python",
   "pygments_lexer": "ipython3",
   "version": "3.9.18"
  },
  "orig_nbformat": 4
 },
 "nbformat": 4,
 "nbformat_minor": 2
}
