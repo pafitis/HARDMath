{
 "cells": [
  {
   "cell_type": "code",
   "execution_count": 1,
   "metadata": {},
   "outputs": [],
   "source": [
    "import create_problem_metadata\n",
    "import pandas as pd\n",
    "import numpy as np\n",
    "import answer_extraction\n",
    "import re\n",
    "import utils"
   ]
  },
  {
   "cell_type": "code",
   "execution_count": 2,
   "metadata": {},
   "outputs": [
    {
     "name": "stdout",
     "output_type": "stream",
     "text": [
      "Saved 376 problems to data/eval_problems/eval_HARDMath.json\n"
     ]
    }
   ],
   "source": [
    "# problem metadata creation\n",
    "eval_df = pd.read_csv(\"data/eval_problems/eval_HARDMath.csv\")\n",
    "eval_df = eval_df.replace({np.nan: None})\n",
    "problem_dict_all = create_problem_metadata.create_problem_dict_all(eval_df)"
   ]
  },
  {
   "cell_type": "code",
   "execution_count": null,
   "metadata": {},
   "outputs": [],
   "source": []
  }
 ],
 "metadata": {
  "kernelspec": {
   "display_name": "llm201",
   "language": "python",
   "name": "python3"
  },
  "language_info": {
   "codemirror_mode": {
    "name": "ipython",
    "version": 3
   },
   "file_extension": ".py",
   "mimetype": "text/x-python",
   "name": "python",
   "nbconvert_exporter": "python",
   "pygments_lexer": "ipython3",
   "version": "3.9.18"
  },
  "orig_nbformat": 4
 },
 "nbformat": 4,
 "nbformat_minor": 2
}
