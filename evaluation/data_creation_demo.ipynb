{
 "cells": [
  {
   "cell_type": "code",
   "execution_count": 1,
   "metadata": {},
   "outputs": [],
   "source": [
    "import create_problem_metadata\n",
    "import utils"
   ]
  },
  {
   "cell_type": "code",
   "execution_count": 10,
   "metadata": {},
   "outputs": [
    {
     "name": "stdout",
     "output_type": "stream",
     "text": [
      "Saved 366 problems to data/eval_HARDMath.json\n"
     ]
    }
   ],
   "source": [
    "# problem metadata creation\n",
    "# nondim_symbolic # 0\n",
    "# nondim_numeric # 100\n",
    "# polynomial_roots # 199\n",
    "# ODE # 262\n",
    "# laplace integral # 316\n",
    "# traditional integral # 376\n",
    "example_list = []\n",
    "eval_df = utils.read_clean_csv(\"data/eval_HARDMath.csv\") \n",
    "problem_dict_all,example_dict_all = create_problem_metadata.create_problem_example_dict_all(eval_df,example_list) "
   ]
  },
  {
   "cell_type": "code",
   "execution_count": 11,
   "metadata": {},
   "outputs": [
    {
     "name": "stdout",
     "output_type": "stream",
     "text": [
      "Saved 40 problems to data/word_problems_HARDMath.json\n"
     ]
    }
   ],
   "source": [
    "# word problems creation\n",
    "example_list = []\n",
    "word_problem_df = utils.read_clean_csv(\"data/word_problems_HARDMath.csv\") \n",
    "word_problem_df.set_index('Index',inplace=True)\n",
    "problem_dict_all,example_dict_all = create_problem_metadata.create_problem_example_dict_all(word_problem_df,example_list,\\\n",
    "                            problem_dict_path = \"data/word_problems_HARDMath.json\",example_dict_path = None) "
   ]
  },
  {
   "cell_type": "code",
   "execution_count": 12,
   "metadata": {},
   "outputs": [
    {
     "name": "stdout",
     "output_type": "stream",
     "text": [
      "Saved 50 problems to data/HARDMath_shot_examples.json\n"
     ]
    }
   ],
   "source": [
    "# shot examples\n",
    "example_list = []\n",
    "shot_df = utils.read_clean_csv(\"data/HARDMath_shot_examples.csv\")\n",
    "shot_df.set_index('Index',inplace=True) \n",
    "problem_dict_all,example_dict_all = create_problem_metadata.create_problem_example_dict_all(shot_df,example_list,\\\n",
    "                            problem_dict_path = \"data/HARDMath_shot_examples.json\",example_dict_path = None) "
   ]
  },
  {
   "cell_type": "code",
   "execution_count": 13,
   "metadata": {},
   "outputs": [
    {
     "name": "stdout",
     "output_type": "stream",
     "text": [
      "Saved 1060 problems to ../data/heldout_HARDMath.json\n"
     ]
    }
   ],
   "source": [
    "# heldout problems creation \n",
    "example_list = []\n",
    "heldout_df = utils.read_clean_csv(\"../data/heldout_HARDMath.csv\") \n",
    "heldout_df.set_index('Index',inplace=True) \n",
    "problem_dict_all,example_dict_all = create_problem_metadata.create_problem_example_dict_all(heldout_df,example_list,\\\n",
    "                            problem_dict_path = \"../data/heldout_HARDMath.json\",example_dict_path = None)"
   ]
  },
  {
   "cell_type": "code",
   "execution_count": 17,
   "metadata": {},
   "outputs": [
    {
     "name": "stdout",
     "output_type": "stream",
     "text": [
      "Saved 1926 problems to ../data/HARDMath_all.json\n"
     ]
    }
   ],
   "source": [
    "# all problems creation (including evaluated problems and word problems)\n",
    "example_list = []\n",
    "dataset_df = utils.read_clean_csv(\"../data/HARDMath_all.csv\") \n",
    "problem_dict_all,example_dict_all = create_problem_metadata.create_problem_example_dict_all(dataset_df,example_list,\\\n",
    "                            problem_dict_path = \"../data/HARDMath_all.json\",example_dict_path = None)"
   ]
  },
  {
   "cell_type": "code",
   "execution_count": null,
   "metadata": {},
   "outputs": [],
   "source": []
  }
 ],
 "metadata": {
  "kernelspec": {
   "display_name": "llm201",
   "language": "python",
   "name": "python3"
  },
  "language_info": {
   "codemirror_mode": {
    "name": "ipython",
    "version": 3
   },
   "file_extension": ".py",
   "mimetype": "text/x-python",
   "name": "python",
   "nbconvert_exporter": "python",
   "pygments_lexer": "ipython3",
   "version": "3.9.18"
  },
  "orig_nbformat": 4
 },
 "nbformat": 4,
 "nbformat_minor": 2
}
