{
 "cells": [
  {
   "cell_type": "code",
   "execution_count": 1,
   "metadata": {},
   "outputs": [],
   "source": [
    "import create_problem_metadata\n",
    "import pandas as pd\n",
    "import numpy as np\n",
    "import utils\n",
    "import json\n",
    "import os"
   ]
  },
  {
   "cell_type": "code",
   "execution_count": 2,
   "metadata": {},
   "outputs": [
    {
     "name": "stdout",
     "output_type": "stream",
     "text": [
      "Saved 430 problems to data/eval_HARDMath.json\n",
      "Saved 6 examples to data/examples_HARDMath_1shot.json\n"
     ]
    }
   ],
   "source": [
    "# problem metadata creation\n",
    "# nondim_symbolic # 0\n",
    "# nondim_numeric # 100\n",
    "# polynomial_roots # 199\n",
    "# ODE # 262\n",
    "# laplace integral # 316\n",
    "# traditional integral # 376\n",
    "example_list = [0, 100, 199, 262, 316, 376]\n",
    "eval_df = utils.read_clean_csv(\"data/eval_HARDMath.csv\") \n",
    "problem_dict_all,example_dict_all = create_problem_metadata.create_problem_example_dict_all(eval_df,example_list) "
   ]
  },
  {
   "cell_type": "code",
   "execution_count": 4,
   "metadata": {},
   "outputs": [
    {
     "name": "stdout",
     "output_type": "stream",
     "text": [
      "Saved 40 problems to data/word_problems_HARDMath.json\n"
     ]
    }
   ],
   "source": [
    "# word problems creation\n",
    "example_list = []\n",
    "word_problem_df = utils.read_clean_csv(\"data/word_problems_HARDMath.csv\") \n",
    "problem_dict_all,example_dict_all = create_problem_metadata.create_problem_example_dict_all(word_problem_df,example_list,\\\n",
    "                            problem_dict_path = \"data/word_problems_HARDMath.json\",example_dict_path = None) "
   ]
  },
  {
   "cell_type": "code",
   "execution_count": 39,
   "metadata": {},
   "outputs": [
    {
     "name": "stdout",
     "output_type": "stream",
     "text": [
      "Saved 1453 problems to ../data/HARDMath.json\n"
     ]
    }
   ],
   "source": [
    "# all problems creation\n",
    "example_list = []\n",
    "dataset_df = utils.read_clean_csv(\"../data/HARDMath.csv\") \n",
    "problem_dict_all,example_dict_all = create_problem_metadata.create_problem_example_dict_all(dataset_df,example_list,\\\n",
    "                            problem_dict_path = \"../data/HARDMath.json\",example_dict_path = None)"
   ]
  }
 ],
 "metadata": {
  "kernelspec": {
   "display_name": "llm201",
   "language": "python",
   "name": "python3"
  },
  "language_info": {
   "codemirror_mode": {
    "name": "ipython",
    "version": 3
   },
   "file_extension": ".py",
   "mimetype": "text/x-python",
   "name": "python",
   "nbconvert_exporter": "python",
   "pygments_lexer": "ipython3",
   "version": "3.9.6"
  },
  "orig_nbformat": 4
 },
 "nbformat": 4,
 "nbformat_minor": 2
}
