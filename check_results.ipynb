{
 "cells": [
  {
   "cell_type": "markdown",
   "metadata": {},
   "source": [
    "### Check first results"
   ]
  },
  {
   "cell_type": "code",
   "execution_count": 2,
   "metadata": {},
   "outputs": [],
   "source": [
    "from evaluation.answer_extraction import extract_boxed_content, extract_final_answer_allform\n",
    "import pandas as pd\n",
    "import numpy as np"
   ]
  },
  {
   "cell_type": "code",
   "execution_count": 10,
   "metadata": {},
   "outputs": [],
   "source": [
    "results_fullrun = pd.read_json('results/llama31_8b/full_runs/results_llama31instruct8b_HARDMath_full_100225.json').T\n",
    "data_fullrun = pd.read_json('data/HARDMath.json').T"
   ]
  },
  {
   "cell_type": "code",
   "execution_count": 20,
   "metadata": {},
   "outputs": [
    {
     "data": {
      "text/html": [
       "<div>\n",
       "<style scoped>\n",
       "    .dataframe tbody tr th:only-of-type {\n",
       "        vertical-align: middle;\n",
       "    }\n",
       "\n",
       "    .dataframe tbody tr th {\n",
       "        vertical-align: top;\n",
       "    }\n",
       "\n",
       "    .dataframe thead th {\n",
       "        text-align: right;\n",
       "    }\n",
       "</style>\n",
       "<table border=\"1\" class=\"dataframe\">\n",
       "  <thead>\n",
       "    <tr style=\"text-align: right;\">\n",
       "      <th></th>\n",
       "      <th>question</th>\n",
       "      <th>solution</th>\n",
       "      <th>question_type</th>\n",
       "      <th>answer_type</th>\n",
       "      <th>answer_val</th>\n",
       "      <th>precision</th>\n",
       "      <th>small_eval_point</th>\n",
       "      <th>small_analytical</th>\n",
       "      <th>small_numerical</th>\n",
       "      <th>large_eval_point</th>\n",
       "      <th>large_analytical</th>\n",
       "      <th>large_numerical</th>\n",
       "    </tr>\n",
       "  </thead>\n",
       "  <tbody>\n",
       "    <tr>\n",
       "      <th>0</th>\n",
       "      <td>Nondimensionalize the polynomial\\[a_{1} x^{21}...</td>\n",
       "      <td>We begin with the substitution $x=y \\sqrt[4]{\\...</td>\n",
       "      <td>nondimensionalization_symbolic</td>\n",
       "      <td>math_expression</td>\n",
       "      <td>$$ \\boxed{\\epsilon=\\frac{a_{1} \\left(\\frac{a_{...</td>\n",
       "      <td>None</td>\n",
       "      <td>None</td>\n",
       "      <td>None</td>\n",
       "      <td>None</td>\n",
       "      <td>None</td>\n",
       "      <td>None</td>\n",
       "      <td>None</td>\n",
       "    </tr>\n",
       "    <tr>\n",
       "      <th>1</th>\n",
       "      <td>Consider the integral $I(\\epsilon) = \\int_0^{9...</td>\n",
       "      <td>\\n    The integral is of the form $I(\\epsilon)...</td>\n",
       "      <td>integral</td>\n",
       "      <td>list</td>\n",
       "      <td>\\n    $$\\boxed{[\\frac{1.0}{\\epsilon^{0.93}}, \\...</td>\n",
       "      <td>None</td>\n",
       "      <td>0.001</td>\n",
       "      <td>177.8279410038923</td>\n",
       "      <td>195.6974579763969</td>\n",
       "      <td>739072203.352578</td>\n",
       "      <td>4.741993149815411e-09</td>\n",
       "      <td>4.446554528320021e-09</td>\n",
       "    </tr>\n",
       "    <tr>\n",
       "      <th>2</th>\n",
       "      <td>Consider the following third-order ordinary di...</td>\n",
       "      <td>\\nThe solution in the small $x$ regime can be ...</td>\n",
       "      <td>ODE</td>\n",
       "      <td>list</td>\n",
       "      <td>$$\\boxed{[y = x^{3} \\cdot \\left(\\frac{7}{36} +...</td>\n",
       "      <td>None</td>\n",
       "      <td>0.1</td>\n",
       "      <td>2.11034247196604</td>\n",
       "      <td>2.109174882905415</td>\n",
       "      <td>0.703953</td>\n",
       "      <td>4.17202383888442</td>\n",
       "      <td>4.0775685775682975</td>\n",
       "    </tr>\n",
       "    <tr>\n",
       "      <th>3</th>\n",
       "      <td>Consider the integral \\par \\begin{equation} I(...</td>\n",
       "      <td>The integral is of the form \\begin{equation} I...</td>\n",
       "      <td>integral</td>\n",
       "      <td>math_expression</td>\n",
       "      <td>\\boxed{I(x) \\approx - \\frac{8 \\sqrt{5} \\sqrt{\\...</td>\n",
       "      <td>None</td>\n",
       "      <td>None</td>\n",
       "      <td>None</td>\n",
       "      <td>None</td>\n",
       "      <td>310.197859</td>\n",
       "      <td>-2133600000000.0</td>\n",
       "      <td>-2132560000000.0</td>\n",
       "    </tr>\n",
       "    <tr>\n",
       "      <th>4</th>\n",
       "      <td>Consider the polynomial\\[P(x) =\\epsilon x^{6} ...</td>\n",
       "      <td>We begin by equating the polynomial to zero to...</td>\n",
       "      <td>polynomial_roots_corrections</td>\n",
       "      <td>list</td>\n",
       "      <td>\\left[ \\frac{1.00}{3.00 \\left(- \\frac{1.00}{\\e...</td>\n",
       "      <td>None</td>\n",
       "      <td>0.01</td>\n",
       "      <td>[(2.320794416806389+4.019733843830848j), (2.32...</td>\n",
       "      <td>[-4.62590605+0.j          2.31295302+4.0061521...</td>\n",
       "      <td>100.0</td>\n",
       "      <td>[(-0.40197338438308483-0.23207944168063893j), ...</td>\n",
       "      <td>[-0.40578693+0.22534514j -0.40578693-0.2253451...</td>\n",
       "    </tr>\n",
       "  </tbody>\n",
       "</table>\n",
       "</div>"
      ],
      "text/plain": [
       "                                            question  \\\n",
       "0  Nondimensionalize the polynomial\\[a_{1} x^{21}...   \n",
       "1  Consider the integral $I(\\epsilon) = \\int_0^{9...   \n",
       "2  Consider the following third-order ordinary di...   \n",
       "3  Consider the integral \\par \\begin{equation} I(...   \n",
       "4  Consider the polynomial\\[P(x) =\\epsilon x^{6} ...   \n",
       "\n",
       "                                            solution  \\\n",
       "0  We begin with the substitution $x=y \\sqrt[4]{\\...   \n",
       "1  \\n    The integral is of the form $I(\\epsilon)...   \n",
       "2  \\nThe solution in the small $x$ regime can be ...   \n",
       "3  The integral is of the form \\begin{equation} I...   \n",
       "4  We begin by equating the polynomial to zero to...   \n",
       "\n",
       "                    question_type      answer_type  \\\n",
       "0  nondimensionalization_symbolic  math_expression   \n",
       "1                        integral             list   \n",
       "2                             ODE             list   \n",
       "3                        integral  math_expression   \n",
       "4    polynomial_roots_corrections             list   \n",
       "\n",
       "                                          answer_val precision  \\\n",
       "0  $$ \\boxed{\\epsilon=\\frac{a_{1} \\left(\\frac{a_{...      None   \n",
       "1  \\n    $$\\boxed{[\\frac{1.0}{\\epsilon^{0.93}}, \\...      None   \n",
       "2  $$\\boxed{[y = x^{3} \\cdot \\left(\\frac{7}{36} +...      None   \n",
       "3  \\boxed{I(x) \\approx - \\frac{8 \\sqrt{5} \\sqrt{\\...      None   \n",
       "4  \\left[ \\frac{1.00}{3.00 \\left(- \\frac{1.00}{\\e...      None   \n",
       "\n",
       "  small_eval_point                                   small_analytical  \\\n",
       "0             None                                               None   \n",
       "1            0.001                                  177.8279410038923   \n",
       "2              0.1                                   2.11034247196604   \n",
       "3             None                                               None   \n",
       "4             0.01  [(2.320794416806389+4.019733843830848j), (2.32...   \n",
       "\n",
       "                                     small_numerical  large_eval_point  \\\n",
       "0                                               None              None   \n",
       "1                                  195.6974579763969  739072203.352578   \n",
       "2                                  2.109174882905415          0.703953   \n",
       "3                                               None        310.197859   \n",
       "4  [-4.62590605+0.j          2.31295302+4.0061521...             100.0   \n",
       "\n",
       "                                    large_analytical  \\\n",
       "0                                               None   \n",
       "1                              4.741993149815411e-09   \n",
       "2                                   4.17202383888442   \n",
       "3                                   -2133600000000.0   \n",
       "4  [(-0.40197338438308483-0.23207944168063893j), ...   \n",
       "\n",
       "                                     large_numerical  \n",
       "0                                               None  \n",
       "1                              4.446554528320021e-09  \n",
       "2                                 4.0775685775682975  \n",
       "3                                   -2132560000000.0  \n",
       "4  [-0.40578693+0.22534514j -0.40578693-0.2253451...  "
      ]
     },
     "execution_count": 20,
     "metadata": {},
     "output_type": "execute_result"
    }
   ],
   "source": [
    "data_fullrun.head()"
   ]
  },
  {
   "cell_type": "code",
   "execution_count": 23,
   "metadata": {},
   "outputs": [
    {
     "name": "stdout",
     "output_type": "stream",
     "text": [
      "$$ \\boxed{\\epsilon=\\frac{a_{1} \\left(\\frac{a_{3}}{a_{2}}\\right)^{\\frac{21}{4}}}{a_{3}}} $$\n"
     ]
    }
   ],
   "source": [
    "print(data_fullrun.iloc[0,4])"
   ]
  },
  {
   "cell_type": "markdown",
   "metadata": {},
   "source": [
    "$$ \\boxed{\\epsilon=\\frac{a_{1} \\left(\\frac{a_{3}}{a_{2}}\\right)^{\\frac{21}{4}}}{a_{3}}} $$"
   ]
  },
  {
   "cell_type": "code",
   "execution_count": 25,
   "metadata": {},
   "outputs": [
    {
     "data": {
      "text/plain": [
       "'\\\\boxed{\\\\epsilon = \\\\frac{a_{1}}{a_{2}^{5.25}}}'"
      ]
     },
     "execution_count": 25,
     "metadata": {},
     "output_type": "execute_result"
    }
   ],
   "source": [
    "extract_boxed_content(results_fullrun.iloc[0,1])"
   ]
  },
  {
   "cell_type": "code",
   "execution_count": 26,
   "metadata": {},
   "outputs": [
    {
     "data": {
      "text/plain": [
       "' \\\\boxed{\\\\epsilon=\\\\frac{a_{1} \\\\left(\\\\frac{a_{3}}{a_{2}}\\\\right)^{\\\\frac{21}{4}}}{a_{3}}.}'"
      ]
     },
     "execution_count": 26,
     "metadata": {},
     "output_type": "execute_result"
    }
   ],
   "source": [
    "extract_boxed_content(data_fullrun.iloc[0,1])"
   ]
  },
  {
   "cell_type": "code",
   "execution_count": 29,
   "metadata": {},
   "outputs": [
    {
     "data": {
      "text/plain": [
       "'\\\\frac{a_{1}}{a_{2}^{5.25}}'"
      ]
     },
     "execution_count": 29,
     "metadata": {},
     "output_type": "execute_result"
    }
   ],
   "source": [
    "extract_final_answer_allform(results_fullrun.iloc[0,1])"
   ]
  },
  {
   "cell_type": "code",
   "execution_count": null,
   "metadata": {},
   "outputs": [
    {
     "data": {
      "text/plain": [
       "'\\\\frac{a_{1} \\\\left(\\\\frac{a_{3}}{a_{2}}\\\\right)^{\\\\frac{21}{4}}}{a_{3}}.'"
      ]
     },
     "execution_count": 30,
     "metadata": {},
     "output_type": "execute_result"
    }
   ],
   "source": [
    "extract_final_answer_allform(data_fullrun.iloc[0,1])"
   ]
  },
  {
   "cell_type": "code",
   "execution_count": null,
   "metadata": {},
   "outputs": [],
   "source": []
  }
 ],
 "metadata": {
  "kernelspec": {
   "display_name": "Python 3",
   "language": "python",
   "name": "python3"
  },
  "language_info": {
   "codemirror_mode": {
    "name": "ipython",
    "version": 3
   },
   "file_extension": ".py",
   "mimetype": "text/x-python",
   "name": "python",
   "nbconvert_exporter": "python",
   "pygments_lexer": "ipython3",
   "version": "3.12.8"
  }
 },
 "nbformat": 4,
 "nbformat_minor": 2
}
