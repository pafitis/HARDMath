{
 "cells": [
  {
   "cell_type": "code",
   "execution_count": 1,
   "metadata": {},
   "outputs": [],
   "source": [
    "from sympy import simplify\n",
    "from sympy.parsing.latex import parse_latex\n",
    "\n",
    "\n",
    "def safe_parse_latex(latex_str):\n",
    "    try:\n",
    "        return parse_latex(latex_str)\n",
    "    except Exception as e:\n",
    "        print(f\"Error parsing LaTeX: {e}\")\n",
    "        return None\n",
    "    \n",
    "def compare_answers(extracted_answer, model_answer):\n",
    "    if model_answer is None:\n",
    "        return 0\n",
    "    try:\n",
    "        # Convert the string answers to sympy expressions\n",
    "        extracted_answer_expr = safe_parse_latex(extracted_answer)\n",
    "        model_answer_expr = safe_parse_latex(model_answer)\n",
    "        # Compare the simplified difference\n",
    "        if simplify(extracted_answer_expr - model_answer_expr) == 0:\n",
    "            return 1\n",
    "    except Exception as e:\n",
    "        print(f\"Error in comparing answers: {e}\")\n",
    "        return 0\n",
    "    \n",
    "    return 0"
   ]
  },
  {
   "cell_type": "code",
   "execution_count": null,
   "metadata": {},
   "outputs": [
    {
     "data": {
      "text/latex": [
       "$\\displaystyle boxed$"
      ],
      "text/plain": [
       "boxed"
      ]
     },
     "execution_count": 7,
     "metadata": {},
     "output_type": "execute_result"
    }
   ],
   "source": [
    "parse_latex(\"\\\\boxed{\\\\epsilon = \\\\frac{a_{1}}{a_{2}^{5.25}}}\")"
   ]
  },
  {
   "cell_type": "code",
   "execution_count": 4,
   "metadata": {},
   "outputs": [
    {
     "data": {
      "text/latex": [
       "$\\displaystyle boxed$"
      ],
      "text/plain": [
       "boxed"
      ]
     },
     "execution_count": 4,
     "metadata": {},
     "output_type": "execute_result"
    }
   ],
   "source": [
    "safe_parse_latex(\"\\\\boxed{\\\\epsilon = \\\\frac{a_{1}}{a_{2}^{5.25}}}\")"
   ]
  },
  {
   "cell_type": "code",
   "execution_count": 6,
   "metadata": {},
   "outputs": [
    {
     "data": {
      "text/plain": [
       "1"
      ]
     },
     "execution_count": 6,
     "metadata": {},
     "output_type": "execute_result"
    }
   ],
   "source": [
    "compare_answers(\n",
    "    \"\\\\boxed{\\\\epsilon = \\\\frac{a_{1}}{a_{2}^{5.25}}}\", \n",
    "    \"\\\\boxed{\\\\epsilon=\\\\frac{a_{1} \\\\left(\\\\frac{a_{3}}{a_{2}}\\\\right)^{\\\\frac{21}{4}}}{a_{3}}.}\")"
   ]
  },
  {
   "cell_type": "code",
   "execution_count": 8,
   "metadata": {},
   "outputs": [],
   "source": [
    "test_string = '<think> This is my thinking process</think><answer>This is my answer</answer>'"
   ]
  },
  {
   "cell_type": "code",
   "execution_count": 11,
   "metadata": {},
   "outputs": [
    {
     "data": {
      "text/plain": [
       "35"
      ]
     },
     "execution_count": 11,
     "metadata": {},
     "output_type": "execute_result"
    }
   ],
   "source": [
    "test_string.find('</think><answer>')"
   ]
  },
  {
   "cell_type": "code",
   "execution_count": 14,
   "metadata": {},
   "outputs": [],
   "source": [
    "import pandas as pd\n",
    "data=pd.read_csv('data/HARDMath_processed.csv')"
   ]
  },
  {
   "cell_type": "code",
   "execution_count": null,
   "metadata": {},
   "outputs": [],
   "source": [
    "import re\n",
    "def format_reward(prediction, eos_token = '<|eot_id|>'):\n",
    "    '''\n",
    "    The desired format should contain two main blocks\n",
    "        <think> ... </think>\n",
    "        \\n\n",
    "        <answer>$$\\boxed{...}$$</answer>EOS_TOKEN\n",
    "\n",
    "    Thoughts:\n",
    "        1. The final answer should use \\\\boxed LaTeX\n",
    "        2. The final answer should be enclosed within <answer> </answer>    \n",
    "        3. There should be no \\\\boxed string within <think> </think>\n",
    "        4. EOS should appear after </answer>\n",
    "\n",
    "    Note:\n",
    "        Compared re, .find, `in` approaches \n",
    "        `in` appears fastest, however, `in` requires at least 3 checks which in turn\n",
    "        makes it slower than a single regex search\n",
    "\n",
    "        Missing <> should be captured, as well as wrong order\n",
    "        No extra chars, before or after\n",
    "    '''\n",
    "    reward = 0\n",
    "    # Checks general formatting\n",
    "    # Check if starts with <think> and ends with </answer>\n",
    "    \n",
    "    # Checks that \\boxed does not appear in <think> </think>\n",
    "        # (?:(?!\\\\boxed\\{).)*\n",
    "    # Checks that $$\\boxed{...} appears in <answer> </answer>\n",
    "    # incl. whitepsaces to match HARDMath format\n",
    "        # \\$\\$\\\\boxed.*\\}\\$\\$\n",
    "    # Checks that thinking and answering parts are sep by new line\n",
    "        # </think>\\\\n<answer>\n",
    "    pattern = (\n",
    "        r'^<think>(?:(?!\\\\boxed\\{).)*</think>\\n<answer>\\$\\$ \\\\boxed.*\\} \\$\\$</answer>'\n",
    "    )\n",
    "    if re.match(pattern, prediction, re.DOTALL):\n",
    "        reward += 1\n",
    "    return reward"
   ]
  },
  {
   "cell_type": "code",
   "execution_count": 38,
   "metadata": {},
   "outputs": [
    {
     "data": {
      "text/plain": [
       "1"
      ]
     },
     "execution_count": 38,
     "metadata": {},
     "output_type": "execute_result"
    }
   ],
   "source": [
    "format_reward('<think></think>\\n<answer>$$ \\\\boxed{} $$</answer>')"
   ]
  },
  {
   "cell_type": "code",
   "execution_count": null,
   "metadata": {},
   "outputs": [],
   "source": []
  },
  {
   "cell_type": "code",
   "execution_count": null,
   "metadata": {},
   "outputs": [],
   "source": []
  },
  {
   "cell_type": "code",
   "execution_count": 29,
   "metadata": {},
   "outputs": [
    {
     "data": {
      "text/plain": [
       "0"
      ]
     },
     "execution_count": 29,
     "metadata": {},
     "output_type": "execute_result"
    }
   ],
   "source": [
    "format_reward('<think> oti\\fracboxed \\\\boxed{} </think>\\n<answer>$$\\\\boxed{}$$</answer>')"
   ]
  },
  {
   "cell_type": "code",
   "execution_count": 32,
   "metadata": {},
   "outputs": [
    {
     "name": "stdout",
     "output_type": "stream",
     "text": [
      "<think> oti\fracboxed \\boxed{} </think>\n",
      "<answer>$$\\boxed{}$$</answer>\n"
     ]
    }
   ],
   "source": [
    "print('<think> oti\\fracboxed \\\\boxed{} </think>\\n<answer>$$\\\\boxed{}$$</answer>')"
   ]
  },
  {
   "cell_type": "code",
   "execution_count": 35,
   "metadata": {},
   "outputs": [
    {
     "name": "stdout",
     "output_type": "stream",
     "text": [
      "$$ \\boxed{\\epsilon=\\frac{a_{1} \\left(\\frac{a_{3}}{a_{2}}\\right)^{\\frac{11}{4}}}{a_{3}}} $$\n"
     ]
    }
   ],
   "source": [
    "print(data['extracted_answer'][3])"
   ]
  },
  {
   "cell_type": "code",
   "execution_count": null,
   "metadata": {},
   "outputs": [],
   "source": []
  },
  {
   "cell_type": "code",
   "execution_count": null,
   "metadata": {},
   "outputs": [],
   "source": [
    "\n"
   ]
  },
  {
   "cell_type": "code",
   "execution_count": null,
   "metadata": {},
   "outputs": [],
   "source": []
  },
  {
   "cell_type": "code",
   "execution_count": 15,
   "metadata": {},
   "outputs": [
    {
     "data": {
      "text/html": [
       "<div>\n",
       "<style scoped>\n",
       "    .dataframe tbody tr th:only-of-type {\n",
       "        vertical-align: middle;\n",
       "    }\n",
       "\n",
       "    .dataframe tbody tr th {\n",
       "        vertical-align: top;\n",
       "    }\n",
       "\n",
       "    .dataframe thead th {\n",
       "        text-align: right;\n",
       "    }\n",
       "</style>\n",
       "<table border=\"1\" class=\"dataframe\">\n",
       "  <thead>\n",
       "    <tr style=\"text-align: right;\">\n",
       "      <th></th>\n",
       "      <th>Index</th>\n",
       "      <th>question</th>\n",
       "      <th>solution</th>\n",
       "      <th>question_type</th>\n",
       "      <th>answer_type</th>\n",
       "      <th>extracted_answer</th>\n",
       "      <th>source</th>\n",
       "    </tr>\n",
       "  </thead>\n",
       "  <tbody>\n",
       "    <tr>\n",
       "      <th>0</th>\n",
       "      <td>476</td>\n",
       "      <td>Nondimensionalize the polynomial\\[a_{1} x^{10}...</td>\n",
       "      <td>We begin with the substitution\\[x=\\frac{a_{3} ...</td>\n",
       "      <td>nondimensionalization_symbolic</td>\n",
       "      <td>math_expression</td>\n",
       "      <td>$$ \\boxed{\\epsilon=\\frac{a_{1} a_{3}^{9}}{a_{2...</td>\n",
       "      <td>poly1_train</td>\n",
       "    </tr>\n",
       "    <tr>\n",
       "      <th>1</th>\n",
       "      <td>477</td>\n",
       "      <td>Nondimensionalize the polynomial\\[a_{1} x^{23}...</td>\n",
       "      <td>We begin with the substitution\\[x=y \\sqrt[9]{\\...</td>\n",
       "      <td>nondimensionalization_symbolic</td>\n",
       "      <td>math_expression</td>\n",
       "      <td>$$ \\boxed{\\epsilon=\\frac{a_{1} \\left(\\frac{a_{...</td>\n",
       "      <td>poly1_train</td>\n",
       "    </tr>\n",
       "    <tr>\n",
       "      <th>2</th>\n",
       "      <td>478</td>\n",
       "      <td>Nondimensionalize the polynomial\\[a_{1} x^{21}...</td>\n",
       "      <td>We begin with the substitution\\[x=y \\sqrt[10]{...</td>\n",
       "      <td>nondimensionalization_symbolic</td>\n",
       "      <td>math_expression</td>\n",
       "      <td>$$ \\boxed{\\epsilon=\\frac{a_{1} \\left(\\frac{a_{...</td>\n",
       "      <td>poly1_train</td>\n",
       "    </tr>\n",
       "    <tr>\n",
       "      <th>3</th>\n",
       "      <td>479</td>\n",
       "      <td>Nondimensionalize the polynomial\\[a_{1} x^{11}...</td>\n",
       "      <td>We begin with the substitution\\[x=y \\sqrt[4]{\\...</td>\n",
       "      <td>nondimensionalization_symbolic</td>\n",
       "      <td>math_expression</td>\n",
       "      <td>$$ \\boxed{\\epsilon=\\frac{a_{1} \\left(\\frac{a_{...</td>\n",
       "      <td>poly1_train</td>\n",
       "    </tr>\n",
       "    <tr>\n",
       "      <th>4</th>\n",
       "      <td>480</td>\n",
       "      <td>Nondimensionalize the polynomial\\[a_{1} x^{11}...</td>\n",
       "      <td>We begin with the substitution\\[x=\\frac{a_{3} ...</td>\n",
       "      <td>nondimensionalization_symbolic</td>\n",
       "      <td>math_expression</td>\n",
       "      <td>$$ \\boxed{\\epsilon=\\frac{a_{1} a_{3}^{10}}{a_{...</td>\n",
       "      <td>poly1_train</td>\n",
       "    </tr>\n",
       "    <tr>\n",
       "      <th>...</th>\n",
       "      <td>...</td>\n",
       "      <td>...</td>\n",
       "      <td>...</td>\n",
       "      <td>...</td>\n",
       "      <td>...</td>\n",
       "      <td>...</td>\n",
       "      <td>...</td>\n",
       "    </tr>\n",
       "    <tr>\n",
       "      <th>848</th>\n",
       "      <td>1921</td>\n",
       "      <td>Consider the integral $I(\\epsilon) = \\int_0^{4...</td>\n",
       "      <td>\\n    The integral is of the form $I(\\epsilon)...</td>\n",
       "      <td>integral</td>\n",
       "      <td>list</td>\n",
       "      <td>\\n    $$\\boxed{[\\frac{0.85}{\\epsilon^{0.93}}, ...</td>\n",
       "      <td>simple_integral_train</td>\n",
       "    </tr>\n",
       "    <tr>\n",
       "      <th>849</th>\n",
       "      <td>1922</td>\n",
       "      <td>Consider the integral $I(\\epsilon) = \\int_0^{4...</td>\n",
       "      <td>\\n    The integral is of the form $I(\\epsilon)...</td>\n",
       "      <td>integral</td>\n",
       "      <td>list</td>\n",
       "      <td>\\n    $$\\boxed{[\\frac{0.92}{\\epsilon^{0.88}}, ...</td>\n",
       "      <td>simple_integral_train</td>\n",
       "    </tr>\n",
       "    <tr>\n",
       "      <th>850</th>\n",
       "      <td>1923</td>\n",
       "      <td>Consider the integral $I(\\epsilon) = \\int_0^{2...</td>\n",
       "      <td>\\n    The integral is of the form $I(\\epsilon)...</td>\n",
       "      <td>integral</td>\n",
       "      <td>list</td>\n",
       "      <td>\\n    $$\\boxed{[\\frac{0.91}{\\epsilon^{0.95}}, ...</td>\n",
       "      <td>simple_integral_train</td>\n",
       "    </tr>\n",
       "    <tr>\n",
       "      <th>851</th>\n",
       "      <td>1924</td>\n",
       "      <td>Consider the integral $I(\\epsilon) = \\int_0^{5...</td>\n",
       "      <td>\\n    The integral is of the form $I(\\epsilon)...</td>\n",
       "      <td>integral</td>\n",
       "      <td>list</td>\n",
       "      <td>\\n    $$\\boxed{[\\frac{0.85}{\\epsilon^{0.93}}, ...</td>\n",
       "      <td>simple_integral_train</td>\n",
       "    </tr>\n",
       "    <tr>\n",
       "      <th>852</th>\n",
       "      <td>1925</td>\n",
       "      <td>Consider the integral $I(\\epsilon) = \\int_0^{1...</td>\n",
       "      <td>\\n    The integral is of the form $I(\\epsilon)...</td>\n",
       "      <td>integral</td>\n",
       "      <td>list</td>\n",
       "      <td>\\n    $$\\boxed{[\\frac{0.88}{\\epsilon^{0.94}}, ...</td>\n",
       "      <td>simple_integral_train</td>\n",
       "    </tr>\n",
       "  </tbody>\n",
       "</table>\n",
       "<p>853 rows × 7 columns</p>\n",
       "</div>"
      ],
      "text/plain": [
       "     Index                                           question  \\\n",
       "0      476  Nondimensionalize the polynomial\\[a_{1} x^{10}...   \n",
       "1      477  Nondimensionalize the polynomial\\[a_{1} x^{23}...   \n",
       "2      478  Nondimensionalize the polynomial\\[a_{1} x^{21}...   \n",
       "3      479  Nondimensionalize the polynomial\\[a_{1} x^{11}...   \n",
       "4      480  Nondimensionalize the polynomial\\[a_{1} x^{11}...   \n",
       "..     ...                                                ...   \n",
       "848   1921  Consider the integral $I(\\epsilon) = \\int_0^{4...   \n",
       "849   1922  Consider the integral $I(\\epsilon) = \\int_0^{4...   \n",
       "850   1923  Consider the integral $I(\\epsilon) = \\int_0^{2...   \n",
       "851   1924  Consider the integral $I(\\epsilon) = \\int_0^{5...   \n",
       "852   1925  Consider the integral $I(\\epsilon) = \\int_0^{1...   \n",
       "\n",
       "                                              solution  \\\n",
       "0    We begin with the substitution\\[x=\\frac{a_{3} ...   \n",
       "1    We begin with the substitution\\[x=y \\sqrt[9]{\\...   \n",
       "2    We begin with the substitution\\[x=y \\sqrt[10]{...   \n",
       "3    We begin with the substitution\\[x=y \\sqrt[4]{\\...   \n",
       "4    We begin with the substitution\\[x=\\frac{a_{3} ...   \n",
       "..                                                 ...   \n",
       "848  \\n    The integral is of the form $I(\\epsilon)...   \n",
       "849  \\n    The integral is of the form $I(\\epsilon)...   \n",
       "850  \\n    The integral is of the form $I(\\epsilon)...   \n",
       "851  \\n    The integral is of the form $I(\\epsilon)...   \n",
       "852  \\n    The integral is of the form $I(\\epsilon)...   \n",
       "\n",
       "                      question_type      answer_type  \\\n",
       "0    nondimensionalization_symbolic  math_expression   \n",
       "1    nondimensionalization_symbolic  math_expression   \n",
       "2    nondimensionalization_symbolic  math_expression   \n",
       "3    nondimensionalization_symbolic  math_expression   \n",
       "4    nondimensionalization_symbolic  math_expression   \n",
       "..                              ...              ...   \n",
       "848                        integral             list   \n",
       "849                        integral             list   \n",
       "850                        integral             list   \n",
       "851                        integral             list   \n",
       "852                        integral             list   \n",
       "\n",
       "                                      extracted_answer                 source  \n",
       "0    $$ \\boxed{\\epsilon=\\frac{a_{1} a_{3}^{9}}{a_{2...            poly1_train  \n",
       "1    $$ \\boxed{\\epsilon=\\frac{a_{1} \\left(\\frac{a_{...            poly1_train  \n",
       "2    $$ \\boxed{\\epsilon=\\frac{a_{1} \\left(\\frac{a_{...            poly1_train  \n",
       "3    $$ \\boxed{\\epsilon=\\frac{a_{1} \\left(\\frac{a_{...            poly1_train  \n",
       "4    $$ \\boxed{\\epsilon=\\frac{a_{1} a_{3}^{10}}{a_{...            poly1_train  \n",
       "..                                                 ...                    ...  \n",
       "848  \\n    $$\\boxed{[\\frac{0.85}{\\epsilon^{0.93}}, ...  simple_integral_train  \n",
       "849  \\n    $$\\boxed{[\\frac{0.92}{\\epsilon^{0.88}}, ...  simple_integral_train  \n",
       "850  \\n    $$\\boxed{[\\frac{0.91}{\\epsilon^{0.95}}, ...  simple_integral_train  \n",
       "851  \\n    $$\\boxed{[\\frac{0.85}{\\epsilon^{0.93}}, ...  simple_integral_train  \n",
       "852  \\n    $$\\boxed{[\\frac{0.88}{\\epsilon^{0.94}}, ...  simple_integral_train  \n",
       "\n",
       "[853 rows x 7 columns]"
      ]
     },
     "execution_count": 15,
     "metadata": {},
     "output_type": "execute_result"
    }
   ],
   "source": [
    "data"
   ]
  },
  {
   "cell_type": "code",
   "execution_count": null,
   "metadata": {},
   "outputs": [],
   "source": []
  }
 ],
 "metadata": {
  "kernelspec": {
   "display_name": "Python 3",
   "language": "python",
   "name": "python3"
  },
  "language_info": {
   "codemirror_mode": {
    "name": "ipython",
    "version": 3
   },
   "file_extension": ".py",
   "mimetype": "text/x-python",
   "name": "python",
   "nbconvert_exporter": "python",
   "pygments_lexer": "ipython3",
   "version": "3.12.8"
  }
 },
 "nbformat": 4,
 "nbformat_minor": 2
}
